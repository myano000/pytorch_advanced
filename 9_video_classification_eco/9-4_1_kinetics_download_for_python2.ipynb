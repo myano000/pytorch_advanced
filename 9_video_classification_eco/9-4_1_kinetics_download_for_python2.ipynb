{
 "cells": [
  {
   "cell_type": "markdown",
   "metadata": {},
   "source": [
    "# 9.4.1 Kinetics動画のダウンロード\n",
    "\n",
    "本ファイルでは、Kinetics動画をダウンロードします。\n"
   ]
  },
  {
   "cell_type": "markdown",
   "metadata": {},
   "source": [
    "## 解説"
   ]
  },
  {
   "cell_type": "markdown",
   "metadata": {},
   "source": [
    "https://github.com/activitynet/ActivityNet/tree/master/Crawler/Kinetics\n",
    "\n",
    "のKineticsの動画ダウンロード環境を利用します。\n",
    "\n",
    "Python2系なので、新しい仮想環境を作成します。\n",
    "今いるディレクトリはUbuntuのhomeです。\n",
    "\n",
    "以下のコマンドをターミナルで実行し、フォルダ「video_download」のファイル「environment.yml」に記載したパッケージをインストールした仮想環境を作成します\n",
    "\n",
    "- source deactivate\n",
    "\n",
    "- conda env create -f ./9_video_classification_eco/video_download/environment.yml\n",
    "\n",
    "作成した仮想環境に入ります\n",
    "\n",
    "- source activate kinetics\n",
    "\n",
    "youtube-dlのパッケージを更新インストールします\n",
    "\n",
    "- pip install --upgrade youtube-dl\n",
    "\n",
    "- pip install --upgrade joblib\n",
    "\n",
    "これで準備ができたので、JupyteNotebookを立ち上げ、本ファイルを実行します\n",
    "\n",
    "- jupyter notebook --port 9999\n"
   ]
  },
  {
   "cell_type": "markdown",
   "metadata": {},
   "source": [
    "python2で動かなかったので、python3にて動くように修正する。仮想環境は変えなくてよい。\n",
    "ちなみに、引数ありでデバッグする場合の設定は下記を参照する\n",
    "https://qiita.com/junjis0203/items/529611662127f59b1bf7\n"
   ]
  },
  {
   "cell_type": "code",
   "execution_count": 1,
   "metadata": {},
   "outputs": [
    {
     "name": "stdout",
     "output_type": "stream",
     "text": [
      "[youtube] Extracting URL: https://www.youtube.com/watch?v=b6yQZjPE26c\n",
      "[youtube] b6yQZjPE26c: Downloading webpage\n",
      "[youtube] Extracting URL: https://www.youtube.com/watch?v=zkXOcxGnUhs\n",
      "[youtube] zkXOcxGnUhs: Downloading webpage\n",
      "[youtube] Extracting URL: https://www.youtube.com/watch?v=dAeUFSdYG1I\n",
      "[youtube] dAeUFSdYG1I: Downloading webpage\n",
      "[youtube] b6yQZjPE26c: Downloading ios player API JSON\n",
      "[youtube] b6yQZjPE26c: Downloading mweb player API JSON\n",
      "\u001b[0;31mERROR:\u001b[0m [youtube] b6yQZjPE26c: Private video. Sign in if you've been granted access to this video\n",
      "Process LokyProcess-8:\n",
      "Traceback (most recent call last):\n",
      "  File \"/opt/conda/lib/python3.10/site-packages/yt_dlp/YoutubeDL.py\", line 1626, in wrapper\n",
      "    return func(self, *args, **kwargs)\n",
      "  File \"/opt/conda/lib/python3.10/site-packages/yt_dlp/YoutubeDL.py\", line 1761, in __extract_info\n",
      "    ie_result = ie.extract(url)\n",
      "  File \"/opt/conda/lib/python3.10/site-packages/yt_dlp/extractor/common.py\", line 741, in extract\n",
      "    ie_result = self._real_extract(url)\n",
      "  File \"/opt/conda/lib/python3.10/site-packages/yt_dlp/extractor/youtube.py\", line 4468, in _real_extract\n",
      "    self.raise_no_formats(reason, expected=True)\n",
      "  File \"/opt/conda/lib/python3.10/site-packages/yt_dlp/extractor/common.py\", line 1275, in raise_no_formats\n",
      "    raise ExtractorError(msg, expected=expected, video_id=video_id)\n",
      "yt_dlp.utils.ExtractorError: [youtube] b6yQZjPE26c: Private video. Sign in if you've been granted access to this video\n",
      "\n",
      "During handling of the above exception, another exception occurred:\n",
      "\n",
      "Traceback (most recent call last):\n",
      "  File \"/opt/conda/lib/python3.10/site-packages/joblib/externals/loky/process_executor.py\", line 463, in _process_worker\n",
      "    r = call_item()\n",
      "  File \"/opt/conda/lib/python3.10/site-packages/joblib/externals/loky/process_executor.py\", line 291, in __call__\n",
      "    return self.fn(*self.args, **self.kwargs)\n",
      "  File \"/opt/conda/lib/python3.10/site-packages/joblib/parallel.py\", line 598, in __call__\n",
      "    return [func(*args, **kwargs)\n",
      "  File \"/opt/conda/lib/python3.10/site-packages/joblib/parallel.py\", line 598, in <listcomp>\n",
      "    return [func(*args, **kwargs)\n",
      "  File \"/workspace/pytorch_advanced/9_video_classification_eco/./video_download/download copy.py\", line 151, in download_clip_wrapper\n",
      "    downloaded, log = download_clip(row['video-id'], output_filename,\n",
      "  File \"/workspace/pytorch_advanced/9_video_classification_eco/./video_download/download copy.py\", line 111, in download_clip\n",
      "    ydl.download([(url_base + video_identifier)])\n",
      "  File \"/opt/conda/lib/python3.10/site-packages/yt_dlp/YoutubeDL.py\", line 3609, in download\n",
      "    self.__download_wrapper(self.extract_info)(\n",
      "  File \"/opt/conda/lib/python3.10/site-packages/yt_dlp/YoutubeDL.py\", line 3582, in wrapper\n",
      "    res = func(*args, **kwargs)\n",
      "  File \"/opt/conda/lib/python3.10/site-packages/yt_dlp/YoutubeDL.py\", line 1615, in extract_info\n",
      "    return self.__extract_info(url, self.get_info_extractor(key), download, extra_info, process)\n",
      "  File \"/opt/conda/lib/python3.10/site-packages/yt_dlp/YoutubeDL.py\", line 1644, in wrapper\n",
      "    self.report_error(str(e), e.format_traceback())\n",
      "  File \"/opt/conda/lib/python3.10/site-packages/yt_dlp/YoutubeDL.py\", line 1092, in report_error\n",
      "    self.trouble(f'{self._format_err(\"ERROR:\", self.Styles.ERROR)} {message}', *args, **kwargs)\n",
      "  File \"/opt/conda/lib/python3.10/site-packages/yt_dlp/YoutubeDL.py\", line 1031, in trouble\n",
      "    raise DownloadError(message, exc_info)\n",
      "yt_dlp.utils.DownloadError: \u001b[0;31mERROR:\u001b[0m [youtube] b6yQZjPE26c: Private video. Sign in if you've been granted access to this video\n",
      "\n",
      "During handling of the above exception, another exception occurred:\n",
      "\n",
      "Traceback (most recent call last):\n",
      "  File \"/opt/conda/lib/python3.10/multiprocessing/process.py\", line 314, in _bootstrap\n",
      "    self.run()\n",
      "  File \"/opt/conda/lib/python3.10/multiprocessing/process.py\", line 108, in run\n",
      "    self._target(*self._args, **self._kwargs)\n",
      "  File \"/opt/conda/lib/python3.10/site-packages/joblib/externals/loky/process_executor.py\", line 466, in _process_worker\n",
      "    result_queue.put(_ResultItem(call_item.work_id, exception=exc))\n",
      "  File \"/opt/conda/lib/python3.10/site-packages/joblib/externals/loky/backend/queues.py\", line 230, in put\n",
      "    obj = dumps(obj, reducers=self._reducers)\n",
      "  File \"/opt/conda/lib/python3.10/site-packages/joblib/externals/loky/backend/reduction.py\", line 215, in dumps\n",
      "    dump(obj, buf, reducers=reducers, protocol=protocol)\n",
      "  File \"/opt/conda/lib/python3.10/site-packages/joblib/externals/loky/backend/reduction.py\", line 208, in dump\n",
      "    _LokyPickler(file, reducers=reducers, protocol=protocol).dump(obj)\n",
      "  File \"/opt/conda/lib/python3.10/site-packages/joblib/externals/cloudpickle/cloudpickle.py\", line 1245, in dump\n",
      "    return super().dump(obj)\n",
      "TypeError: cannot pickle 'traceback' object\n",
      "[youtube] dAeUFSdYG1I: Downloading ios player API JSON\n",
      "Traceback (most recent call last):\n",
      "  File \"/workspace/pytorch_advanced/9_video_classification_eco/./video_download/download copy.py\", line 243, in <module>\n",
      "    main(**vars(p.parse_args()))\n",
      "  File \"/workspace/pytorch_advanced/9_video_classification_eco/./video_download/download copy.py\", line 212, in main\n",
      "    status_lst = Parallel(n_jobs=num_jobs)(delayed(download_clip_wrapper)(\n",
      "  File \"/opt/conda/lib/python3.10/site-packages/joblib/parallel.py\", line 2007, in __call__\n",
      "    return output if self.return_generator else list(output)\n",
      "  File \"/opt/conda/lib/python3.10/site-packages/joblib/parallel.py\", line 1650, in _get_outputs\n",
      "    yield from self._retrieve()\n",
      "  File \"/opt/conda/lib/python3.10/site-packages/joblib/parallel.py\", line 1754, in _retrieve\n",
      "    self._raise_error_fast()\n",
      "  File \"/opt/conda/lib/python3.10/site-packages/joblib/parallel.py\", line 1789, in _raise_error_fast\n",
      "    error_job.get_result(self.timeout)\n",
      "  File \"/opt/conda/lib/python3.10/site-packages/joblib/parallel.py\", line 745, in get_result\n",
      "    return self._return_or_raise()\n",
      "  File \"/opt/conda/lib/python3.10/site-packages/joblib/parallel.py\", line 763, in _return_or_raise\n",
      "    raise self._result\n",
      "joblib.externals.loky.process_executor.TerminatedWorkerError: A worker process managed by the executor was unexpectedly terminated. This could be caused by a segmentation fault while calling the function or by an excessive memory usage causing the Operating System to kill the worker.\n",
      "\n",
      "The exit codes of the workers are {EXIT(1)}\n"
     ]
    }
   ],
   "source": [
    "import os\n",
    "\n",
    "# フォルダ「data」が存在しない場合は作成する\n",
    "data_dir = \"./data/\"\n",
    "if not os.path.exists(data_dir):\n",
    "    os.mkdir(data_dir)\n",
    "    \n",
    "# フォルダ「kinetics_videos」が存在しない場合は作成する\n",
    "data_dir = \"./data/kinetics_videos/\"\n",
    "if not os.path.exists(data_dir):\n",
    "    os.mkdir(data_dir)\n",
    "    \n",
    "# https://note.com/mamoo965/n/n2ad01afc9e03\n",
    "# !!!!いくつかの動画はprivateファイルになっていてダウンロードできない!!!!\n",
    "# フォルダ「video_download」のpytnonファイル「download.py」を実行します\n",
    "# 取得するyoutubeデータはフォルダ「video_download」のkinetics-400_val_8videos.csvに記載した8動画です\n",
    "# 保存先はフォルダ「data」内のフォルダ「kinetics_videos」です\n",
    "!python3 \"./video_download/download copy.py\" ./video_download/kinetics-400_val_8videos.csv ./data/kinetics_videos/\n",
    "    "
   ]
  },
  {
   "cell_type": "markdown",
   "metadata": {},
   "source": [
    "以上"
   ]
  }
 ],
 "metadata": {
  "kernelspec": {
   "display_name": "base",
   "language": "python",
   "name": "python3"
  },
  "language_info": {
   "codemirror_mode": {
    "name": "ipython",
    "version": 3
   },
   "file_extension": ".py",
   "mimetype": "text/x-python",
   "name": "python",
   "nbconvert_exporter": "python",
   "pygments_lexer": "ipython3",
   "version": "3.10.14"
  }
 },
 "nbformat": 4,
 "nbformat_minor": 2
}
