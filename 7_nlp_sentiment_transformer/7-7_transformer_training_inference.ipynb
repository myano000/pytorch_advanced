{
 "cells": [
  {
   "cell_type": "markdown",
   "metadata": {},
   "source": [
    "# 7.7 Transformerの学習・推論、判定根拠の可視化を実装\n",
    "\n",
    "- 本ファイルでは、ここまでで作成したTransformerモデルとIMDbのDataLoaderを使用してクラス分類を学習させます。テストデータで推論をし、さらに判断根拠となるAttentionを可視化します"
   ]
  },
  {
   "cell_type": "markdown",
   "metadata": {},
   "source": [
    "# 7.7 学習目標\n",
    "\n",
    "1.\tTransformerの学習を実装できるようになる\n",
    "2.\tTransformerの判定時のAttention可視化を実装できるようになる\n"
   ]
  },
  {
   "cell_type": "markdown",
   "metadata": {},
   "source": [
    "# 事前準備\n",
    "\n",
    "- フォルダ「utils」内の関数やクラスを使用します"
   ]
  },
  {
   "cell_type": "code",
   "execution_count": 1,
   "metadata": {},
   "outputs": [],
   "source": [
    "# パッケージのimport\n",
    "import numpy as np\n",
    "import random\n",
    "\n",
    "import torch\n",
    "import torch.nn as nn\n",
    "import torch.optim as optim\n",
    "\n",
    "import torchtext\n"
   ]
  },
  {
   "cell_type": "code",
   "execution_count": 2,
   "metadata": {},
   "outputs": [],
   "source": [
    "# 乱数のシードを設定\n",
    "torch.manual_seed(1234)\n",
    "np.random.seed(1234)\n",
    "random.seed(1234)"
   ]
  },
  {
   "cell_type": "markdown",
   "metadata": {},
   "source": [
    "# DatasetとDataLoaderを作成"
   ]
  },
  {
   "cell_type": "code",
   "execution_count": 3,
   "metadata": {},
   "outputs": [],
   "source": [
    "from utils.dataloader import get_IMDb_DataLoaders_and_TEXT\n",
    "\n",
    "# 読み込み\n",
    "train_dl, val_dl, test_dl, TEXT = get_IMDb_DataLoaders_and_TEXT(\n",
    "    max_length=256, batch_size=64)\n",
    "\n",
    "# 辞書オブジェクトにまとめる\n",
    "dataloaders_dict = {\"train\": train_dl, \"val\": val_dl}\n"
   ]
  },
  {
   "cell_type": "markdown",
   "metadata": {},
   "source": [
    "# ネットワークモデルの作成"
   ]
  },
  {
   "cell_type": "code",
   "execution_count": 4,
   "metadata": {},
   "outputs": [
    {
     "name": "stdout",
     "output_type": "stream",
     "text": [
      "ネットワーク設定完了\n"
     ]
    }
   ],
   "source": [
    "from utils.transformer import TransformerClassification\n",
    "\n",
    "# モデル構築\n",
    "net = TransformerClassification(\n",
    "    text_embedding_vectors=TEXT.vocab.vectors, d_model=300, max_seq_len=256, output_dim=2)\n",
    "\n",
    "# ネットワークの初期化を定義\n",
    "\n",
    "\n",
    "def weights_init(m):\n",
    "    classname = m.__class__.__name__\n",
    "    if classname.find('Linear') != -1:\n",
    "        # Liner層の初期化\n",
    "        nn.init.kaiming_normal_(m.weight)\n",
    "        if m.bias is not None:\n",
    "            nn.init.constant_(m.bias, 0.0)\n",
    "\n",
    "\n",
    "# 訓練モードに設定\n",
    "net.train()\n",
    "\n",
    "# TransformerBlockモジュールを初期化実行\n",
    "net.net3_1.apply(weights_init)\n",
    "net.net3_2.apply(weights_init)\n",
    "\n",
    "\n",
    "print('ネットワーク設定完了')\n"
   ]
  },
  {
   "cell_type": "markdown",
   "metadata": {},
   "source": [
    "# 損失関数と最適化手法を定義"
   ]
  },
  {
   "cell_type": "code",
   "execution_count": 5,
   "metadata": {},
   "outputs": [],
   "source": [
    "# 損失関数の設定\n",
    "criterion = nn.CrossEntropyLoss()\n",
    "# nn.LogSoftmax()を計算してからnn.NLLLoss(negative log likelihood loss)を計算\n",
    "\n",
    "# 最適化手法の設定\n",
    "learning_rate = 2e-5\n",
    "optimizer = optim.Adam(net.parameters(), lr=learning_rate)\n"
   ]
  },
  {
   "cell_type": "markdown",
   "metadata": {},
   "source": [
    "# 学習・検証を実施"
   ]
  },
  {
   "cell_type": "code",
   "execution_count": 6,
   "metadata": {},
   "outputs": [],
   "source": [
    "# モデルを学習させる関数を作成\n",
    "\n",
    "\n",
    "def train_model(net, dataloaders_dict, criterion, optimizer, num_epochs):\n",
    "\n",
    "    # GPUが使えるかを確認\n",
    "    device = torch.device(\"cuda:0\" if torch.cuda.is_available() else \"cpu\")\n",
    "    print(\"使用デバイス：\", device)\n",
    "    print('-----start-------')\n",
    "    # ネットワークをGPUへ\n",
    "    net.to(device)\n",
    "\n",
    "    # ネットワークがある程度固定であれば、高速化させる\n",
    "    torch.backends.cudnn.benchmark = True\n",
    "\n",
    "    # epochのループ\n",
    "    for epoch in range(num_epochs):\n",
    "        # epochごとの訓練と検証のループ\n",
    "        for phase in ['train', 'val']:\n",
    "            if phase == 'train':\n",
    "                net.train()  # モデルを訓練モードに\n",
    "            else:\n",
    "                net.eval()   # モデルを検証モードに\n",
    "\n",
    "            epoch_loss = 0.0  # epochの損失和\n",
    "            epoch_corrects = 0  # epochの正解数\n",
    "\n",
    "            # データローダーからミニバッチを取り出すループ\n",
    "            for batch in (dataloaders_dict[phase]):\n",
    "                # batchはTextとLableの辞書オブジェクト\n",
    "\n",
    "                # GPUが使えるならGPUにデータを送る\n",
    "                inputs = batch.Text[0].to(device)  # 文章\n",
    "                labels = batch.Label.to(device)  # ラベル\n",
    "\n",
    "                # optimizerを初期化\n",
    "                optimizer.zero_grad()\n",
    "\n",
    "                # 順伝搬（forward）計算\n",
    "                with torch.set_grad_enabled(phase == 'train'):\n",
    "\n",
    "                    # mask作成\n",
    "                    input_pad = 1  # 単語のIDにおいて、'<pad>': 1 なので\n",
    "                    input_mask = (inputs != input_pad)\n",
    "\n",
    "                    # Transformerに入力\n",
    "                    outputs, _, _ = net(inputs, input_mask)\n",
    "                    loss = criterion(outputs, labels)  # 損失を計算\n",
    "\n",
    "                    _, preds = torch.max(outputs, 1)  # ラベルを予測\n",
    "\n",
    "                    # 訓練時はバックプロパゲーション\n",
    "                    if phase == 'train':\n",
    "                        loss.backward()\n",
    "                        optimizer.step()\n",
    "\n",
    "                    # 結果の計算\n",
    "                    epoch_loss += loss.item() * inputs.size(0)  # lossの合計を更新\n",
    "                    # 正解数の合計を更新\n",
    "                    epoch_corrects += torch.sum(preds == labels.data)\n",
    "\n",
    "            # epochごとのlossと正解率\n",
    "            epoch_loss = epoch_loss / len(dataloaders_dict[phase].dataset)\n",
    "            epoch_acc = epoch_corrects.double(\n",
    "            ) / len(dataloaders_dict[phase].dataset)\n",
    "\n",
    "            print('Epoch {}/{} | {:^5} |  Loss: {:.4f} Acc: {:.4f}'.format(epoch+1, num_epochs,\n",
    "                                                                           phase, epoch_loss, epoch_acc))\n",
    "\n",
    "    return net\n"
   ]
  },
  {
   "cell_type": "code",
   "execution_count": 7,
   "metadata": {},
   "outputs": [
    {
     "name": "stdout",
     "output_type": "stream",
     "text": [
      "使用デバイス： cuda:0\n",
      "-----start-------\n",
      "Epoch 1/10 | train |  Loss: 0.5940 Acc: 0.6726\n",
      "Epoch 1/10 |  val  |  Loss: 0.4412 Acc: 0.8020\n",
      "Epoch 2/10 | train |  Loss: 0.4380 Acc: 0.8014\n",
      "Epoch 2/10 |  val  |  Loss: 0.4153 Acc: 0.8142\n",
      "Epoch 3/10 | train |  Loss: 0.4025 Acc: 0.8183\n",
      "Epoch 3/10 |  val  |  Loss: 0.3825 Acc: 0.8306\n",
      "Epoch 4/10 | train |  Loss: 0.3798 Acc: 0.8318\n",
      "Epoch 4/10 |  val  |  Loss: 0.3864 Acc: 0.8302\n",
      "Epoch 5/10 | train |  Loss: 0.3668 Acc: 0.8395\n",
      "Epoch 5/10 |  val  |  Loss: 0.3552 Acc: 0.8454\n",
      "Epoch 6/10 | train |  Loss: 0.3591 Acc: 0.8421\n",
      "Epoch 6/10 |  val  |  Loss: 0.3622 Acc: 0.8460\n",
      "Epoch 7/10 | train |  Loss: 0.3542 Acc: 0.8465\n",
      "Epoch 7/10 |  val  |  Loss: 0.3483 Acc: 0.8534\n",
      "Epoch 8/10 | train |  Loss: 0.3448 Acc: 0.8475\n",
      "Epoch 8/10 |  val  |  Loss: 0.3526 Acc: 0.8482\n",
      "Epoch 9/10 | train |  Loss: 0.3400 Acc: 0.8540\n",
      "Epoch 9/10 |  val  |  Loss: 0.3596 Acc: 0.8406\n",
      "Epoch 10/10 | train |  Loss: 0.3309 Acc: 0.8578\n",
      "Epoch 10/10 |  val  |  Loss: 0.3329 Acc: 0.8574\n"
     ]
    }
   ],
   "source": [
    "# 学習・検証を実行する 15分ほどかかります\n",
    "num_epochs = 10\n",
    "net_trained = train_model(net, dataloaders_dict,\n",
    "                          criterion, optimizer, num_epochs=num_epochs)\n"
   ]
  },
  {
   "cell_type": "markdown",
   "metadata": {},
   "source": [
    "# テストデータでの正解率を求める"
   ]
  },
  {
   "cell_type": "code",
   "execution_count": 8,
   "metadata": {},
   "outputs": [
    {
     "name": "stdout",
     "output_type": "stream",
     "text": [
      "テストデータ25000個での正解率：0.8501\n"
     ]
    }
   ],
   "source": [
    "# device\n",
    "device = torch.device(\"cuda:0\" if torch.cuda.is_available() else \"cpu\")\n",
    "\n",
    "net_trained.eval()   # モデルを検証モードに\n",
    "net_trained.to(device)\n",
    "\n",
    "epoch_corrects = 0  # epochの正解数\n",
    "\n",
    "for batch in (test_dl):  # testデータのDataLoader\n",
    "    # batchはTextとLableの辞書オブジェクト\n",
    "    \n",
    "    # GPUが使えるならGPUにデータを送る\n",
    "    inputs = batch.Text[0].to(device)  # 文章\n",
    "    labels = batch.Label.to(device)  # ラベル\n",
    "\n",
    "    # 順伝搬（forward）計算\n",
    "    with torch.set_grad_enabled(False):\n",
    "\n",
    "        # mask作成\n",
    "        input_pad = 1  # 単語のIDにおいて、'<pad>': 1 なので\n",
    "        input_mask = (inputs != input_pad)\n",
    "\n",
    "        # Transformerに入力\n",
    "        outputs, _, _ = net_trained(inputs, input_mask)\n",
    "        _, preds = torch.max(outputs, 1)  # ラベルを予測\n",
    "\n",
    "        # 結果の計算\n",
    "        # 正解数の合計を更新\n",
    "        epoch_corrects += torch.sum(preds == labels.data)\n",
    "\n",
    "# 正解率\n",
    "epoch_acc = epoch_corrects.double() / len(test_dl.dataset)\n",
    "\n",
    "print('テストデータ{}個での正解率：{:.4f}'.format(len(test_dl.dataset),epoch_acc))\n"
   ]
  },
  {
   "cell_type": "markdown",
   "metadata": {},
   "source": [
    "# Attentionの可視化で判定根拠を探る\n",
    "\n"
   ]
  },
  {
   "cell_type": "code",
   "execution_count": 9,
   "metadata": {},
   "outputs": [],
   "source": [
    "# HTMLを作成する関数を実装\n",
    "\n",
    "\n",
    "def highlight(word, attn):\n",
    "    \"Attentionの値が大きいと文字の背景が濃い赤になるhtmlを出力させる関数\"\n",
    "\n",
    "    html_color = '#%02X%02X%02X' % (\n",
    "        255, int(255*(1 - attn)), int(255*(1 - attn)))\n",
    "    return '<span style=\"background-color: {}\"> {}</span>'.format(html_color, word)\n",
    "\n",
    "\n",
    "def mk_html(index, batch, preds, normlized_weights_1, normlized_weights_2, TEXT):\n",
    "    \"HTMLデータを作成する\"\n",
    "\n",
    "    # indexの結果を抽出\n",
    "    sentence = batch.Text[0][index]  # 文章\n",
    "    label = batch.Label[index]  # ラベル\n",
    "    pred = preds[index]  # 予測\n",
    "\n",
    "    # indexのAttentionを抽出と規格化\n",
    "    attens1 = normlized_weights_1[index, 0, :]  # 0番目の<cls>のAttention\n",
    "    attens1 /= attens1.max()\n",
    "\n",
    "    attens2 = normlized_weights_2[index, 0, :]  # 0番目の<cls>のAttention\n",
    "    attens2 /= attens2.max()\n",
    "\n",
    "    # ラベルと予測結果を文字に置き換え\n",
    "    if label == 0:\n",
    "        label_str = \"Negative\"\n",
    "    else:\n",
    "        label_str = \"Positive\"\n",
    "\n",
    "    if pred == 0:\n",
    "        pred_str = \"Negative\"\n",
    "    else:\n",
    "        pred_str = \"Positive\"\n",
    "\n",
    "    # 表示用のHTMLを作成する\n",
    "    html = '正解ラベル：{}<br>推論ラベル：{}<br><br>'.format(label_str, pred_str)\n",
    "\n",
    "    # 1段目のAttention\n",
    "    html += '[TransformerBlockの1段目のAttentionを可視化]<br>'\n",
    "    for word, attn in zip(sentence, attens1):\n",
    "        html += highlight(TEXT.vocab.itos[word], attn)\n",
    "    html += \"<br><br>\"\n",
    "\n",
    "    # 2段目のAttention\n",
    "    html += '[TransformerBlockの2段目のAttentionを可視化]<br>'\n",
    "    for word, attn in zip(sentence, attens2):\n",
    "        html += highlight(TEXT.vocab.itos[word], attn)\n",
    "\n",
    "    html += \"<br><br>\"\n",
    "\n",
    "    return html\n"
   ]
  },
  {
   "cell_type": "code",
   "execution_count": 10,
   "metadata": {},
   "outputs": [
    {
     "data": {
      "text/html": [
       "正解ラベル：Positive<br>推論ラベル：Positive<br><br>[TransformerBlockの1段目のAttentionを可視化]<br><span style=\"background-color: #FFFBFB\"> <cls></span><span style=\"background-color: #FFFCFC\"> i</span><span style=\"background-color: #FF9090\"> saw</span><span style=\"background-color: #FFF7F7\"> this</span><span style=\"background-color: #FFF7F7\"> film</span><span style=\"background-color: #FFFEFE\"> in</span><span style=\"background-color: #FFFCFC\"> a</span><span style=\"background-color: #FFF5F5\"> sneak</span><span style=\"background-color: #FFC8C8\"> preview</span><span style=\"background-color: #FFFEFE\"> ,</span><span style=\"background-color: #FFFEFE\"> and</span><span style=\"background-color: #FFFEFE\"> it</span><span style=\"background-color: #FFFDFD\"> is</span><span style=\"background-color: #FF8A8A\"> delightful</span><span style=\"background-color: #FFFEFE\"> .</span><span style=\"background-color: #FFFDFD\"> the</span><span style=\"background-color: #FFF0F0\"> cinematography</span><span style=\"background-color: #FFFDFD\"> is</span><span style=\"background-color: #FFFEFE\"> unusually</span><span style=\"background-color: #FFDBDB\"> creative</span><span style=\"background-color: #FFFEFE\"> ,</span><span style=\"background-color: #FFFDFD\"> the</span><span style=\"background-color: #FFF5F5\"> acting</span><span style=\"background-color: #FFFCFC\"> is</span><span style=\"background-color: #FF9898\"> good</span><span style=\"background-color: #FFFEFE\"> ,</span><span style=\"background-color: #FFFEFE\"> and</span><span style=\"background-color: #FFFCFC\"> the</span><span style=\"background-color: #FFEBEB\"> story</span><span style=\"background-color: #FFFDFD\"> is</span><span style=\"background-color: #FF0000\"> fabulous</span><span style=\"background-color: #FFFEFE\"> .</span><span style=\"background-color: #FFFEFE\"> if</span><span style=\"background-color: #FFF9F9\"> this</span><span style=\"background-color: #FFEEEE\"> movie</span><span style=\"background-color: #FFF7F7\"> does</span><span style=\"background-color: #FFF2F2\"> not</span><span style=\"background-color: #FFFDFD\"> do</span><span style=\"background-color: #FFFEFE\"> well</span><span style=\"background-color: #FFFEFE\"> ,</span><span style=\"background-color: #FFFEFE\"> it</span><span style=\"background-color: #FFF4F4\"> won</span><span style=\"background-color: #FFF9F9\"> t</span><span style=\"background-color: #FFFEFE\"> be</span><span style=\"background-color: #FFFEFE\"> because</span><span style=\"background-color: #FFFEFE\"> it</span><span style=\"background-color: #FFF7F7\"> doesn</span><span style=\"background-color: #FFFAFA\"> t</span><span style=\"background-color: #FFF6F6\"> deserve</span><span style=\"background-color: #FFFDFD\"> to</span><span style=\"background-color: #FFFEFE\"> .</span><span style=\"background-color: #FFFDFD\"> before</span><span style=\"background-color: #FFFAFA\"> this</span><span style=\"background-color: #FFF9F9\"> film</span><span style=\"background-color: #FFFEFE\"> ,</span><span style=\"background-color: #FFFDFD\"> i</span><span style=\"background-color: #FFE6E6\"> didn</span><span style=\"background-color: #FFFAFA\"> t</span><span style=\"background-color: #FFE3E3\"> realize</span><span style=\"background-color: #FFFEFE\"> how</span><span style=\"background-color: #FFCACA\"> charming</span><span style=\"background-color: #FFF2F2\"> shia</span><span style=\"background-color: #FFFDFD\"> <unk></span><span style=\"background-color: #FFF8F8\"> could</span><span style=\"background-color: #FFFDFD\"> be</span><span style=\"background-color: #FFFEFE\"> .</span><span style=\"background-color: #FFFEFE\"> he</span><span style=\"background-color: #FFF5F5\"> does</span><span style=\"background-color: #FFFBFB\"> a</span><span style=\"background-color: #FF5353\"> marvelous</span><span style=\"background-color: #FFFEFE\"> ,</span><span style=\"background-color: #FFDEDE\"> self</span><span style=\"background-color: #FFF6F6\"> contained</span><span style=\"background-color: #FFFEFE\"> ,</span><span style=\"background-color: #FFF8F8\"> job</span><span style=\"background-color: #FFFEFE\"> as</span><span style=\"background-color: #FFFCFC\"> the</span><span style=\"background-color: #FFF0F0\"> lead</span><span style=\"background-color: #FFFEFE\"> .</span><span style=\"background-color: #FFFEFE\"> there</span><span style=\"background-color: #FFFBFB\"> s</span><span style=\"background-color: #FFFAFA\"> something</span><span style=\"background-color: #FFFBFB\"> incredibly</span><span style=\"background-color: #FFF0F0\"> sweet</span><span style=\"background-color: #FFFDFD\"> about</span><span style=\"background-color: #FFFCFC\"> him</span><span style=\"background-color: #FFFEFE\"> ,</span><span style=\"background-color: #FFFEFE\"> and</span><span style=\"background-color: #FFFEFE\"> it</span><span style=\"background-color: #FFF3F3\"> makes</span><span style=\"background-color: #FFFCFC\"> the</span><span style=\"background-color: #FFECEC\"> movie</span><span style=\"background-color: #FFF9F9\"> even</span><span style=\"background-color: #FFDDDD\"> better</span><span style=\"background-color: #FFFEFE\"> .</span><span style=\"background-color: #FFFCFC\"> the</span><span style=\"background-color: #FFFEFE\"> other</span><span style=\"background-color: #FFF1F1\"> actors</span><span style=\"background-color: #FFFCFC\"> do</span><span style=\"background-color: #FFFBFB\"> a</span><span style=\"background-color: #FFAEAE\"> good</span><span style=\"background-color: #FFF9F9\"> job</span><span style=\"background-color: #FFFEFE\"> as</span><span style=\"background-color: #FFFDFD\"> well</span><span style=\"background-color: #FFFEFE\"> ,</span><span style=\"background-color: #FFFEFE\"> and</span><span style=\"background-color: #FFFBFB\"> the</span><span style=\"background-color: #FFF4F4\"> film</span><span style=\"background-color: #FFFCFC\"> contains</span><span style=\"background-color: #FFF3F3\"> moments</span><span style=\"background-color: #FFFDFD\"> of</span><span style=\"background-color: #FFF0F0\"> really</span><span style=\"background-color: #FFFDFD\"> high</span><span style=\"background-color: #FFECEC\"> suspense</span><span style=\"background-color: #FFFEFE\"> ,</span><span style=\"background-color: #FFFEFE\"> more</span><span style=\"background-color: #FFFDFD\"> than</span><span style=\"background-color: #FFFBFB\"> one</span><span style=\"background-color: #FFFCFC\"> might</span><span style=\"background-color: #FFFCFC\"> expect</span><span style=\"background-color: #FFFEFE\"> from</span><span style=\"background-color: #FFFBFB\"> a</span><span style=\"background-color: #FFEDED\"> movie</span><span style=\"background-color: #FFFEFE\"> about</span><span style=\"background-color: #FFFDFD\"> golf</span><span style=\"background-color: #FFFEFE\"> .</span><span style=\"background-color: #FFF8F8\"> sports</span><span style=\"background-color: #FFEFEF\"> movies</span><span style=\"background-color: #FFFDFD\"> are</span><span style=\"background-color: #FFFBFB\"> a</span><span style=\"background-color: #FFFBFB\"> dime</span><span style=\"background-color: #FFFCFC\"> a</span><span style=\"background-color: #FFFEFE\"> dozen</span><span style=\"background-color: #FFFEFE\"> ,</span><span style=\"background-color: #FFFEFE\"> but</span><span style=\"background-color: #FFFBFB\"> this</span><span style=\"background-color: #FFFBFB\"> one</span><span style=\"background-color: #FFF5F5\"> stands</span><span style=\"background-color: #FFFDFD\"> out</span><span style=\"background-color: #FFFEFE\"> .</span><span style=\"background-color: #FFF8F8\"> this</span><span style=\"background-color: #FFFCFC\"> is</span><span style=\"background-color: #FFF8F8\"> one</span><span style=\"background-color: #FFFCFC\"> i</span><span style=\"background-color: #FFFEFE\"> d</span><span style=\"background-color: #FFCECE\"> recommend</span><span style=\"background-color: #FFFCFC\"> to</span><span style=\"background-color: #FFFCFC\"> anyone</span><span style=\"background-color: #FFFEFE\"> .</span><span style=\"background-color: #FFFDFD\"> <eos></span><span style=\"background-color: #FFFFFF\"> <pad></span><span style=\"background-color: #FFFFFF\"> <pad></span><span style=\"background-color: #FFFFFF\"> <pad></span><span style=\"background-color: #FFFFFF\"> <pad></span><span style=\"background-color: #FFFFFF\"> <pad></span><span style=\"background-color: #FFFFFF\"> <pad></span><span style=\"background-color: #FFFFFF\"> <pad></span><span style=\"background-color: #FFFFFF\"> <pad></span><span style=\"background-color: #FFFFFF\"> <pad></span><span style=\"background-color: #FFFFFF\"> <pad></span><span style=\"background-color: #FFFFFF\"> <pad></span><span style=\"background-color: #FFFFFF\"> <pad></span><span style=\"background-color: #FFFFFF\"> <pad></span><span style=\"background-color: #FFFFFF\"> <pad></span><span style=\"background-color: #FFFFFF\"> <pad></span><span style=\"background-color: #FFFFFF\"> <pad></span><span style=\"background-color: #FFFFFF\"> <pad></span><span style=\"background-color: #FFFFFF\"> <pad></span><span style=\"background-color: #FFFFFF\"> <pad></span><span style=\"background-color: #FFFFFF\"> <pad></span><span style=\"background-color: #FFFFFF\"> <pad></span><span style=\"background-color: #FFFFFF\"> <pad></span><span style=\"background-color: #FFFFFF\"> <pad></span><span style=\"background-color: #FFFFFF\"> <pad></span><span style=\"background-color: #FFFFFF\"> <pad></span><span style=\"background-color: #FFFFFF\"> <pad></span><span style=\"background-color: #FFFFFF\"> <pad></span><span style=\"background-color: #FFFFFF\"> <pad></span><span style=\"background-color: #FFFFFF\"> <pad></span><span style=\"background-color: #FFFFFF\"> <pad></span><span style=\"background-color: #FFFFFF\"> <pad></span><span style=\"background-color: #FFFFFF\"> <pad></span><span style=\"background-color: #FFFFFF\"> <pad></span><span style=\"background-color: #FFFFFF\"> <pad></span><span style=\"background-color: #FFFFFF\"> <pad></span><span style=\"background-color: #FFFFFF\"> <pad></span><span style=\"background-color: #FFFFFF\"> <pad></span><span style=\"background-color: #FFFFFF\"> <pad></span><span style=\"background-color: #FFFFFF\"> <pad></span><span style=\"background-color: #FFFFFF\"> <pad></span><span style=\"background-color: #FFFFFF\"> <pad></span><span style=\"background-color: #FFFFFF\"> <pad></span><span style=\"background-color: #FFFFFF\"> <pad></span><span style=\"background-color: #FFFFFF\"> <pad></span><span style=\"background-color: #FFFFFF\"> <pad></span><span style=\"background-color: #FFFFFF\"> <pad></span><span style=\"background-color: #FFFFFF\"> <pad></span><span style=\"background-color: #FFFFFF\"> <pad></span><span style=\"background-color: #FFFFFF\"> <pad></span><span style=\"background-color: #FFFFFF\"> <pad></span><span style=\"background-color: #FFFFFF\"> <pad></span><span style=\"background-color: #FFFFFF\"> <pad></span><span style=\"background-color: #FFFFFF\"> <pad></span><span style=\"background-color: #FFFFFF\"> <pad></span><span style=\"background-color: #FFFFFF\"> <pad></span><span style=\"background-color: #FFFFFF\"> <pad></span><span style=\"background-color: #FFFFFF\"> <pad></span><span style=\"background-color: #FFFFFF\"> <pad></span><span style=\"background-color: #FFFFFF\"> <pad></span><span style=\"background-color: #FFFFFF\"> <pad></span><span style=\"background-color: #FFFFFF\"> <pad></span><span style=\"background-color: #FFFFFF\"> <pad></span><span style=\"background-color: #FFFFFF\"> <pad></span><span style=\"background-color: #FFFFFF\"> <pad></span><span style=\"background-color: #FFFFFF\"> <pad></span><span style=\"background-color: #FFFFFF\"> <pad></span><span style=\"background-color: #FFFFFF\"> <pad></span><span style=\"background-color: #FFFFFF\"> <pad></span><span style=\"background-color: #FFFFFF\"> <pad></span><span style=\"background-color: #FFFFFF\"> <pad></span><span style=\"background-color: #FFFFFF\"> <pad></span><span style=\"background-color: #FFFFFF\"> <pad></span><span style=\"background-color: #FFFFFF\"> <pad></span><span style=\"background-color: #FFFFFF\"> <pad></span><span style=\"background-color: #FFFFFF\"> <pad></span><span style=\"background-color: #FFFFFF\"> <pad></span><span style=\"background-color: #FFFFFF\"> <pad></span><span style=\"background-color: #FFFFFF\"> <pad></span><span style=\"background-color: #FFFFFF\"> <pad></span><span style=\"background-color: #FFFFFF\"> <pad></span><span style=\"background-color: #FFFFFF\"> <pad></span><span style=\"background-color: #FFFFFF\"> <pad></span><span style=\"background-color: #FFFFFF\"> <pad></span><span style=\"background-color: #FFFFFF\"> <pad></span><span style=\"background-color: #FFFFFF\"> <pad></span><span style=\"background-color: #FFFFFF\"> <pad></span><span style=\"background-color: #FFFFFF\"> <pad></span><span style=\"background-color: #FFFFFF\"> <pad></span><span style=\"background-color: #FFFFFF\"> <pad></span><span style=\"background-color: #FFFFFF\"> <pad></span><span style=\"background-color: #FFFFFF\"> <pad></span><span style=\"background-color: #FFFFFF\"> <pad></span><span style=\"background-color: #FFFFFF\"> <pad></span><span style=\"background-color: #FFFFFF\"> <pad></span><span style=\"background-color: #FFFFFF\"> <pad></span><span style=\"background-color: #FFFFFF\"> <pad></span><span style=\"background-color: #FFFFFF\"> <pad></span><span style=\"background-color: #FFFFFF\"> <pad></span><span style=\"background-color: #FFFFFF\"> <pad></span><span style=\"background-color: #FFFFFF\"> <pad></span><span style=\"background-color: #FFFFFF\"> <pad></span><span style=\"background-color: #FFFFFF\"> <pad></span><span style=\"background-color: #FFFFFF\"> <pad></span><span style=\"background-color: #FFFFFF\"> <pad></span><span style=\"background-color: #FFFFFF\"> <pad></span><span style=\"background-color: #FFFFFF\"> <pad></span><br><br>[TransformerBlockの2段目のAttentionを可視化]<br><span style=\"background-color: #FFFEFE\"> <cls></span><span style=\"background-color: #FFFEFE\"> i</span><span style=\"background-color: #FFFEFE\"> saw</span><span style=\"background-color: #FFF3F3\"> this</span><span style=\"background-color: #FFFCFC\"> film</span><span style=\"background-color: #FFFBFB\"> in</span><span style=\"background-color: #FFF7F7\"> a</span><span style=\"background-color: #FFFEFE\"> sneak</span><span style=\"background-color: #FFFDFD\"> preview</span><span style=\"background-color: #FFFDFD\"> ,</span><span style=\"background-color: #FFFDFD\"> and</span><span style=\"background-color: #FFFCFC\"> it</span><span style=\"background-color: #FFDCDC\"> is</span><span style=\"background-color: #FFB8B8\"> delightful</span><span style=\"background-color: #FFF4F4\"> .</span><span style=\"background-color: #FFFEFE\"> the</span><span style=\"background-color: #FFF9F9\"> cinematography</span><span style=\"background-color: #FFC1C1\"> is</span><span style=\"background-color: #FF5D5D\"> unusually</span><span style=\"background-color: #FFF3F3\"> creative</span><span style=\"background-color: #FFFCFC\"> ,</span><span style=\"background-color: #FFFEFE\"> the</span><span style=\"background-color: #FFF9F9\"> acting</span><span style=\"background-color: #FFBEBE\"> is</span><span style=\"background-color: #FFCDCD\"> good</span><span style=\"background-color: #FFFDFD\"> ,</span><span style=\"background-color: #FFFDFD\"> and</span><span style=\"background-color: #FFFEFE\"> the</span><span style=\"background-color: #FFFEFE\"> story</span><span style=\"background-color: #FFC8C8\"> is</span><span style=\"background-color: #FFF2F2\"> fabulous</span><span style=\"background-color: #FFF1F1\"> .</span><span style=\"background-color: #FFF2F2\"> if</span><span style=\"background-color: #FFF1F1\"> this</span><span style=\"background-color: #FFFDFD\"> movie</span><span style=\"background-color: #FFFBFB\"> does</span><span style=\"background-color: #FFFAFA\"> not</span><span style=\"background-color: #FFFCFC\"> do</span><span style=\"background-color: #FFCDCD\"> well</span><span style=\"background-color: #FFFDFD\"> ,</span><span style=\"background-color: #FFFCFC\"> it</span><span style=\"background-color: #FFFEFE\"> won</span><span style=\"background-color: #FFFBFB\"> t</span><span style=\"background-color: #FFF0F0\"> be</span><span style=\"background-color: #FFF8F8\"> because</span><span style=\"background-color: #FFFCFC\"> it</span><span style=\"background-color: #FFFCFC\"> doesn</span><span style=\"background-color: #FFFBFB\"> t</span><span style=\"background-color: #FFF6F6\"> deserve</span><span style=\"background-color: #FFFEFE\"> to</span><span style=\"background-color: #FFF5F5\"> .</span><span style=\"background-color: #FFFDFD\"> before</span><span style=\"background-color: #FFF6F6\"> this</span><span style=\"background-color: #FFFDFD\"> film</span><span style=\"background-color: #FFFCFC\"> ,</span><span style=\"background-color: #FFFEFE\"> i</span><span style=\"background-color: #FFFEFE\"> didn</span><span style=\"background-color: #FFFAFA\"> t</span><span style=\"background-color: #FFEAEA\"> realize</span><span style=\"background-color: #FFF4F4\"> how</span><span style=\"background-color: #FFC3C3\"> charming</span><span style=\"background-color: #FFFEFE\"> shia</span><span style=\"background-color: #FFFEFE\"> <unk></span><span style=\"background-color: #FFFEFE\"> could</span><span style=\"background-color: #FFECEC\"> be</span><span style=\"background-color: #FFF5F5\"> .</span><span style=\"background-color: #FFF1F1\"> he</span><span style=\"background-color: #FFFBFB\"> does</span><span style=\"background-color: #FFF8F8\"> a</span><span style=\"background-color: #FFDADA\"> marvelous</span><span style=\"background-color: #FFFCFC\"> ,</span><span style=\"background-color: #FFFDFD\"> self</span><span style=\"background-color: #FFEBEB\"> contained</span><span style=\"background-color: #FFFCFC\"> ,</span><span style=\"background-color: #FFFCFC\"> job</span><span style=\"background-color: #FFFCFC\"> as</span><span style=\"background-color: #FFFEFE\"> the</span><span style=\"background-color: #FFFDFD\"> lead</span><span style=\"background-color: #FFEDED\"> .</span><span style=\"background-color: #FFFBFB\"> there</span><span style=\"background-color: #FFFCFC\"> s</span><span style=\"background-color: #FFF2F2\"> something</span><span style=\"background-color: #FF0000\"> incredibly</span><span style=\"background-color: #FFA2A2\"> sweet</span><span style=\"background-color: #FFFCFC\"> about</span><span style=\"background-color: #FFFCFC\"> him</span><span style=\"background-color: #FFFCFC\"> ,</span><span style=\"background-color: #FFFDFD\"> and</span><span style=\"background-color: #FFFCFC\"> it</span><span style=\"background-color: #FFF2F2\"> makes</span><span style=\"background-color: #FFFEFE\"> the</span><span style=\"background-color: #FFFEFE\"> movie</span><span style=\"background-color: #FFFAFA\"> even</span><span style=\"background-color: #FFD1D1\"> better</span><span style=\"background-color: #FFF7F7\"> .</span><span style=\"background-color: #FFFEFE\"> the</span><span style=\"background-color: #FFF8F8\"> other</span><span style=\"background-color: #FFFEFE\"> actors</span><span style=\"background-color: #FFFDFD\"> do</span><span style=\"background-color: #FFFBFB\"> a</span><span style=\"background-color: #FFDBDB\"> good</span><span style=\"background-color: #FFFDFD\"> job</span><span style=\"background-color: #FFFDFD\"> as</span><span style=\"background-color: #FFCECE\"> well</span><span style=\"background-color: #FFFCFC\"> ,</span><span style=\"background-color: #FFFCFC\"> and</span><span style=\"background-color: #FFFEFE\"> the</span><span style=\"background-color: #FFFCFC\"> film</span><span style=\"background-color: #FF6D6D\"> contains</span><span style=\"background-color: #FFF2F2\"> moments</span><span style=\"background-color: #FFF7F7\"> of</span><span style=\"background-color: #FFF3F3\"> really</span><span style=\"background-color: #FFE1E1\"> high</span><span style=\"background-color: #FFDEDE\"> suspense</span><span style=\"background-color: #FFFCFC\"> ,</span><span style=\"background-color: #FFDEDE\"> more</span><span style=\"background-color: #FFFCFC\"> than</span><span style=\"background-color: #FFF2F2\"> one</span><span style=\"background-color: #FFFEFE\"> might</span><span style=\"background-color: #FFF1F1\"> expect</span><span style=\"background-color: #FFFDFD\"> from</span><span style=\"background-color: #FFF9F9\"> a</span><span style=\"background-color: #FFFDFD\"> movie</span><span style=\"background-color: #FFFBFB\"> about</span><span style=\"background-color: #FFF5F5\"> golf</span><span style=\"background-color: #FFF2F2\"> .</span><span style=\"background-color: #FFFCFC\"> sports</span><span style=\"background-color: #FFFDFD\"> movies</span><span style=\"background-color: #FFACAC\"> are</span><span style=\"background-color: #FFF9F9\"> a</span><span style=\"background-color: #FFF3F3\"> dime</span><span style=\"background-color: #FFF9F9\"> a</span><span style=\"background-color: #FFEDED\"> dozen</span><span style=\"background-color: #FFFCFC\"> ,</span><span style=\"background-color: #FFF1F1\"> but</span><span style=\"background-color: #FFF1F1\"> this</span><span style=\"background-color: #FFE7E7\"> one</span><span style=\"background-color: #FFEBEB\"> stands</span><span style=\"background-color: #FFF4F4\"> out</span><span style=\"background-color: #FFF2F2\"> .</span><span style=\"background-color: #FFF7F7\"> this</span><span style=\"background-color: #FFDBDB\"> is</span><span style=\"background-color: #FFEEEE\"> one</span><span style=\"background-color: #FFFEFE\"> i</span><span style=\"background-color: #FFFEFE\"> d</span><span style=\"background-color: #FFF7F7\"> recommend</span><span style=\"background-color: #FFFEFE\"> to</span><span style=\"background-color: #FFEEEE\"> anyone</span><span style=\"background-color: #FFF2F2\"> .</span><span style=\"background-color: #FFFDFD\"> <eos></span><span style=\"background-color: #FFFFFF\"> <pad></span><span style=\"background-color: #FFFFFF\"> <pad></span><span style=\"background-color: #FFFFFF\"> <pad></span><span style=\"background-color: #FFFFFF\"> <pad></span><span style=\"background-color: #FFFFFF\"> <pad></span><span style=\"background-color: #FFFFFF\"> <pad></span><span style=\"background-color: #FFFFFF\"> <pad></span><span style=\"background-color: #FFFFFF\"> <pad></span><span style=\"background-color: #FFFFFF\"> <pad></span><span style=\"background-color: #FFFFFF\"> <pad></span><span style=\"background-color: #FFFFFF\"> <pad></span><span style=\"background-color: #FFFFFF\"> <pad></span><span style=\"background-color: #FFFFFF\"> <pad></span><span style=\"background-color: #FFFFFF\"> <pad></span><span style=\"background-color: #FFFFFF\"> <pad></span><span style=\"background-color: #FFFFFF\"> <pad></span><span style=\"background-color: #FFFFFF\"> <pad></span><span style=\"background-color: #FFFFFF\"> <pad></span><span style=\"background-color: #FFFFFF\"> <pad></span><span style=\"background-color: #FFFFFF\"> <pad></span><span style=\"background-color: #FFFFFF\"> <pad></span><span style=\"background-color: #FFFFFF\"> <pad></span><span style=\"background-color: #FFFFFF\"> <pad></span><span style=\"background-color: #FFFFFF\"> <pad></span><span style=\"background-color: #FFFFFF\"> <pad></span><span style=\"background-color: #FFFFFF\"> <pad></span><span style=\"background-color: #FFFFFF\"> <pad></span><span style=\"background-color: #FFFFFF\"> <pad></span><span style=\"background-color: #FFFFFF\"> <pad></span><span style=\"background-color: #FFFFFF\"> <pad></span><span style=\"background-color: #FFFFFF\"> <pad></span><span style=\"background-color: #FFFFFF\"> <pad></span><span style=\"background-color: #FFFFFF\"> <pad></span><span style=\"background-color: #FFFFFF\"> <pad></span><span style=\"background-color: #FFFFFF\"> <pad></span><span style=\"background-color: #FFFFFF\"> <pad></span><span style=\"background-color: #FFFFFF\"> <pad></span><span style=\"background-color: #FFFFFF\"> <pad></span><span style=\"background-color: #FFFFFF\"> <pad></span><span style=\"background-color: #FFFFFF\"> <pad></span><span style=\"background-color: #FFFFFF\"> <pad></span><span style=\"background-color: #FFFFFF\"> <pad></span><span style=\"background-color: #FFFFFF\"> <pad></span><span style=\"background-color: #FFFFFF\"> <pad></span><span style=\"background-color: #FFFFFF\"> <pad></span><span style=\"background-color: #FFFFFF\"> <pad></span><span style=\"background-color: #FFFFFF\"> <pad></span><span style=\"background-color: #FFFFFF\"> <pad></span><span style=\"background-color: #FFFFFF\"> <pad></span><span style=\"background-color: #FFFFFF\"> <pad></span><span style=\"background-color: #FFFFFF\"> <pad></span><span style=\"background-color: #FFFFFF\"> <pad></span><span style=\"background-color: #FFFFFF\"> <pad></span><span style=\"background-color: #FFFFFF\"> <pad></span><span style=\"background-color: #FFFFFF\"> <pad></span><span style=\"background-color: #FFFFFF\"> <pad></span><span style=\"background-color: #FFFFFF\"> <pad></span><span style=\"background-color: #FFFFFF\"> <pad></span><span style=\"background-color: #FFFFFF\"> <pad></span><span style=\"background-color: #FFFFFF\"> <pad></span><span style=\"background-color: #FFFFFF\"> <pad></span><span style=\"background-color: #FFFFFF\"> <pad></span><span style=\"background-color: #FFFFFF\"> <pad></span><span style=\"background-color: #FFFFFF\"> <pad></span><span style=\"background-color: #FFFFFF\"> <pad></span><span style=\"background-color: #FFFFFF\"> <pad></span><span style=\"background-color: #FFFFFF\"> <pad></span><span style=\"background-color: #FFFFFF\"> <pad></span><span style=\"background-color: #FFFFFF\"> <pad></span><span style=\"background-color: #FFFFFF\"> <pad></span><span style=\"background-color: #FFFFFF\"> <pad></span><span style=\"background-color: #FFFFFF\"> <pad></span><span style=\"background-color: #FFFFFF\"> <pad></span><span style=\"background-color: #FFFFFF\"> <pad></span><span style=\"background-color: #FFFFFF\"> <pad></span><span style=\"background-color: #FFFFFF\"> <pad></span><span style=\"background-color: #FFFFFF\"> <pad></span><span style=\"background-color: #FFFFFF\"> <pad></span><span style=\"background-color: #FFFFFF\"> <pad></span><span style=\"background-color: #FFFFFF\"> <pad></span><span style=\"background-color: #FFFFFF\"> <pad></span><span style=\"background-color: #FFFFFF\"> <pad></span><span style=\"background-color: #FFFFFF\"> <pad></span><span style=\"background-color: #FFFFFF\"> <pad></span><span style=\"background-color: #FFFFFF\"> <pad></span><span style=\"background-color: #FFFFFF\"> <pad></span><span style=\"background-color: #FFFFFF\"> <pad></span><span style=\"background-color: #FFFFFF\"> <pad></span><span style=\"background-color: #FFFFFF\"> <pad></span><span style=\"background-color: #FFFFFF\"> <pad></span><span style=\"background-color: #FFFFFF\"> <pad></span><span style=\"background-color: #FFFFFF\"> <pad></span><span style=\"background-color: #FFFFFF\"> <pad></span><span style=\"background-color: #FFFFFF\"> <pad></span><span style=\"background-color: #FFFFFF\"> <pad></span><span style=\"background-color: #FFFFFF\"> <pad></span><span style=\"background-color: #FFFFFF\"> <pad></span><span style=\"background-color: #FFFFFF\"> <pad></span><span style=\"background-color: #FFFFFF\"> <pad></span><span style=\"background-color: #FFFFFF\"> <pad></span><span style=\"background-color: #FFFFFF\"> <pad></span><span style=\"background-color: #FFFFFF\"> <pad></span><span style=\"background-color: #FFFFFF\"> <pad></span><span style=\"background-color: #FFFFFF\"> <pad></span><span style=\"background-color: #FFFFFF\"> <pad></span><span style=\"background-color: #FFFFFF\"> <pad></span><br><br>"
      ],
      "text/plain": [
       "<IPython.core.display.HTML object>"
      ]
     },
     "execution_count": 10,
     "metadata": {},
     "output_type": "execute_result"
    }
   ],
   "source": [
    "from IPython.display import HTML\n",
    "\n",
    "# Transformerで処理\n",
    "\n",
    "# ミニバッチの用意\n",
    "batch = next(iter(test_dl))\n",
    "\n",
    "# GPUが使えるならGPUにデータを送る\n",
    "inputs = batch.Text[0].to(device)  # 文章\n",
    "labels = batch.Label.to(device)  # ラベル\n",
    "\n",
    "# mask作成\n",
    "input_pad = 1  # 単語のIDにおいて、'<pad>': 1 なので\n",
    "input_mask = (inputs != input_pad)\n",
    "\n",
    "# Transformerに入力\n",
    "outputs, normlized_weights_1, normlized_weights_2 = net_trained(\n",
    "    inputs, input_mask)\n",
    "_, preds = torch.max(outputs, 1)  # ラベルを予測\n",
    "\n",
    "\n",
    "index = 3  # 出力させたいデータ\n",
    "html_output = mk_html(index, batch, preds, normlized_weights_1,\n",
    "                      normlized_weights_2, TEXT)  # HTML作成\n",
    "HTML(html_output)  # HTML形式で出力\n"
   ]
  },
  {
   "cell_type": "code",
   "execution_count": 11,
   "metadata": {},
   "outputs": [
    {
     "data": {
      "text/html": [
       "正解ラベル：Positive<br>推論ラベル：Negative<br><br>[TransformerBlockの1段目のAttentionを可視化]<br><span style=\"background-color: #FFFAFA\"> <cls></span><span style=\"background-color: #FFFBFB\"> i</span><span style=\"background-color: #FFF6F6\"> have</span><span style=\"background-color: #FFFDFD\"> to</span><span style=\"background-color: #FFEFEF\"> rate</span><span style=\"background-color: #FFF9F9\"> this</span><span style=\"background-color: #FFEFEF\"> movie</span><span style=\"background-color: #FFFEFE\"> at</span><span style=\"background-color: #FFFBFB\"> a</span><span style=\"background-color: #FFFCFC\"> 10</span><span style=\"background-color: #FFFEFE\"> .</span><span style=\"background-color: #FFFCFC\"> i</span><span style=\"background-color: #FFFEFE\"> m</span><span style=\"background-color: #FFA5A5\"> sorry</span><span style=\"background-color: #FFFEFE\"> but</span><span style=\"background-color: #FFFDFD\"> i</span><span style=\"background-color: #FFFCFC\"> think</span><span style=\"background-color: #FFFEFE\"> it</span><span style=\"background-color: #FFFDFD\"> s</span><span style=\"background-color: #FF6F6F\"> classic</span><span style=\"background-color: #FFE1E1\"> comedy</span><span style=\"background-color: #FFFEFE\"> .</span><span style=\"background-color: #FFFEFE\"> then</span><span style=\"background-color: #FFFEFE\"> ,</span><span style=\"background-color: #FFFEFE\"> if</span><span style=\"background-color: #FFFDFD\"> you</span><span style=\"background-color: #FFECEC\"> re</span><span style=\"background-color: #FFF2F2\"> rating</span><span style=\"background-color: #FFFEFE\"> it</span><span style=\"background-color: #FFFDFD\"> to</span><span style=\"background-color: #FFFEFE\"> other</span><span style=\"background-color: #FFFBFB\"> madonna</span><span style=\"background-color: #FFEDED\"> movies</span><span style=\"background-color: #FFFEFE\"> .</span><span style=\"background-color: #FFFEFE\"> .</span><span style=\"background-color: #FFFEFE\"> .</span><span style=\"background-color: #FFFDFD\"> well</span><span style=\"background-color: #FFFEFE\"> ,</span><span style=\"background-color: #FFFDFD\"> what</span><span style=\"background-color: #FFFDFD\"> you</span><span style=\"background-color: #FFF5F5\"> wanna</span><span style=\"background-color: #FFFDFD\"> tell</span><span style=\"background-color: #FFFEFE\"> me</span><span style=\"background-color: #FFFEFE\"> it</span><span style=\"background-color: #FFDCDC\"> wasn</span><span style=\"background-color: #FFFAFA\"> t</span><span style=\"background-color: #FFFDFD\"> her</span><span style=\"background-color: #FFC1C1\"> best</span><span style=\"background-color: #FFEAEA\"> movie</span><span style=\"background-color: #FFB4B4\"> ever</span><span style=\"background-color: #FFDADA\"> didn</span><span style=\"background-color: #FFF9F9\"> t</span><span style=\"background-color: #FFFDFD\"> mira</span><span style=\"background-color: #FFFEFE\"> sorvino</span><span style=\"background-color: #FFFAFA\"> win</span><span style=\"background-color: #FFFDFD\"> an</span><span style=\"background-color: #FFFAFA\"> oscar</span><span style=\"background-color: #FFFEFE\"> for</span><span style=\"background-color: #FFFBFB\"> almost</span><span style=\"background-color: #FFFCFC\"> the</span><span style=\"background-color: #FFF8F8\"> same</span><span style=\"background-color: #FFECEC\"> performance</span><span style=\"background-color: #FFEDED\"> not</span><span style=\"background-color: #FFFDFD\"> ten</span><span style=\"background-color: #FFFDFD\"> years</span><span style=\"background-color: #FFFEFE\"> later</span><span style=\"background-color: #FFFCFC\"> please</span><span style=\"background-color: #FFFEFE\"> ,</span><span style=\"background-color: #FFF8F8\"> this</span><span style=\"background-color: #FFECEC\"> movie</span><span style=\"background-color: #FFF5F5\"> deserves</span><span style=\"background-color: #FFFBFB\"> much</span><span style=\"background-color: #FFFEFE\"> more</span><span style=\"background-color: #FFF5F5\"> credit</span><span style=\"background-color: #FFFCFC\"> than</span><span style=\"background-color: #FFFDFD\"> it</span><span style=\"background-color: #FFFEFE\"> gets</span><span style=\"background-color: #FFFEFE\"> .</span><span style=\"background-color: #FFFEFE\"> plus</span><span style=\"background-color: #FFFEFE\"> ,</span><span style=\"background-color: #FFFCFC\"> i</span><span style=\"background-color: #FFFAFA\"> like</span><span style=\"background-color: #FFFCFC\"> to</span><span style=\"background-color: #FFF9F9\"> think</span><span style=\"background-color: #FFFBFB\"> of</span><span style=\"background-color: #FFFEFE\"> it</span><span style=\"background-color: #FFFEFE\"> as</span><span style=\"background-color: #FFFDFD\"> an</span><span style=\"background-color: #FFFBFB\"> a</span><span style=\"background-color: #FFFCFC\"> <unk></span><span style=\"background-color: #FFF4F4\"> study</span><span style=\"background-color: #FFFEFE\"> into</span><span style=\"background-color: #FFFCFC\"> the</span><span style=\"background-color: #FFFCFC\"> lifestyles</span><span style=\"background-color: #FFFCFC\"> of</span><span style=\"background-color: #FFFCFC\"> the</span><span style=\"background-color: #FFF2F2\"> 80</span><span style=\"background-color: #FFFBFB\"> s</span><span style=\"background-color: #FFFEFE\"> .</span><span style=\"background-color: #FFDDDD\"> remember</span><span style=\"background-color: #FFFEFE\"> when</span><span style=\"background-color: #FFFDFD\"> you</span><span style=\"background-color: #FFF7F7\"> could</span><span style=\"background-color: #FFF9F9\"> <unk></span><span style=\"background-color: #FFFDFD\"> from</span><span style=\"background-color: #FFFEFE\"> sam</span><span style=\"background-color: #FFF9F9\"> goody</span><span style=\"background-color: #FFFEFE\"> and</span><span style=\"background-color: #FFFCFC\"> <unk></span><span style=\"background-color: #FFFEFE\"> in</span><span style=\"background-color: #FFFDFD\"> the</span><span style=\"background-color: #FFFAFA\"> same</span><span style=\"background-color: #FFFBFB\"> day</span><span style=\"background-color: #FFE3E3\"> remember</span><span style=\"background-color: #FFFEFE\"> when</span><span style=\"background-color: #FFFEFE\"> women</span><span style=\"background-color: #FFF3F3\"> wore</span><span style=\"background-color: #FFFEFE\"> <unk></span><span style=\"background-color: #FFF9F9\"> eyebrows</span><span style=\"background-color: #FFF4F4\"> proudly</span><span style=\"background-color: #FFFEFE\"> so</span><span style=\"background-color: #FFFEFE\"> it</span><span style=\"background-color: #FFF6F6\"> was</span><span style=\"background-color: #FFF5F5\"> no</span><span style=\"background-color: #FFF8F8\"> last</span><span style=\"background-color: #FFFDFD\"> emperor</span><span style=\"background-color: #FFFEFE\"> ,</span><span style=\"background-color: #FFFEFE\"> it</span><span style=\"background-color: #FFF6F6\"> was</span><span style=\"background-color: #FFF7F7\"> still</span><span style=\"background-color: #FFA3A3\"> good</span><span style=\"background-color: #FFFEFE\"> .</span><span style=\"background-color: #FFFEFE\"> there</span><span style=\"background-color: #FFFDFD\"> are</span><span style=\"background-color: #FFFDFD\"> certain</span><span style=\"background-color: #FFF1F1\"> movies</span><span style=\"background-color: #FFFDFD\"> i</span><span style=\"background-color: #FFFEFE\"> d</span><span style=\"background-color: #FFFDFD\"> be</span><span style=\"background-color: #FFF7F7\"> willing</span><span style=\"background-color: #FFFDFD\"> to</span><span style=\"background-color: #FFEEEE\"> watch</span><span style=\"background-color: #FFF5F5\"> everyday</span><span style=\"background-color: #FFFEFE\"> .</span><span style=\"background-color: #FFFDFD\"> three</span><span style=\"background-color: #FFFEFE\"> ,</span><span style=\"background-color: #FFCCCC\"> actually</span><span style=\"background-color: #FFFEFE\"> ,</span><span style=\"background-color: #FFFCFC\"> that</span><span style=\"background-color: #FFFDFD\"> <unk></span><span style=\"background-color: #FFF8F8\"> up</span><span style=\"background-color: #FFF9F9\"> my</span><span style=\"background-color: #FFF9F9\"> day</span><span style=\"background-color: #FFFEFE\"> and</span><span style=\"background-color: #FFF8F8\"> make</span><span style=\"background-color: #FFFEFE\"> me</span><span style=\"background-color: #FFE4E4\"> smile</span><span style=\"background-color: #FFFEFE\"> .</span><span style=\"background-color: #FFFEFE\"> if</span><span style=\"background-color: #FFFDFD\"> you</span><span style=\"background-color: #FFFBFB\"> like</span><span style=\"background-color: #FFFEFE\"> who</span><span style=\"background-color: #FFFBFB\"> s</span><span style=\"background-color: #FFFCFC\"> that</span><span style=\"background-color: #FFFEFE\"> girl</span><span style=\"background-color: #FFFEFE\"> then</span><span style=\"background-color: #FFFCFC\"> i</span><span style=\"background-color: #FFFEFE\"> d</span><span style=\"background-color: #FFFCFC\"> also</span><span style=\"background-color: #FFD5D5\"> recommend</span><span style=\"background-color: #FFFCFC\"> party</span><span style=\"background-color: #FFFEFE\"> girl</span><span style=\"background-color: #FFFEFE\"> and</span><span style=\"background-color: #FFFDFD\"> romy</span><span style=\"background-color: #FFFEFE\"> and</span><span style=\"background-color: #FFFEFE\"> michelle</span><span style=\"background-color: #FFFBFB\"> s</span><span style=\"background-color: #FFFCFC\"> high</span><span style=\"background-color: #FFFBFB\"> school</span><span style=\"background-color: #FF0000\"> reunion</span><span style=\"background-color: #FFFEFE\"> .</span><span style=\"background-color: #FFFDFD\"> <eos></span><span style=\"background-color: #FFFFFF\"> <pad></span><span style=\"background-color: #FFFFFF\"> <pad></span><span style=\"background-color: #FFFFFF\"> <pad></span><span style=\"background-color: #FFFFFF\"> <pad></span><span style=\"background-color: #FFFFFF\"> <pad></span><span style=\"background-color: #FFFFFF\"> <pad></span><span style=\"background-color: #FFFFFF\"> <pad></span><span style=\"background-color: #FFFFFF\"> <pad></span><span style=\"background-color: #FFFFFF\"> <pad></span><span style=\"background-color: #FFFFFF\"> <pad></span><span style=\"background-color: #FFFFFF\"> <pad></span><span style=\"background-color: #FFFFFF\"> <pad></span><span style=\"background-color: #FFFFFF\"> <pad></span><span style=\"background-color: #FFFFFF\"> <pad></span><span style=\"background-color: #FFFFFF\"> <pad></span><span style=\"background-color: #FFFFFF\"> <pad></span><span style=\"background-color: #FFFFFF\"> <pad></span><span style=\"background-color: #FFFFFF\"> <pad></span><span style=\"background-color: #FFFFFF\"> <pad></span><span style=\"background-color: #FFFFFF\"> <pad></span><span style=\"background-color: #FFFFFF\"> <pad></span><span style=\"background-color: #FFFFFF\"> <pad></span><span style=\"background-color: #FFFFFF\"> <pad></span><span style=\"background-color: #FFFFFF\"> <pad></span><span style=\"background-color: #FFFFFF\"> <pad></span><span style=\"background-color: #FFFFFF\"> <pad></span><span style=\"background-color: #FFFFFF\"> <pad></span><span style=\"background-color: #FFFFFF\"> <pad></span><span style=\"background-color: #FFFFFF\"> <pad></span><span style=\"background-color: #FFFFFF\"> <pad></span><span style=\"background-color: #FFFFFF\"> <pad></span><span style=\"background-color: #FFFFFF\"> <pad></span><span style=\"background-color: #FFFFFF\"> <pad></span><span style=\"background-color: #FFFFFF\"> <pad></span><span style=\"background-color: #FFFFFF\"> <pad></span><span style=\"background-color: #FFFFFF\"> <pad></span><span style=\"background-color: #FFFFFF\"> <pad></span><span style=\"background-color: #FFFFFF\"> <pad></span><span style=\"background-color: #FFFFFF\"> <pad></span><span style=\"background-color: #FFFFFF\"> <pad></span><span style=\"background-color: #FFFFFF\"> <pad></span><span style=\"background-color: #FFFFFF\"> <pad></span><span style=\"background-color: #FFFFFF\"> <pad></span><span style=\"background-color: #FFFFFF\"> <pad></span><span style=\"background-color: #FFFFFF\"> <pad></span><span style=\"background-color: #FFFFFF\"> <pad></span><span style=\"background-color: #FFFFFF\"> <pad></span><span style=\"background-color: #FFFFFF\"> <pad></span><span style=\"background-color: #FFFFFF\"> <pad></span><span style=\"background-color: #FFFFFF\"> <pad></span><span style=\"background-color: #FFFFFF\"> <pad></span><span style=\"background-color: #FFFFFF\"> <pad></span><span style=\"background-color: #FFFFFF\"> <pad></span><span style=\"background-color: #FFFFFF\"> <pad></span><span style=\"background-color: #FFFFFF\"> <pad></span><span style=\"background-color: #FFFFFF\"> <pad></span><span style=\"background-color: #FFFFFF\"> <pad></span><span style=\"background-color: #FFFFFF\"> <pad></span><span style=\"background-color: #FFFFFF\"> <pad></span><span style=\"background-color: #FFFFFF\"> <pad></span><span style=\"background-color: #FFFFFF\"> <pad></span><span style=\"background-color: #FFFFFF\"> <pad></span><span style=\"background-color: #FFFFFF\"> <pad></span><span style=\"background-color: #FFFFFF\"> <pad></span><span style=\"background-color: #FFFFFF\"> <pad></span><span style=\"background-color: #FFFFFF\"> <pad></span><span style=\"background-color: #FFFFFF\"> <pad></span><span style=\"background-color: #FFFFFF\"> <pad></span><span style=\"background-color: #FFFFFF\"> <pad></span><span style=\"background-color: #FFFFFF\"> <pad></span><span style=\"background-color: #FFFFFF\"> <pad></span><span style=\"background-color: #FFFFFF\"> <pad></span><span style=\"background-color: #FFFFFF\"> <pad></span><span style=\"background-color: #FFFFFF\"> <pad></span><br><br>[TransformerBlockの2段目のAttentionを可視化]<br><span style=\"background-color: #FFFDFD\"> <cls></span><span style=\"background-color: #FFFDFD\"> i</span><span style=\"background-color: #FFE8E8\"> have</span><span style=\"background-color: #FFFDFD\"> to</span><span style=\"background-color: #FFFBFB\"> rate</span><span style=\"background-color: #FFE0E0\"> this</span><span style=\"background-color: #FFF9F9\"> movie</span><span style=\"background-color: #FFF9F9\"> at</span><span style=\"background-color: #FFFAFA\"> a</span><span style=\"background-color: #FFFCFC\"> 10</span><span style=\"background-color: #FFFAFA\"> .</span><span style=\"background-color: #FFFDFD\"> i</span><span style=\"background-color: #FFFCFC\"> m</span><span style=\"background-color: #FFACAC\"> sorry</span><span style=\"background-color: #FFF5F5\"> but</span><span style=\"background-color: #FFFDFD\"> i</span><span style=\"background-color: #FFFCFC\"> think</span><span style=\"background-color: #FFEDED\"> it</span><span style=\"background-color: #FFF6F6\"> s</span><span style=\"background-color: #FF8686\"> classic</span><span style=\"background-color: #FFCFCF\"> comedy</span><span style=\"background-color: #FFF8F8\"> .</span><span style=\"background-color: #FFFBFB\"> then</span><span style=\"background-color: #FFFAFA\"> ,</span><span style=\"background-color: #FFEEEE\"> if</span><span style=\"background-color: #FFF5F5\"> you</span><span style=\"background-color: #FFF7F7\"> re</span><span style=\"background-color: #FFCDCD\"> rating</span><span style=\"background-color: #FFF3F3\"> it</span><span style=\"background-color: #FFFEFE\"> to</span><span style=\"background-color: #FFEDED\"> other</span><span style=\"background-color: #FFFEFE\"> madonna</span><span style=\"background-color: #FFFBFB\"> movies</span><span style=\"background-color: #FFF9F9\"> .</span><span style=\"background-color: #FFF8F8\"> .</span><span style=\"background-color: #FFF7F7\"> .</span><span style=\"background-color: #FF8282\"> well</span><span style=\"background-color: #FFFBFB\"> ,</span><span style=\"background-color: #FFF8F8\"> what</span><span style=\"background-color: #FFF7F7\"> you</span><span style=\"background-color: #FFFBFB\"> wanna</span><span style=\"background-color: #FFFAFA\"> tell</span><span style=\"background-color: #FFF7F7\"> me</span><span style=\"background-color: #FFF3F3\"> it</span><span style=\"background-color: #FFFCFC\"> wasn</span><span style=\"background-color: #FFF0F0\"> t</span><span style=\"background-color: #FFFAFA\"> her</span><span style=\"background-color: #FF5353\"> best</span><span style=\"background-color: #FFFCFC\"> movie</span><span style=\"background-color: #FFEFEF\"> ever</span><span style=\"background-color: #FFFDFD\"> didn</span><span style=\"background-color: #FFECEC\"> t</span><span style=\"background-color: #FFFEFE\"> mira</span><span style=\"background-color: #FFFDFD\"> sorvino</span><span style=\"background-color: #FFF2F2\"> win</span><span style=\"background-color: #FFFCFC\"> an</span><span style=\"background-color: #FFFBFB\"> oscar</span><span style=\"background-color: #FFFDFD\"> for</span><span style=\"background-color: #FFEAEA\"> almost</span><span style=\"background-color: #FFFDFD\"> the</span><span style=\"background-color: #FFE7E7\"> same</span><span style=\"background-color: #FFF9F9\"> performance</span><span style=\"background-color: #FFF6F6\"> not</span><span style=\"background-color: #FFF4F4\"> ten</span><span style=\"background-color: #FFFDFD\"> years</span><span style=\"background-color: #FFFBFB\"> later</span><span style=\"background-color: #FFFAFA\"> please</span><span style=\"background-color: #FFFBFB\"> ,</span><span style=\"background-color: #FFEDED\"> this</span><span style=\"background-color: #FFFCFC\"> movie</span><span style=\"background-color: #FFDEDE\"> deserves</span><span style=\"background-color: #FF8585\"> much</span><span style=\"background-color: #FFD5D5\"> more</span><span style=\"background-color: #FFFAFA\"> credit</span><span style=\"background-color: #FFFCFC\"> than</span><span style=\"background-color: #FFEDED\"> it</span><span style=\"background-color: #FFB1B1\"> gets</span><span style=\"background-color: #FFF7F7\"> .</span><span style=\"background-color: #FFF8F8\"> plus</span><span style=\"background-color: #FFFAFA\"> ,</span><span style=\"background-color: #FFFDFD\"> i</span><span style=\"background-color: #FFF7F7\"> like</span><span style=\"background-color: #FFFDFD\"> to</span><span style=\"background-color: #FFFDFD\"> think</span><span style=\"background-color: #FFFDFD\"> of</span><span style=\"background-color: #FFF2F2\"> it</span><span style=\"background-color: #FFFCFC\"> as</span><span style=\"background-color: #FFFDFD\"> an</span><span style=\"background-color: #FFFBFB\"> a</span><span style=\"background-color: #FFFEFE\"> <unk></span><span style=\"background-color: #FFFEFE\"> study</span><span style=\"background-color: #FFF9F9\"> into</span><span style=\"background-color: #FFFEFE\"> the</span><span style=\"background-color: #FFF9F9\"> lifestyles</span><span style=\"background-color: #FFFDFD\"> of</span><span style=\"background-color: #FFFEFE\"> the</span><span style=\"background-color: #FFFBFB\"> 80</span><span style=\"background-color: #FFFAFA\"> s</span><span style=\"background-color: #FFFBFB\"> .</span><span style=\"background-color: #FFFAFA\"> remember</span><span style=\"background-color: #FFFDFD\"> when</span><span style=\"background-color: #FFF6F6\"> you</span><span style=\"background-color: #FFFDFD\"> could</span><span style=\"background-color: #FFFEFE\"> <unk></span><span style=\"background-color: #FFFDFD\"> from</span><span style=\"background-color: #FFF2F2\"> sam</span><span style=\"background-color: #FFC9C9\"> goody</span><span style=\"background-color: #FFFBFB\"> and</span><span style=\"background-color: #FFFBFB\"> <unk></span><span style=\"background-color: #FFFDFD\"> in</span><span style=\"background-color: #FFFDFD\"> the</span><span style=\"background-color: #FFE5E5\"> same</span><span style=\"background-color: #FFF6F6\"> day</span><span style=\"background-color: #FFF9F9\"> remember</span><span style=\"background-color: #FFFDFD\"> when</span><span style=\"background-color: #FFFEFE\"> women</span><span style=\"background-color: #FFFEFE\"> wore</span><span style=\"background-color: #FFFDFD\"> <unk></span><span style=\"background-color: #FFFCFC\"> eyebrows</span><span style=\"background-color: #FFF8F8\"> proudly</span><span style=\"background-color: #FFF3F3\"> so</span><span style=\"background-color: #FFF1F1\"> it</span><span style=\"background-color: #FFFDFD\"> was</span><span style=\"background-color: #FF0202\"> no</span><span style=\"background-color: #FFF8F8\"> last</span><span style=\"background-color: #FFE2E2\"> emperor</span><span style=\"background-color: #FFFAFA\"> ,</span><span style=\"background-color: #FFEFEF\"> it</span><span style=\"background-color: #FFFDFD\"> was</span><span style=\"background-color: #FFF5F5\"> still</span><span style=\"background-color: #FF6D6D\"> good</span><span style=\"background-color: #FFF8F8\"> .</span><span style=\"background-color: #FFFBFB\"> there</span><span style=\"background-color: #FFB6B6\"> are</span><span style=\"background-color: #FFA9A9\"> certain</span><span style=\"background-color: #FFFAFA\"> movies</span><span style=\"background-color: #FFFCFC\"> i</span><span style=\"background-color: #FFF4F4\"> d</span><span style=\"background-color: #FFBCBC\"> be</span><span style=\"background-color: #FFE1E1\"> willing</span><span style=\"background-color: #FFFDFD\"> to</span><span style=\"background-color: #FFF2F2\"> watch</span><span style=\"background-color: #FFD5D5\"> everyday</span><span style=\"background-color: #FFFAFA\"> .</span><span style=\"background-color: #FFEDED\"> three</span><span style=\"background-color: #FFFBFB\"> ,</span><span style=\"background-color: #FFF7F7\"> actually</span><span style=\"background-color: #FFFBFB\"> ,</span><span style=\"background-color: #FFF2F2\"> that</span><span style=\"background-color: #FFFAFA\"> <unk></span><span style=\"background-color: #FFEEEE\"> up</span><span style=\"background-color: #FFEDED\"> my</span><span style=\"background-color: #FFF4F4\"> day</span><span style=\"background-color: #FFFCFC\"> and</span><span style=\"background-color: #FFF8F8\"> make</span><span style=\"background-color: #FFF2F2\"> me</span><span style=\"background-color: #FFF9F9\"> smile</span><span style=\"background-color: #FFF8F8\"> .</span><span style=\"background-color: #FFECEC\"> if</span><span style=\"background-color: #FFF3F3\"> you</span><span style=\"background-color: #FFF5F5\"> like</span><span style=\"background-color: #FFFBFB\"> who</span><span style=\"background-color: #FFF5F5\"> s</span><span style=\"background-color: #FFF4F4\"> that</span><span style=\"background-color: #FFFDFD\"> girl</span><span style=\"background-color: #FFF9F9\"> then</span><span style=\"background-color: #FFFCFC\"> i</span><span style=\"background-color: #FFF2F2\"> d</span><span style=\"background-color: #FFE2E2\"> also</span><span style=\"background-color: #FFE3E3\"> recommend</span><span style=\"background-color: #FFF8F8\"> party</span><span style=\"background-color: #FFFDFD\"> girl</span><span style=\"background-color: #FFFBFB\"> and</span><span style=\"background-color: #FFFBFB\"> romy</span><span style=\"background-color: #FFFCFC\"> and</span><span style=\"background-color: #FFFDFD\"> michelle</span><span style=\"background-color: #FFF5F5\"> s</span><span style=\"background-color: #FF0000\"> high</span><span style=\"background-color: #FFFEFE\"> school</span><span style=\"background-color: #FFFDFD\"> reunion</span><span style=\"background-color: #FFF4F4\"> .</span><span style=\"background-color: #FFFAFA\"> <eos></span><span style=\"background-color: #FFFFFF\"> <pad></span><span style=\"background-color: #FFFFFF\"> <pad></span><span style=\"background-color: #FFFFFF\"> <pad></span><span style=\"background-color: #FFFFFF\"> <pad></span><span style=\"background-color: #FFFFFF\"> <pad></span><span style=\"background-color: #FFFFFF\"> <pad></span><span style=\"background-color: #FFFFFF\"> <pad></span><span style=\"background-color: #FFFFFF\"> <pad></span><span style=\"background-color: #FFFFFF\"> <pad></span><span style=\"background-color: #FFFFFF\"> <pad></span><span style=\"background-color: #FFFFFF\"> <pad></span><span style=\"background-color: #FFFFFF\"> <pad></span><span style=\"background-color: #FFFFFF\"> <pad></span><span style=\"background-color: #FFFFFF\"> <pad></span><span style=\"background-color: #FFFFFF\"> <pad></span><span style=\"background-color: #FFFFFF\"> <pad></span><span style=\"background-color: #FFFFFF\"> <pad></span><span style=\"background-color: #FFFFFF\"> <pad></span><span style=\"background-color: #FFFFFF\"> <pad></span><span style=\"background-color: #FFFFFF\"> <pad></span><span style=\"background-color: #FFFFFF\"> <pad></span><span style=\"background-color: #FFFFFF\"> <pad></span><span style=\"background-color: #FFFFFF\"> <pad></span><span style=\"background-color: #FFFFFF\"> <pad></span><span style=\"background-color: #FFFFFF\"> <pad></span><span style=\"background-color: #FFFFFF\"> <pad></span><span style=\"background-color: #FFFFFF\"> <pad></span><span style=\"background-color: #FFFFFF\"> <pad></span><span style=\"background-color: #FFFFFF\"> <pad></span><span style=\"background-color: #FFFFFF\"> <pad></span><span style=\"background-color: #FFFFFF\"> <pad></span><span style=\"background-color: #FFFFFF\"> <pad></span><span style=\"background-color: #FFFFFF\"> <pad></span><span style=\"background-color: #FFFFFF\"> <pad></span><span style=\"background-color: #FFFFFF\"> <pad></span><span style=\"background-color: #FFFFFF\"> <pad></span><span style=\"background-color: #FFFFFF\"> <pad></span><span style=\"background-color: #FFFFFF\"> <pad></span><span style=\"background-color: #FFFFFF\"> <pad></span><span style=\"background-color: #FFFFFF\"> <pad></span><span style=\"background-color: #FFFFFF\"> <pad></span><span style=\"background-color: #FFFFFF\"> <pad></span><span style=\"background-color: #FFFFFF\"> <pad></span><span style=\"background-color: #FFFFFF\"> <pad></span><span style=\"background-color: #FFFFFF\"> <pad></span><span style=\"background-color: #FFFFFF\"> <pad></span><span style=\"background-color: #FFFFFF\"> <pad></span><span style=\"background-color: #FFFFFF\"> <pad></span><span style=\"background-color: #FFFFFF\"> <pad></span><span style=\"background-color: #FFFFFF\"> <pad></span><span style=\"background-color: #FFFFFF\"> <pad></span><span style=\"background-color: #FFFFFF\"> <pad></span><span style=\"background-color: #FFFFFF\"> <pad></span><span style=\"background-color: #FFFFFF\"> <pad></span><span style=\"background-color: #FFFFFF\"> <pad></span><span style=\"background-color: #FFFFFF\"> <pad></span><span style=\"background-color: #FFFFFF\"> <pad></span><span style=\"background-color: #FFFFFF\"> <pad></span><span style=\"background-color: #FFFFFF\"> <pad></span><span style=\"background-color: #FFFFFF\"> <pad></span><span style=\"background-color: #FFFFFF\"> <pad></span><span style=\"background-color: #FFFFFF\"> <pad></span><span style=\"background-color: #FFFFFF\"> <pad></span><span style=\"background-color: #FFFFFF\"> <pad></span><span style=\"background-color: #FFFFFF\"> <pad></span><span style=\"background-color: #FFFFFF\"> <pad></span><span style=\"background-color: #FFFFFF\"> <pad></span><span style=\"background-color: #FFFFFF\"> <pad></span><span style=\"background-color: #FFFFFF\"> <pad></span><span style=\"background-color: #FFFFFF\"> <pad></span><span style=\"background-color: #FFFFFF\"> <pad></span><span style=\"background-color: #FFFFFF\"> <pad></span><span style=\"background-color: #FFFFFF\"> <pad></span><span style=\"background-color: #FFFFFF\"> <pad></span><br><br>"
      ],
      "text/plain": [
       "<IPython.core.display.HTML object>"
      ]
     },
     "execution_count": 11,
     "metadata": {},
     "output_type": "execute_result"
    }
   ],
   "source": [
    "index = 61  # 出力させたいデータ\n",
    "html_output = mk_html(index, batch, preds, normlized_weights_1,\n",
    "                      normlized_weights_2, TEXT)  # HTML作成\n",
    "HTML(html_output)  # HTML形式で出力\n"
   ]
  },
  {
   "cell_type": "markdown",
   "metadata": {},
   "source": [
    "以上"
   ]
  }
 ],
 "metadata": {
  "kernelspec": {
   "display_name": "base",
   "language": "python",
   "name": "python3"
  },
  "language_info": {
   "codemirror_mode": {
    "name": "ipython",
    "version": 3
   },
   "file_extension": ".py",
   "mimetype": "text/x-python",
   "name": "python",
   "nbconvert_exporter": "python",
   "pygments_lexer": "ipython3",
   "version": "3.10.14"
  }
 },
 "nbformat": 4,
 "nbformat_minor": 2
}
