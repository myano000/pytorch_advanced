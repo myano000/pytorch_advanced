{
 "cells": [
  {
   "cell_type": "markdown",
   "metadata": {
    "id": "NRDrOClOJvlA"
   },
   "source": [
    "# 2.7 学習と検証の実施\n",
    "\n",
    "- 本ファイルでは、SSDの学習と検証の実施を行います。手元のマシンで動作を確認後、AWSのGPUマシンで計算します。\n",
    "- p2.xlargeで約6時間かかります。\n"
   ]
  },
  {
   "cell_type": "markdown",
   "metadata": {
    "id": "dQkSZ3f7JvlH"
   },
   "source": [
    "# 学習目標\n",
    "\n",
    "1.\tSSDの学習を実装できるようになる"
   ]
  },
  {
   "cell_type": "markdown",
   "metadata": {
    "id": "E-pUmMgPJvlI"
   },
   "source": [
    "# 事前準備\n",
    "\n",
    "- AWS EC2 のGPUインスタンスを使用します\n",
    "- フォルダ「utils」のssd_model.pyをします"
   ]
  },
  {
   "cell_type": "code",
   "execution_count": 1,
   "metadata": {
    "id": "5wFXuAjsJvlI"
   },
   "outputs": [],
   "source": [
    "# パッケージのimport\n",
    "import os.path as osp\n",
    "import random\n",
    "import time\n",
    "\n",
    "import cv2\n",
    "import numpy as np\n",
    "import pandas as pd\n",
    "import torch\n",
    "import torch.nn as nn\n",
    "import torch.nn.init as init\n",
    "import torch.optim as optim\n",
    "import torch.utils.data as data\n",
    "from tqdm import tqdm"
   ]
  },
  {
   "cell_type": "code",
   "execution_count": 2,
   "metadata": {
    "id": "MKIiLcdZJvlJ"
   },
   "outputs": [],
   "source": [
    "# 乱数のシードを設定\n",
    "torch.manual_seed(1234)\n",
    "np.random.seed(1234)\n",
    "random.seed(1234)"
   ]
  },
  {
   "cell_type": "code",
   "execution_count": 3,
   "metadata": {
    "id": "fNcYx2L0JvlK",
    "outputId": "c2e8ec71-fb0c-4dd1-f05c-a1e6bf500a8a"
   },
   "outputs": [
    {
     "name": "stdout",
     "output_type": "stream",
     "text": [
      "使用デバイス： cuda:0\n"
     ]
    }
   ],
   "source": [
    "device = torch.device(\"cuda:0\" if torch.cuda.is_available() else \"cpu\")\n",
    "print(\"使用デバイス：\", device)"
   ]
  },
  {
   "cell_type": "markdown",
   "metadata": {
    "id": "Q2hwPVpFJvlK"
   },
   "source": [
    "# DatasetとDataLoaderを作成する"
   ]
  },
  {
   "cell_type": "code",
   "execution_count": 4,
   "metadata": {
    "id": "9scicyiOJvlL"
   },
   "outputs": [],
   "source": [
    "from utils.ssd_model import make_datapath_list, VOCDataset, DataTransform, Anno_xml2list, od_collate_fn\n",
    "import os\n",
    "os.cpu_count()\n",
    "\n",
    "# ファイルパスのリストを取得\n",
    "rootpath = \"./data/VOCdevkit/VOC2012/\"\n",
    "train_img_list, train_anno_list, val_img_list, val_anno_list = make_datapath_list(\n",
    "    rootpath)\n",
    "\n",
    "# Datasetを作成\n",
    "voc_classes = ['aeroplane', 'bicycle', 'bird', 'boat',\n",
    "               'bottle', 'bus', 'car', 'cat', 'chair',\n",
    "               'cow', 'diningtable', 'dog', 'horse',\n",
    "               'motorbike', 'person', 'pottedplant',\n",
    "               'sheep', 'sofa', 'train', 'tvmonitor']\n",
    "color_mean = (104, 117, 123)  # (BGR)の色の平均値\n",
    "input_size = 300  # 画像のinputサイズを300×300にする\n",
    "\n",
    "train_dataset = VOCDataset(train_img_list, train_anno_list, phase=\"train\", transform=DataTransform(\n",
    "    input_size, color_mean), transform_anno=Anno_xml2list(voc_classes))\n",
    "\n",
    "val_dataset = VOCDataset(val_img_list, val_anno_list, phase=\"val\", transform=DataTransform(\n",
    "    input_size, color_mean), transform_anno=Anno_xml2list(voc_classes))\n",
    "\n",
    "\n",
    "# DataLoaderを作成する\n",
    "batch_size = 32\n",
    "\n",
    "train_dataloader = data.DataLoader(\n",
    "    train_dataset, batch_size=batch_size, shuffle=True, collate_fn=od_collate_fn, num_workers=2, pin_memory=True)\n",
    "\n",
    "val_dataloader = data.DataLoader(\n",
    "    val_dataset, batch_size=batch_size, shuffle=False, collate_fn=od_collate_fn, num_workers=2, pin_memory=True)\n",
    "\n",
    "# 辞書オブジェクトにまとめる\n",
    "dataloaders_dict = {\"train\": train_dataloader, \"val\": val_dataloader}\n"
   ]
  },
  {
   "cell_type": "markdown",
   "metadata": {
    "id": "Vbyl0KAwJvlL"
   },
   "source": [
    "# ネットワークモデルの作成する"
   ]
  },
  {
   "cell_type": "code",
   "execution_count": 5,
   "metadata": {
    "id": "4dFZ6oVjJvlM",
    "outputId": "6e7542ee-79e0-412d-afcd-342f6927eb57"
   },
   "outputs": [
    {
     "name": "stdout",
     "output_type": "stream",
     "text": [
      "使用デバイス： cuda:0\n",
      "ネットワーク設定完了：学習済みの重みをロードしました\n"
     ]
    }
   ],
   "source": [
    "from utils.ssd_model import SSD\n",
    "\n",
    "# SSD300の設定\n",
    "ssd_cfg = {\n",
    "    'num_classes': 21,  # 背景クラスを含めた合計クラス数\n",
    "    'input_size': 300,  # 画像の入力サイズ\n",
    "    'bbox_aspect_num': [4, 6, 6, 6, 4, 4],  # 出力するDBoxのアスペクト比の種類\n",
    "    'feature_maps': [38, 19, 10, 5, 3, 1],  # 各sourceの画像サイズ\n",
    "    'steps': [8, 16, 32, 64, 100, 300],  # DBOXの大きさを決める\n",
    "    'min_sizes': [30, 60, 111, 162, 213, 264],  # DBOXの大きさを決める\n",
    "    'max_sizes': [60, 111, 162, 213, 264, 315],  # DBOXの大きさを決める\n",
    "    'aspect_ratios': [[2], [2, 3], [2, 3], [2, 3], [2], [2]],\n",
    "}\n",
    "\n",
    "# SSDネットワークモデル\n",
    "net = SSD(phase=\"train\", cfg=ssd_cfg)\n",
    "\n",
    "# SSDの初期の重みを設定\n",
    "# ssdのvgg部分に重みをロードする\n",
    "vgg_weights = torch.load('./weights/vgg16_reducedfc.pth')\n",
    "net.vgg.load_state_dict(vgg_weights)\n",
    "# 最適化手法の設定\n",
    "optimizer = optim.SGD(net.parameters(), lr=1e-3,\n",
    "                      momentum=0.9, weight_decay=5e-4)\n",
    "#optimizer.load_state_dict(vgg_weights['optimizer_state_dict'])\n",
    "# ssdのその他のネットワークの重みはHeの初期値で初期化\n",
    "\n",
    "\n",
    "def weights_init(m):\n",
    "    if isinstance(m, nn.Conv2d):\n",
    "        init.kaiming_normal_(m.weight.data)\n",
    "        if m.bias is not None:  # バイアス項がある場合\n",
    "            nn.init.constant_(m.bias, 0.0)\n",
    "\n",
    "\n",
    "# Heの初期値を適用\n",
    "net.extras.apply(weights_init)\n",
    "net.loc.apply(weights_init)\n",
    "net.conf.apply(weights_init)\n",
    "\n",
    "# GPUが使えるかを確認\n",
    "device = torch.device(\"cuda:0\" if torch.cuda.is_available() else \"cpu\")\n",
    "print(\"使用デバイス：\", device)\n",
    "\n",
    "print('ネットワーク設定完了：学習済みの重みをロードしました')\n"
   ]
  },
  {
   "cell_type": "markdown",
   "metadata": {
    "id": "c5tGwXegJvlM"
   },
   "source": [
    "# 損失関数と最適化手法を定義する"
   ]
  },
  {
   "cell_type": "code",
   "execution_count": 6,
   "metadata": {
    "id": "IkZq2BPeJvlM"
   },
   "outputs": [],
   "source": [
    "from utils.ssd_model import MultiBoxLoss\n",
    "\n",
    "# 損失関数の設定\n",
    "criterion = MultiBoxLoss(jaccard_thresh=0.5, neg_pos=3, device=device)\n"
   ]
  },
  {
   "cell_type": "markdown",
   "metadata": {
    "id": "PXpicFdQJvlN"
   },
   "source": [
    "# 学習・検証を実施する"
   ]
  },
  {
   "cell_type": "code",
   "execution_count": 7,
   "metadata": {
    "id": "h5BNcGMKJvlN"
   },
   "outputs": [],
   "source": [
    "# モデルを学習させる関数を作成\n",
    "\n",
    "\n",
    "def train_model(net, dataloaders_dict, criterion, optimizer, num_epochs):\n",
    "\n",
    "    # GPUが使えるかを確認\n",
    "    device = torch.device(\"cuda:0\" if torch.cuda.is_available() else \"cpu\")\n",
    "    print(\"使用デバイス：\", device)\n",
    "\n",
    "    # ネットワークをGPUへ\n",
    "    net.to(device)\n",
    "\n",
    "    # ネットワークがある程度固定であれば、高速化させる\n",
    "    torch.backends.cudnn.benchmark = True\n",
    "\n",
    "    # イテレーションカウンタをセット\n",
    "    iteration = 1\n",
    "    epoch_train_loss = 0.0  # epochの損失和\n",
    "    epoch_val_loss = 0.0  # epochの損失和\n",
    "    logs = []\n",
    "\n",
    "    # epochのループ\n",
    "    for epoch in range(num_epochs+1):\n",
    "    #for epoch in range(1):\n",
    "\n",
    "        torch.cuda.empty_cache\n",
    "        # 開始時刻を保存\n",
    "        t_epoch_start = time.time()\n",
    "        t_iter_start = time.time()\n",
    "\n",
    "        print('-------------')\n",
    "        print('Epoch {}/{}'.format(epoch+1, num_epochs))\n",
    "        print('-------------')\n",
    "\n",
    "        # epochごとの訓練と検証のループ\n",
    "        for phase in ['train', 'val']:\n",
    "            if phase == 'train':\n",
    "                net.train()  # モデルを訓練モードに\n",
    "                print('（train）')\n",
    "            else:\n",
    "                if((epoch+1) % 10 == 0):\n",
    "                    net.eval()   # モデルを検証モードに\n",
    "                    print('-------------')\n",
    "                    print('（val）')\n",
    "                else:\n",
    "                    # 検証は10回に1回だけ行う\n",
    "                    continue\n",
    "\n",
    "            # データローダーからminibatchずつ取り出すループ\n",
    "            #for images, targets in dataloaders_dict[phase]:\n",
    "            for images, targets in tqdm(dataloaders_dict[phase]):\n",
    "                torch.cuda.empty_cache\n",
    "\n",
    "                # GPUが使えるならGPUにデータを送る\n",
    "                images = images.to(device)\n",
    "                targets = [ann.to(device)\n",
    "                           for ann in targets]  # リストの各要素のテンソルをGPUへ\n",
    "\n",
    "                # optimizerを初期化\n",
    "                optimizer.zero_grad()\n",
    "\n",
    "                # 順伝搬（forward）計算\n",
    "                with torch.set_grad_enabled(phase == 'train'):\n",
    "                    # 順伝搬（forward）計算\n",
    "                    outputs = net(images)\n",
    "\n",
    "                    # 損失の計算\n",
    "                    loss_l, loss_c = criterion(outputs, targets)\n",
    "                    loss = loss_l + loss_c\n",
    "\n",
    "                    # 訓練時はバックプロパゲーション\n",
    "                    if phase == 'train':\n",
    "                        loss.backward()  # 勾配の計算\n",
    "\n",
    "                        # 勾配が大きくなりすぎると計算が不安定になるので、clipで最大でも勾配2.0に留める\n",
    "                        nn.utils.clip_grad_value_(\n",
    "                            net.parameters(), clip_value=2.0)\n",
    "\n",
    "                        optimizer.step()  # パラメータ更新\n",
    "\n",
    "                        if (iteration % 10 == 0):  # 10iterに1度、lossを表示\n",
    "                            t_iter_finish = time.time()\n",
    "                            duration = t_iter_finish - t_iter_start\n",
    "                            print('イテレーション {} || Loss: {:.4f} || 10iter: {:.4f} sec.'.format(\n",
    "                                iteration, loss.item(), duration))\n",
    "                            t_iter_start = time.time()\n",
    "\n",
    "                        epoch_train_loss += loss.item()\n",
    "                        iteration += 1\n",
    "\n",
    "                    # 検証時\n",
    "                    else:\n",
    "                        epoch_val_loss += loss.item()\n",
    "\n",
    "        # epochのphaseごとのloss （Issue158での誤植修正）\n",
    "        t_epoch_finish = time.time()\n",
    "        print('-------------')\n",
    "        print('epoch {} || Epoch_TRAIN_Loss:{:.4f} ||Epoch_VAL_Loss:{:.4f}'.format(\n",
    "            epoch+1, epoch_train_loss, epoch_val_loss))\n",
    "        print('timer:  {:.4f} sec.'.format(t_epoch_finish - t_epoch_start))\n",
    "        t_epoch_start = time.time()\n",
    "\n",
    "        # ログを保存\n",
    "        log_epoch = {'epoch': epoch+1,\n",
    "                     'train_loss': epoch_train_loss, 'val_loss': epoch_val_loss}\n",
    "        logs.append(log_epoch)\n",
    "        df = pd.DataFrame(logs)\n",
    "        df.to_csv(\"log_output.csv\")\n",
    "\n",
    "        epoch_train_loss = 0.0  # epochの損失和\n",
    "        epoch_val_loss = 0.0  # epochの損失和\n",
    "\n",
    "        # ネットワークを保存する\n",
    "        if ((epoch+1) % 1 == 0):\n",
    "            #torch.save(net.state_dict(), 'weights/ssd300_' +\n",
    "            #           str(epoch+1) + '.pth')\n",
    "            save_path = 'weights/ssd300_' + str(epoch+1) + '.pth'\n",
    "            torch.save({'epoch': epoch,\n",
    "                        'model_state_dict': net.state_dict(),\n",
    "                        'optimizer_state_dict': optimizer.state_dict(),\n",
    "                        'loss': loss,},\n",
    "                        save_path)\n"
   ]
  },
  {
   "cell_type": "code",
   "execution_count": 8,
   "metadata": {
    "id": "BuOV3vkiJvlO",
    "outputId": "0a817057-95b0-4c31-f25a-9649d1d21a2f",
    "scrolled": true
   },
   "outputs": [
    {
     "name": "stdout",
     "output_type": "stream",
     "text": [
      "使用デバイス： cuda:0\n",
      "-------------\n",
      "Epoch 1/1\n",
      "-------------\n",
      "（train）\n"
     ]
    },
    {
     "name": "stderr",
     "output_type": "stream",
     "text": [
      "  6%|████▌                                                                             | 10/179 [02:25<38:33, 13.69s/it]"
     ]
    },
    {
     "name": "stdout",
     "output_type": "stream",
     "text": [
      "イテレーション 10 || Loss: 16.4057 || 10iter: 134.5623 sec.\n"
     ]
    },
    {
     "name": "stderr",
     "output_type": "stream",
     "text": [
      " 11%|█████████▏                                                                        | 20/179 [04:40<35:50, 13.53s/it]"
     ]
    },
    {
     "name": "stdout",
     "output_type": "stream",
     "text": [
      "イテレーション 20 || Loss: 12.8523 || 10iter: 125.1091 sec.\n"
     ]
    },
    {
     "name": "stderr",
     "output_type": "stream",
     "text": [
      " 17%|█████████████▋                                                                    | 30/179 [06:56<33:36, 13.53s/it]"
     ]
    },
    {
     "name": "stdout",
     "output_type": "stream",
     "text": [
      "イテレーション 30 || Loss: 13.1436 || 10iter: 125.1892 sec.\n"
     ]
    },
    {
     "name": "stderr",
     "output_type": "stream",
     "text": [
      " 22%|██████████████████▎                                                               | 40/179 [09:11<31:21, 13.54s/it]"
     ]
    },
    {
     "name": "stdout",
     "output_type": "stream",
     "text": [
      "イテレーション 40 || Loss: 10.4718 || 10iter: 125.0442 sec.\n"
     ]
    },
    {
     "name": "stderr",
     "output_type": "stream",
     "text": [
      " 28%|██████████████████████▉                                                           | 50/179 [11:26<29:02, 13.51s/it]"
     ]
    },
    {
     "name": "stdout",
     "output_type": "stream",
     "text": [
      "イテレーション 50 || Loss: 9.1266 || 10iter: 124.6974 sec.\n"
     ]
    },
    {
     "name": "stderr",
     "output_type": "stream",
     "text": [
      " 34%|███████████████████████████▍                                                      | 60/179 [13:42<26:48, 13.51s/it]"
     ]
    },
    {
     "name": "stdout",
     "output_type": "stream",
     "text": [
      "イテレーション 60 || Loss: 9.5008 || 10iter: 125.1953 sec.\n"
     ]
    },
    {
     "name": "stderr",
     "output_type": "stream",
     "text": [
      " 39%|████████████████████████████████                                                  | 70/179 [15:57<24:33, 13.52s/it]"
     ]
    },
    {
     "name": "stdout",
     "output_type": "stream",
     "text": [
      "イテレーション 70 || Loss: 9.9525 || 10iter: 124.8541 sec.\n"
     ]
    },
    {
     "name": "stderr",
     "output_type": "stream",
     "text": [
      " 45%|████████████████████████████████████▋                                             | 80/179 [18:13<22:19, 13.53s/it]"
     ]
    },
    {
     "name": "stdout",
     "output_type": "stream",
     "text": [
      "イテレーション 80 || Loss: 8.7357 || 10iter: 124.9250 sec.\n"
     ]
    },
    {
     "name": "stderr",
     "output_type": "stream",
     "text": [
      " 50%|█████████████████████████████████████████▏                                        | 90/179 [20:29<20:20, 13.71s/it]"
     ]
    },
    {
     "name": "stdout",
     "output_type": "stream",
     "text": [
      "イテレーション 90 || Loss: 8.8692 || 10iter: 125.4989 sec.\n"
     ]
    },
    {
     "name": "stderr",
     "output_type": "stream",
     "text": [
      " 56%|█████████████████████████████████████████████▎                                   | 100/179 [22:47<18:08, 13.78s/it]"
     ]
    },
    {
     "name": "stdout",
     "output_type": "stream",
     "text": [
      "イテレーション 100 || Loss: 9.0908 || 10iter: 126.8814 sec.\n"
     ]
    },
    {
     "name": "stderr",
     "output_type": "stream",
     "text": [
      " 61%|█████████████████████████████████████████████████▊                               | 110/179 [25:04<15:44, 13.69s/it]"
     ]
    },
    {
     "name": "stdout",
     "output_type": "stream",
     "text": [
      "イテレーション 110 || Loss: 8.8175 || 10iter: 126.5782 sec.\n"
     ]
    },
    {
     "name": "stderr",
     "output_type": "stream",
     "text": [
      " 67%|██████████████████████████████████████████████████████▎                          | 120/179 [27:19<13:17, 13.52s/it]"
     ]
    },
    {
     "name": "stdout",
     "output_type": "stream",
     "text": [
      "イテレーション 120 || Loss: 8.1959 || 10iter: 125.0624 sec.\n"
     ]
    },
    {
     "name": "stderr",
     "output_type": "stream",
     "text": [
      " 73%|██████████████████████████████████████████████████████████▊                      | 130/179 [29:36<11:09, 13.66s/it]"
     ]
    },
    {
     "name": "stdout",
     "output_type": "stream",
     "text": [
      "イテレーション 130 || Loss: 8.8462 || 10iter: 125.5715 sec.\n"
     ]
    },
    {
     "name": "stderr",
     "output_type": "stream",
     "text": [
      " 78%|███████████████████████████████████████████████████████████████▎                 | 140/179 [31:51<08:48, 13.56s/it]"
     ]
    },
    {
     "name": "stdout",
     "output_type": "stream",
     "text": [
      "イテレーション 140 || Loss: 8.8444 || 10iter: 124.8960 sec.\n"
     ]
    },
    {
     "name": "stderr",
     "output_type": "stream",
     "text": [
      " 84%|███████████████████████████████████████████████████████████████████▉             | 150/179 [34:06<06:32, 13.52s/it]"
     ]
    },
    {
     "name": "stdout",
     "output_type": "stream",
     "text": [
      "イテレーション 150 || Loss: 8.2468 || 10iter: 125.0632 sec.\n"
     ]
    },
    {
     "name": "stderr",
     "output_type": "stream",
     "text": [
      " 89%|████████████████████████████████████████████████████████████████████████▍        | 160/179 [36:22<04:17, 13.53s/it]"
     ]
    },
    {
     "name": "stdout",
     "output_type": "stream",
     "text": [
      "イテレーション 160 || Loss: 8.5947 || 10iter: 124.7708 sec.\n"
     ]
    },
    {
     "name": "stderr",
     "output_type": "stream",
     "text": [
      " 95%|████████████████████████████████████████████████████████████████████████████▉    | 170/179 [38:37<02:02, 13.59s/it]"
     ]
    },
    {
     "name": "stdout",
     "output_type": "stream",
     "text": [
      "イテレーション 170 || Loss: 8.5258 || 10iter: 125.2904 sec.\n"
     ]
    },
    {
     "name": "stderr",
     "output_type": "stream",
     "text": [
      "100%|█████████████████████████████████████████████████████████████████████████████████| 179/179 [40:49<00:00, 13.68s/it]\n"
     ]
    },
    {
     "name": "stdout",
     "output_type": "stream",
     "text": [
      "-------------\n",
      "epoch 1 || Epoch_TRAIN_Loss:1817.6676 ||Epoch_VAL_Loss:0.0000\n",
      "timer:  2449.1791 sec.\n",
      "-------------\n",
      "Epoch 2/1\n",
      "-------------\n",
      "（train）\n"
     ]
    },
    {
     "name": "stderr",
     "output_type": "stream",
     "text": [
      "  1%|▍                                                                                  | 1/179 [00:13<39:47, 13.41s/it]"
     ]
    },
    {
     "name": "stdout",
     "output_type": "stream",
     "text": [
      "イテレーション 180 || Loss: 9.1826 || 10iter: 1.6151 sec.\n"
     ]
    },
    {
     "name": "stderr",
     "output_type": "stream",
     "text": [
      "  6%|█████                                                                             | 11/179 [02:22<36:15, 12.95s/it]"
     ]
    },
    {
     "name": "stdout",
     "output_type": "stream",
     "text": [
      "イテレーション 190 || Loss: 7.9636 || 10iter: 119.8388 sec.\n"
     ]
    },
    {
     "name": "stderr",
     "output_type": "stream",
     "text": [
      " 12%|█████████▌                                                                        | 21/179 [04:32<34:04, 12.94s/it]"
     ]
    },
    {
     "name": "stdout",
     "output_type": "stream",
     "text": [
      "イテレーション 200 || Loss: 8.2227 || 10iter: 120.0601 sec.\n"
     ]
    },
    {
     "name": "stderr",
     "output_type": "stream",
     "text": [
      " 17%|██████████████▏                                                                   | 31/179 [06:42<31:56, 12.95s/it]"
     ]
    },
    {
     "name": "stdout",
     "output_type": "stream",
     "text": [
      "イテレーション 210 || Loss: 7.5854 || 10iter: 119.8825 sec.\n"
     ]
    },
    {
     "name": "stderr",
     "output_type": "stream",
     "text": [
      " 23%|██████████████████▊                                                               | 41/179 [08:52<29:55, 13.01s/it]"
     ]
    },
    {
     "name": "stdout",
     "output_type": "stream",
     "text": [
      "イテレーション 220 || Loss: 8.3239 || 10iter: 120.3246 sec.\n"
     ]
    },
    {
     "name": "stderr",
     "output_type": "stream",
     "text": [
      " 28%|███████████████████████▎                                                          | 51/179 [11:01<27:36, 12.94s/it]"
     ]
    },
    {
     "name": "stdout",
     "output_type": "stream",
     "text": [
      "イテレーション 230 || Loss: 7.6938 || 10iter: 119.8365 sec.\n"
     ]
    },
    {
     "name": "stderr",
     "output_type": "stream",
     "text": [
      " 34%|███████████████████████████▉                                                      | 61/179 [13:12<25:44, 13.09s/it]"
     ]
    },
    {
     "name": "stdout",
     "output_type": "stream",
     "text": [
      "イテレーション 240 || Loss: 8.5760 || 10iter: 120.8194 sec.\n"
     ]
    },
    {
     "name": "stderr",
     "output_type": "stream",
     "text": [
      " 40%|████████████████████████████████▌                                                 | 71/179 [15:21<23:27, 13.03s/it]"
     ]
    },
    {
     "name": "stdout",
     "output_type": "stream",
     "text": [
      "イテレーション 250 || Loss: 8.3263 || 10iter: 120.1528 sec.\n"
     ]
    },
    {
     "name": "stderr",
     "output_type": "stream",
     "text": [
      " 45%|█████████████████████████████████████                                             | 81/179 [17:31<21:09, 12.96s/it]"
     ]
    },
    {
     "name": "stdout",
     "output_type": "stream",
     "text": [
      "イテレーション 260 || Loss: 8.0048 || 10iter: 120.1302 sec.\n"
     ]
    },
    {
     "name": "stderr",
     "output_type": "stream",
     "text": [
      " 51%|█████████████████████████████████████████▋                                        | 91/179 [19:41<19:05, 13.02s/it]"
     ]
    },
    {
     "name": "stdout",
     "output_type": "stream",
     "text": [
      "イテレーション 270 || Loss: 8.3050 || 10iter: 120.1024 sec.\n"
     ]
    },
    {
     "name": "stderr",
     "output_type": "stream",
     "text": [
      " 56%|█████████████████████████████████████████████▋                                   | 101/179 [21:50<16:51, 12.97s/it]"
     ]
    },
    {
     "name": "stdout",
     "output_type": "stream",
     "text": [
      "イテレーション 280 || Loss: 7.7996 || 10iter: 120.0561 sec.\n"
     ]
    },
    {
     "name": "stderr",
     "output_type": "stream",
     "text": [
      " 62%|██████████████████████████████████████████████████▏                              | 111/179 [24:00<14:39, 12.94s/it]"
     ]
    },
    {
     "name": "stdout",
     "output_type": "stream",
     "text": [
      "イテレーション 290 || Loss: 8.1609 || 10iter: 119.7775 sec.\n"
     ]
    },
    {
     "name": "stderr",
     "output_type": "stream",
     "text": [
      " 68%|██████████████████████████████████████████████████████▊                          | 121/179 [26:10<12:31, 12.96s/it]"
     ]
    },
    {
     "name": "stdout",
     "output_type": "stream",
     "text": [
      "イテレーション 300 || Loss: 7.6568 || 10iter: 119.9735 sec.\n"
     ]
    },
    {
     "name": "stderr",
     "output_type": "stream",
     "text": [
      " 73%|███████████████████████████████████████████████████████████▎                     | 131/179 [28:19<10:22, 12.96s/it]"
     ]
    },
    {
     "name": "stdout",
     "output_type": "stream",
     "text": [
      "イテレーション 310 || Loss: 9.2132 || 10iter: 120.1641 sec.\n"
     ]
    },
    {
     "name": "stderr",
     "output_type": "stream",
     "text": [
      " 79%|███████████████████████████████████████████████████████████████▊                 | 141/179 [30:29<08:12, 12.96s/it]"
     ]
    },
    {
     "name": "stdout",
     "output_type": "stream",
     "text": [
      "イテレーション 320 || Loss: 8.6226 || 10iter: 120.2195 sec.\n"
     ]
    },
    {
     "name": "stderr",
     "output_type": "stream",
     "text": [
      " 84%|████████████████████████████████████████████████████████████████████▎            | 151/179 [32:39<06:02, 12.96s/it]"
     ]
    },
    {
     "name": "stdout",
     "output_type": "stream",
     "text": [
      "イテレーション 330 || Loss: 9.1635 || 10iter: 119.9566 sec.\n"
     ]
    },
    {
     "name": "stderr",
     "output_type": "stream",
     "text": [
      " 90%|████████████████████████████████████████████████████████████████████████▊        | 161/179 [34:48<03:53, 12.96s/it]"
     ]
    },
    {
     "name": "stdout",
     "output_type": "stream",
     "text": [
      "イテレーション 340 || Loss: 8.1973 || 10iter: 120.0302 sec.\n"
     ]
    },
    {
     "name": "stderr",
     "output_type": "stream",
     "text": [
      " 96%|█████████████████████████████████████████████████████████████████████████████▍   | 171/179 [36:58<01:43, 12.95s/it]"
     ]
    },
    {
     "name": "stdout",
     "output_type": "stream",
     "text": [
      "イテレーション 350 || Loss: 8.5082 || 10iter: 120.0269 sec.\n"
     ]
    },
    {
     "name": "stderr",
     "output_type": "stream",
     "text": [
      "100%|█████████████████████████████████████████████████████████████████████████████████| 179/179 [38:32<00:00, 12.92s/it]\n"
     ]
    },
    {
     "name": "stdout",
     "output_type": "stream",
     "text": [
      "-------------\n",
      "epoch 2 || Epoch_TRAIN_Loss:1499.5551 ||Epoch_VAL_Loss:0.0000\n",
      "timer:  2312.8134 sec.\n",
      " "
     ]
    },
    {
     "data": {
      "text/plain": [
       "         1859795 function calls (1731081 primitive calls) in 4769.118 seconds\n",
       "\n",
       "   Ordered by: internal time\n",
       "\n",
       "   ncalls  tottime  percall  cumtime  percall filename:lineno(function)\n",
       "      397 3579.196    9.016 3579.196    9.016 {method 'item' of 'torch._C._TensorBase' objects}\n",
       "    46881 1105.061    0.024 1105.097    0.024 {method 'to' of 'torch._C._TensorBase' objects}\n",
       "    12530   27.567    0.002   27.567    0.002 {built-in method torch.conv2d}\n",
       "      358   23.135    0.065   23.135    0.065 {method 'run_backward' of 'torch._C._EngineBase' objects}\n",
       "    11434    7.741    0.001   25.024    0.002 match.py:81(match)\n",
       "    11434    4.309    0.000    8.033    0.001 match.py:60(jaccard)\n",
       "    11434    4.254    0.000    5.007    0.000 match.py:125(encode)\n",
       "     3984    2.605    0.001    2.605    0.001 {method 'acquire' of '_thread.lock' objects}\n",
       "    11434    2.352    0.000    2.786    0.000 match.py:15(point_form)\n",
       "    11434    1.888    0.000    3.444    0.000 match.py:39(intersect)\n",
       "        2    1.760    0.880    1.928    0.964 serialization.py:770(_save)\n",
       "      358    1.469    0.004 1123.724    3.139 ssd_model.py:827(forward)\n",
       "    23584    0.892    0.000    0.892    0.000 {built-in method torch.cat}\n",
       "    22868    0.886    0.000    0.886    0.000 {method 'max' of 'torch._C._TensorBase' objects}\n",
       "    11792    0.422    0.000    0.422    0.000 {built-in method torch.clamp}\n",
       "    11434    0.371    0.000    0.371    0.000 {method 'index_fill_' of 'torch._C._TensorBase' objects}\n",
       "    70752    0.367    0.000    0.367    0.000 {method 'unsqueeze' of 'torch._C._TensorBase' objects}\n",
       "    11434    0.356    0.000    0.356    0.000 {built-in method torch.max}\n",
       "    11434    0.323    0.000    0.323    0.000 {built-in method torch.log}\n",
       "    11434    0.322    0.000    0.322    0.000 {built-in method torch.min}\n",
       "    45736    0.239    0.000    0.239    0.000 {method 'expand' of 'torch._C._TensorBase' objects}\n",
       "     8234    0.229    0.000    0.229    0.000 {built-in method torch.relu_}\n",
       "      716    0.187    0.000    0.187    0.000 {method 'sort' of 'torch._C._TensorBase' objects}\n",
       "    45736    0.170    0.000    0.170    0.000 {method 'squeeze_' of 'torch._C._TensorBase' objects}\n",
       "      286    0.143    0.001    0.143    0.001 {method 'copy_' of 'torch._C.StorageBase' objects}\n",
       "        1    0.139    0.139 4769.117 4769.117 2950397043.py:4(train_model)\n",
       "    24658    0.133    0.000    0.133    0.000 {method 'expand_as' of 'torch._C._TensorBase' objects}\n",
       "      360    0.125    0.000    3.259    0.009 std.py:1157(__iter__)\n",
       "      358    0.109    0.000   28.565    0.080 ssd_model.py:749(forward)\n",
       "     4296    0.105    0.000    0.105    0.000 {method 'contiguous' of 'torch._C._TensorBase' objects}\n",
       "        4    0.082    0.020    0.082    0.020 {built-in method posix.fork}\n",
       "     1076    0.078    0.000    0.078    0.000 {built-in method torch._ops.profiler._record_function_enter_new}\n",
       "      358    0.078    0.000    0.078    0.000 {built-in method torch._foreach_add}\n",
       "      358    0.071    0.000    0.104    0.000 optimizer.py:776(zero_grad)\n",
       "        4    0.065    0.016    0.065    0.016 {method 'poll' of 'select.poll' objects}\n",
       "    41390    0.064    0.000    0.064    0.000 {method 'size' of 'torch._C._TensorBase' objects}\n",
       "20764/716    0.061    0.000 1152.300    1.609 module.py:1520(_call_impl)\n",
       "     1790    0.059    0.000    0.059    0.000 {built-in method torch.max_pool2d}\n",
       "     1152    0.055    0.000    0.055    0.000 socket.py:626(send)\n",
       "84846/22196    0.052    0.000    0.066    0.000 module.py:2335(named_modules)\n",
       "      716    0.052    0.000    0.052    0.000 {built-in method torch._C._nn.cross_entropy_loss}\n",
       "      358    0.045    0.000    0.057    0.000 sgd.py:36(_init_group)\n",
       "       14    0.045    0.003    0.045    0.003 {built-in method posix.pipe}\n",
       "     4296    0.041    0.000    0.041    0.000 {method 'permute' of 'torch._C._TensorBase' objects}\n",
       "      715    0.040    0.000    0.040    0.000 {built-in method torch._foreach_add_}\n",
       "    25776    0.039    0.000    0.138    0.000 module.py:2156(_named_members)\n",
       "    12530    0.039    0.000   27.646    0.002 conv.py:459(forward)\n",
       "     1074    0.037    0.000    0.037    0.000 {method 'sum' of 'torch._C._TensorBase' objects}\n",
       "    39738    0.036    0.000    0.036    0.000 module.py:1682(__getattr__)\n",
       "      358    0.036    0.000    0.100    0.000 ssd_model.py:410(forward)\n",
       "     7160    0.035    0.000    0.035    0.000 {method 'view' of 'torch._C._TensorBase' objects}\n",
       "     1076    0.033    0.000    0.033    0.000 {built-in method torch._ops.profiler.}\n",
       "    20764    0.030    0.000    0.030    0.000 {built-in method torch._C._get_tracing_state}\n",
       "      716    0.027    0.000    0.027    0.000 {built-in method torch._C._group_tensors_by_device_and_dtype}\n",
       "20764/716    0.027    0.000 1152.303    1.609 module.py:1514(_wrapped_call_impl)\n",
       "      358    0.027    0.000    0.200    0.001 sgd.py:266(_multi_tensor_sgd)\n",
       "        1    0.027    0.027    0.029    0.029 __init__.py:603(_raw_device_count_nvml)\n",
       "      358    0.025    0.000    0.025    0.000 {built-in method torch._foreach_clamp_min_}\n",
       "      358    0.025    0.000    0.025    0.000 {built-in method torch._C._nn.smooth_l1_loss}\n",
       "    12530    0.024    0.000   27.591    0.002 conv.py:451(_conv_forward)\n",
       "      358    0.024    0.000    0.178    0.000 clip_grad.py:121(<listcomp>)\n",
       "    25776    0.024    0.000    0.024    0.000 optimizer.py:122(<genexpr>)\n",
       "      716    0.021    0.000    0.021    0.000 {method 'gt' of 'torch._C._TensorBase' objects}\n",
       "    12530    0.020    0.000    0.040    0.000 container.py:279(_get_abs_string_index)\n",
       "   101850    0.020    0.000    0.028    0.000 utils.py:306(<genexpr>)\n",
       "    47461    0.018    0.000    0.024    0.000 {method 'add' of 'set' objects}\n",
       "    12530    0.017    0.000    0.061    0.000 container.py:288(__getitem__)\n",
       "      357    0.017    0.000    0.017    0.000 {built-in method torch._foreach_mul_}\n",
       "   101743    0.017    0.000    0.025    0.000 _tensor.py:1002(__hash__)\n",
       "      358    0.017    0.000    1.163    0.003 2950397043.py:56(<listcomp>)\n",
       "      358    0.016    0.000    0.016    0.000 {built-in method torch._foreach_clamp_max_}\n",
       "      358    0.016    0.000    0.016    0.000 {method 'pow' of 'torch._C._TensorBase' objects}\n",
       "      362    0.016    0.000    0.061    0.000 std.py:352(format_meter)\n",
       "55380/29927    0.012    0.000    0.020    0.000 {built-in method builtins.len}\n",
       "     8234    0.012    0.000    0.245    0.000 functional.py:1460(relu)\n",
       "      358    0.011    0.000    0.306    0.001 sgd.py:55(step)\n",
       "      358    0.011    0.000    0.011    0.000 {built-in method torch.div}\n",
       "    21838    0.011    0.000    0.013    0.000 module.py:2224(<lambda>)\n",
       "      358    0.011    0.000    0.011    0.000 {built-in method torch.ones_like}\n",
       "      358    0.011    0.000    0.011    0.000 {method 'sqrt' of 'torch._C._TensorBase' objects}\n",
       "     1076    0.011    0.000    0.047    0.000 profiler.py:636(__exit__)\n",
       "      358    0.009    0.000    0.009    0.000 {method 'long' of 'torch._C._TensorBase' objects}\n",
       "   108518    0.009    0.000    0.009    0.000 {method 'append' of 'list' objects}\n",
       "     1086    0.009    0.000    0.037    0.000 {built-in method builtins.sum}\n",
       "    25776    0.008    0.000    0.154    0.000 module.py:2170(parameters)\n",
       "   102354    0.008    0.000    0.008    0.000 {built-in method builtins.id}\n",
       "      358    0.008    0.000    0.355    0.001 optimizer.py:356(wrapper)\n",
       "   100764    0.008    0.000    0.008    0.000 {built-in method unicodedata.east_asian_width}\n",
       "      706    0.008    0.000    0.008    0.000 {method 'release' of '_thread.lock' objects}\n",
       "     3006    0.008    0.000    0.008    0.000 {built-in method torch._C._set_grad_enabled}\n",
       "    25418    0.008    0.000    0.011    0.000 container.py:309(__len__)\n",
       "29893/29769    0.008    0.000    0.011    0.000 {built-in method builtins.isinstance}\n",
       "     5370    0.008    0.000    0.176    0.000 activation.py:100(forward)\n",
       "      468    0.007    0.000    0.037    0.000 iostream.py:655(write)\n",
       "    25776    0.007    0.000    0.146    0.000 module.py:2195(named_parameters)\n",
       "        1    0.007    0.007    0.007    0.007 {built-in method _imp.create_dynamic}\n",
       "     1076    0.007    0.000    0.010    0.000 profiler.py:619(__init__)\n",
       "      358    0.007    0.000    0.266    0.001 clip_grad.py:101(clip_grad_value_)\n",
       "      360    0.007    0.000    0.035    0.000 eval_frame.py:267(__call__)\n",
       "      395    0.007    0.000    0.007    0.000 {built-in method posix.stat}\n",
       "     2571    0.007    0.000    0.009    0.000 {method 'format' of 'str' objects}\n",
       "      358    0.006    0.000    0.316    0.001 optimizer.py:58(_use_grad)\n",
       "     1076    0.006    0.000    0.087    0.000 profiler.py:630(__enter__)\n",
       "      360    0.006    0.000    0.167    0.000 _compile.py:20(inner)\n",
       "        1    0.006    0.006    0.006    0.006 {built-in method torch._C._cuda_init}\n",
       "      716    0.006    0.000    0.034    0.000 {built-in method builtins.all}\n",
       "      360    0.006    0.000    0.022    0.000 inspect.py:813(getsourcefile)\n",
       "      360    0.006    0.000    2.601    0.007 dataloader.py:625(__next__)\n",
       "      358    0.006    0.000    0.373    0.001 std.py:1195(update)\n",
       "      358    0.005    0.000    0.014    0.000 _foreach_utils.py:46(_has_foreach_support)\n",
       "      358    0.005    0.000    0.010    0.000 functional.py:44(broadcast_tensors)\n",
       "    10382    0.005    0.000    0.005    0.000 {built-in method torch._C._has_torch_function_unary}\n",
       "     2648    0.005    0.000    0.010    0.000 grad_mode.py:182(__init__)\n",
       "     1152    0.005    0.000    0.066    0.000 iostream.py:259(schedule)\n",
       "     1790    0.005    0.000    0.071    0.000 pooling.py:165(forward)\n",
       "    25776    0.005    0.000    0.005    0.000 sgd.py:283(<genexpr>)\n",
       "     7258    0.005    0.000    0.009    0.000 serialization.py:780(persistent_id)\n",
       "      358    0.005    0.000    0.041    0.000 functional.py:3198(smooth_l1_loss)\n",
       "    25776    0.005    0.000    0.005    0.000 _foreach_utils.py:49(<genexpr>)\n",
       "        2    0.005    0.002    0.005    0.002 serialization.py:451(__init__)\n",
       "      358    0.005    0.000   23.157    0.065 __init__.py:149(backward)\n",
       "    44347    0.004    0.000    0.004    0.000 {method 'items' of 'collections.OrderedDict' objects}\n",
       "    11436    0.004    0.000    0.006    0.000 sampler.py:149(__iter__)\n",
       "      358    0.004    0.000   23.161    0.065 _tensor.py:433(backward)\n",
       "        2    0.004    0.002    0.004    0.002 {built-in method io.open}\n",
       "      286    0.004    0.000    0.148    0.001 storage.py:131(cpu)\n",
       "      360    0.004    0.000    0.115    0.000 eval_frame.py:307(_fn)\n",
       "      362    0.004    0.000    0.010    0.000 sampler.py:270(__iter__)\n",
       "      374    0.004    0.000    0.248    0.001 iostream.py:592(flush)\n",
       "      358    0.004    0.000    0.015    0.000 __init__.py:56(_make_grads)\n",
       "2157/2156    0.004    0.000    0.004    0.000 typing.py:306(inner)\n",
       "      360    0.004    0.000    0.046    0.000 decorators.py:33(disable)\n",
       "     1793    0.003    0.000    0.003    0.000 std.py:230(__call__)\n",
       "      358    0.003    0.000    0.007    0.000 grad_mode.py:190(__exit__)\n",
       "     1790    0.003    0.000    0.066    0.000 _jit_internal.py:478(fn)\n",
       "     1884    0.003    0.000    0.007    0.000 threading.py:1169(is_alive)\n",
       "        2    0.003    0.002    0.005    0.003 base.py:475(__new__)\n",
       "     1081    0.003    0.000    0.010    0.000 {built-in method builtins.any}\n",
       "      398    0.003    0.000    0.003    0.000 threading.py:236(__init__)\n",
       "     1790    0.003    0.000    0.063    0.000 functional.py:769(_max_pool2d)\n",
       "        5    0.003    0.001    0.003    0.001 {built-in method marshal.loads}\n",
       "      716    0.003    0.000    0.056    0.000 functional.py:2963(cross_entropy)\n",
       "      360    0.003    0.000    2.515    0.007 dataloader.py:1298(_next_data)\n",
       "       71    0.003    0.000    0.003    0.000 {built-in method torch.clone}\n",
       "      360    0.003    0.000    0.003    0.000 eval_frame.py:221(__init__)\n",
       "      362    0.003    0.000    0.362    0.001 std.py:1461(display)\n",
       "      716    0.003    0.000    0.049    0.000 _contextlib.py:112(decorate_context)\n",
       "      362    0.003    0.000    0.003    0.000 std.py:1443(format_dict)\n",
       "      360    0.003    0.000    0.003    0.000 {built-in method now}\n",
       "      358    0.003    0.000    0.232    0.001 sgd.py:185(sgd)\n",
       "      286    0.003    0.000    0.006    0.000 _tensor.py:247(_reduce_ex_internal)\n",
       "      787    0.003    0.000    0.003    0.000 grad_mode.py:73(__init__)\n",
       "        2    0.003    0.001    0.020    0.010 {method 'dump' of '_pickle.Pickler' objects}\n",
       "     4838    0.003    0.000    0.003    0.000 {built-in method builtins.getattr}\n",
       "     1076    0.003    0.000    0.081    0.000 _ops.py:687(__call__)\n",
       "      366    0.003    0.000    0.028    0.000 dataloader.py:1347(_try_put_index)\n",
       "      362    0.003    0.000    0.067    0.000 std.py:1147(__str__)\n",
       "      358    0.002    0.000    0.002    0.000 {built-in method torch.broadcast_tensors}\n",
       "      360    0.002    0.000    0.006    0.000 inspect.py:773(getfile)\n",
       "      342    0.002    0.000    2.607    0.008 threading.py:288(wait)\n",
       "      358    0.002    0.000    2.414    0.007 queue.py:154(get)\n",
       "      716    0.002    0.000    0.032    0.000 _foreach_utils.py:34(_group_tensors_by_device_and_dtype)\n",
       "     44/6    0.002    0.000    0.002    0.000 {built-in method _abc._abc_subclasscheck}\n",
       "      360    0.002    0.000    0.366    0.001 std.py:1322(refresh)\n",
       "      716    0.002    0.000    0.007    0.000 _contextlib.py:141(clone)\n",
       "      724    0.002    0.000    0.003    0.000 utils.py:204(_is_ascii)\n",
       "      360    0.002    0.000    0.004    0.000 functools.py:35(update_wrapper)\n",
       "        2    0.002    0.001    0.002    0.001 {built-in method posix.listdir}\n",
       "      360    0.002    0.000    0.005    0.000 eval_frame.py:442(__init__)\n",
       "      368    0.002    0.000    0.003    0.000 std.py:101(acquire)\n",
       "      358    0.002    0.000    0.011    0.000 ssd_model.py:795(<listcomp>)\n",
       "    12530    0.002    0.000    0.002    0.000 {built-in method _operator.index}\n",
       "      364    0.002    0.000    0.016    0.000 queues.py:86(put)\n",
       "     1524    0.002    0.000    0.014    0.000 {built-in method builtins.next}\n",
       "     1074    0.002    0.000    0.003    0.000 container.py:313(__iter__)\n",
       "     3793    0.002    0.000    0.002    0.000 {built-in method torch.is_grad_enabled}\n",
       "      383    0.002    0.000    0.200    0.001 threading.py:589(wait)\n",
       "     1076    0.002    0.000    0.035    0.000 _ops.py:447(__call__)\n",
       "      360    0.002    0.000    0.002    0.000 contextlib.py:102(__init__)\n",
       "       29    0.002    0.000    0.005    0.000 synchronize.py:50(__init__)\n",
       "        2    0.002    0.001    0.002    0.001 {method 'close' of '_io.TextIOWrapper' objects}\n",
       "        2    0.002    0.001    0.157    0.078 dataloader.py:990(__init__)\n",
       "      362    0.002    0.000    0.002    0.000 std.py:185(__format__)\n",
       "     1086    0.002    0.000    0.041    0.000 utils.py:309(disp_len)\n",
       "     1886    0.002    0.000    0.004    0.000 threading.py:1102(_wait_for_tstate_lock)\n",
       "     61/1    0.002    0.000    4.935    4.935 module.py:807(_apply)\n",
       "        2    0.002    0.001    0.002    0.001 serialization.py:465(__exit__)\n",
       "      728    0.002    0.000    0.274    0.000 utils.py:125(inner)\n",
       "      787    0.002    0.000    0.005    0.000 grad_mode.py:78(__enter__)\n",
       "      362    0.002    0.000    0.275    0.001 std.py:339(fp_write)\n",
       "      722    0.002    0.000    0.004    0.000 std.py:285(format_interval)\n",
       "        1    0.002    0.002    0.002    0.002 {built-in method _ctypes.dlopen}\n",
       "     1086    0.002    0.000    0.038    0.000 utils.py:305(_text_width)\n",
       "      787    0.001    0.000    0.002    0.000 _contextlib.py:149(__new__)\n",
       "      358    0.001    0.000    0.009    0.000 ssd_model.py:796(<listcomp>)\n",
       "     1086    0.001    0.000    0.001    0.000 {method 'sub' of 're.Pattern' objects}\n",
       "      730    0.001    0.000    0.010    0.000 threading.py:359(notify)\n",
       "     1152    0.001    0.000    0.001    0.000 iostream.py:138(_event_pipe)\n",
       "      360    0.001    0.000    0.008    0.000 package_importer.py:692(_patched_getfile)\n",
       "        4    0.001    0.000    0.001    0.000 {built-in method torch.randperm}\n",
       "     2359    0.001    0.000    0.001    0.000 {built-in method builtins.hasattr}\n",
       "      368    0.001    0.000    0.002    0.000 std.py:105(release)\n",
       "      358    0.001    0.000    0.029    0.000 optimizer.py:109(_default_to_fused_or_foreach)\n",
       "      362    0.001    0.000    0.291    0.001 std.py:345(print_status)\n",
       "      716    0.001    0.000    0.002    0.000 _foreach_utils.py:39(<dictcomp>)\n",
       "      358    0.001    0.000    0.001    0.000 {built-in method torch._C._are_functorch_transforms_active}\n",
       "      468    0.001    0.000    0.026    0.000 iostream.py:577(_schedule_flush)\n",
       "        8    0.001    0.000    0.001    0.000 missing.py:261(_isna_array)\n",
       "      358    0.001    0.000    2.418    0.007 dataloader.py:1265(_get_data)\n",
       "        5    0.001    0.000    0.001    0.000 {method 'read' of '_io.BufferedReader' objects}\n",
       "      744    0.001    0.000    0.001    0.000 {method 'acquire' of '_multiprocessing.SemLock' objects}\n",
       "      468    0.001    0.000    0.001    0.000 iostream.py:505(parent_header)\n",
       "     1074    0.001    0.000    0.001    0.000 _reduction.py:7(get_enum)\n",
       "      720    0.001    0.000    0.002    0.000 eval_frame.py:192(innermost_fn)\n",
       "     3653    0.001    0.000    0.001    0.000 _jit_internal.py:1109(is_scripting)\n",
       "      787    0.001    0.000    0.003    0.000 grad_mode.py:82(__exit__)\n",
       "     1113    0.001    0.000    0.002    0.000 threading.py:264(__enter__)\n",
       "     1113    0.001    0.000    0.001    0.000 {method '__enter__' of '_thread.lock' objects}\n",
       "      358    0.001    0.000    2.415    0.007 dataloader.py:1119(_try_get_data)\n",
       "      386    0.001    0.000    0.004    0.000 threading.py:545(__init__)\n",
       "      360    0.001    0.000    0.001    0.000 functools.py:65(wraps)\n",
       "     1113    0.001    0.000    0.001    0.000 threading.py:267(__exit__)\n",
       "      362    0.001    0.000    0.001    0.000 std.py:152(__init__)\n",
       "      358    0.001    0.000    0.025    0.000 dataloader.py:1367(_process_data)\n",
       "     6972    0.001    0.000    0.001    0.000 __init__.py:533(is_storage)\n",
       "     1076    0.001    0.000    0.001    0.000 {built-in method torch._C._get_privateuse1_backend_name}\n",
       "      360    0.001    0.000    0.002    0.000 contextlib.py:139(__exit__)\n",
       "     1074    0.001    0.000    0.001    0.000 {built-in method torch._C._has_torch_function_variadic}\n",
       "        9    0.001    0.000    0.001    0.000 {built-in method _thread.start_new_thread}\n",
       "      286    0.001    0.000    0.001    0.000 serialization.py:217(_cpu_tag)\n",
       "      360    0.001    0.000    0.001    0.000 inspect.py:182(ismodule)\n",
       "      793    0.001    0.000    0.001    0.000 threading.py:1145(ident)\n",
       "      358    0.001    0.000    0.002    0.000 _VF.py:26(__getattr__)\n",
       "     7602    0.001    0.000    0.001    0.000 {built-in method builtins.ord}\n",
       "      387    0.001    0.000    0.001    0.000 threading.py:1430(current_thread)\n",
       "      468    0.001    0.000    0.001    0.000 iostream.py:550(_is_master_process)\n",
       "        1    0.001    0.001    0.014    0.014 common.py:1186(_get_binary_io_classes)\n",
       "     1829    0.001    0.000    0.001    0.000 {method 'endswith' of 'str' objects}\n",
       "      360    0.001    0.000    0.006    0.000 genericpath.py:16(exists)\n",
       "     1080    0.001    0.000    0.001    0.000 inspect.py:820(<genexpr>)\n",
       "      213    0.001    0.000    0.001    0.000 {method 'detach' of 'torch._C._TensorBase' objects}\n",
       "        4    0.001    0.000    0.083    0.021 popen_fork.py:62(_launch)\n",
       "      362    0.001    0.000    0.017    0.000 utils.py:317(disp_trim)\n",
       "      716    0.001    0.000    0.001    0.000 _foreach_utils.py:8(_get_foreach_kernels_supported_devices)\n",
       "      358    0.001    0.000    0.026    0.000 optimizer.py:384(_group_tensors_by_device_and_dtype)\n",
       "      541    0.001    0.000    0.001    0.000 {built-in method posix.getpid}\n",
       "        2    0.001    0.000    0.011    0.006 frame.py:694(__init__)\n",
       "      360    0.001    0.000    0.001    0.000 skipfiles.py:205(check)\n",
       "     2754    0.001    0.000    0.001    0.000 {method 'values' of 'collections.OrderedDict' objects}\n",
       "      360    0.001    0.000    0.002    0.000 contextlib.py:279(helper)\n",
       "      720    0.001    0.000    0.001    0.000 {built-in method torch._C._dynamo.eval_frame.set_eval_frame}\n",
       "     1905    0.001    0.000    0.001    0.000 threading.py:553(is_set)\n",
       "        2    0.001    0.000    0.005    0.002 csvs.py:315(_save_chunk)\n",
       "      572    0.001    0.000    0.001    0.000 storage.py:530(__init__)\n",
       "       12    0.001    0.000    0.001    0.000 util.py:186(__init__)\n",
       "        6    0.001    0.000    0.052    0.009 context.py:100(Queue)\n",
       "      286    0.001    0.000    0.001    0.000 _tensor.py:241(_typed_storage)\n",
       "      362    0.001    0.000    0.001    0.000 utils.py:39(__init__)\n",
       "     1072    0.001    0.000    0.001    0.000 threading.py:279(_is_owned)\n",
       "     1440    0.001    0.000    0.001    0.000 inspect.py:823(<genexpr>)\n",
       "      360    0.001    0.000    0.001    0.000 inspect.py:277(isfunction)\n",
       "        2    0.001    0.000    0.001    0.000 cast.py:123(maybe_convert_platform)\n",
       "        4    0.001    0.000    0.001    0.000 {built-in method torch.empty}\n",
       "        6    0.001    0.000    0.051    0.008 queues.py:37(__init__)\n",
       "       29    0.001    0.000    0.002    0.000 tempfile.py:153(__next__)\n",
       "    122/2    0.001    0.000    0.002    0.001 module.py:1825(state_dict)\n",
       "        4    0.001    0.000    0.091    0.023 process.py:110(start)\n",
       "     1864    0.001    0.000    0.001    0.000 {method 'append' of 'collections.deque' objects}\n",
       "      360    0.001    0.000    0.001    0.000 contextlib.py:130(__enter__)\n",
       "     1514    0.001    0.000    0.001    0.000 {built-in method time.time}\n",
       "      572    0.001    0.000    0.001    0.000 storage.py:458(__new__)\n",
       "      6/3    0.001    0.000    0.036    0.012 __init__.py:268(_lazy_init)\n",
       "     1806    0.000    0.000    0.000    0.000 {built-in method builtins.divmod}\n",
       "      748    0.000    0.000    0.000    0.000 {built-in method _thread.allocate_lock}\n",
       "       13    0.000    0.000    0.004    0.000 <frozen importlib._bootstrap_external>:1536(find_spec)\n",
       "      858    0.000    0.000    0.000    0.000 {method 'nbytes' of 'torch._C.StorageBase' objects}\n",
       "      734    0.000    0.000    0.001    0.000 {built-in method builtins.max}\n",
       "     1421    0.000    0.000    0.000    0.000 {built-in method __new__ of type object at 0x740500}\n",
       "     1076    0.000    0.000    0.000    0.000 __init__.py:124(annotate)\n",
       "      122    0.000    0.000    0.001    0.000 module.py:1788(_save_to_state_dict)\n",
       "     1808    0.000    0.000    0.000    0.000 {built-in method builtins.setattr}\n",
       "      286    0.000    0.000    0.000    0.000 _utils.py:806(_element_size)\n",
       "      720    0.000    0.000    0.001    0.000 inspect.py:191(isclass)\n",
       "        9    0.000    0.000    0.001    0.000 threading.py:827(__init__)\n",
       "      358    0.000    0.000    0.000    0.000 __init__.py:139(_tensor_or_tensors_to_tuple)\n",
       "      360    0.000    0.000    0.000    0.000 inspect.py:199(ismethod)\n",
       "       16    0.000    0.000    0.000    0.000 {built-in method posix.close}\n",
       "        1    0.000    0.000    0.000    0.000 {built-in method torch._C._get_operation_overload}\n",
       "      342    0.000    0.000    0.001    0.000 threading.py:276(_acquire_restore)\n",
       "      360    0.000    0.000    0.000    0.000 contextlib.py:732(__init__)\n",
       "     1078    0.000    0.000    0.000    0.000 {built-in method builtins.iter}\n",
       "     1076    0.000    0.000    0.000    0.000 {method '__exit__' of 'torch._C.DisableTorchFunctionSubclass' objects}\n",
       "       29    0.000    0.000    0.002    0.000 synchronize.py:114(_make_name)\n",
       "        1    0.000    0.000    0.001    0.001 csvs.py:1(<module>)\n",
       "        2    0.000    0.000    0.006    0.003 construction.py:891(_list_of_dict_to_arrays)\n",
       "        4    0.000    0.000    0.000    0.000 {method 'random_' of 'torch._C._TensorBase' objects}\n",
       "       29    0.000    0.000    0.001    0.000 random.py:506(choices)\n",
       "      286    0.000    0.000    0.001    0.000 _utils.py:411(_get_obj_state)\n",
       "     1126    0.000    0.000    0.000    0.000 {method '__exit__' of '_thread.lock' objects}\n",
       "      373    0.000    0.000    0.000    0.000 {method 'acquire' of '_thread.RLock' objects}\n",
       "      286    0.000    0.000    0.008    0.000 _tensor.py:212(__reduce_ex__)\n",
       "      286    0.000    0.000    0.000    0.000 serialization.py:222(_cuda_tag)\n",
       "      358    0.000    0.000    0.000    0.000 {method 'dim' of 'torch._C._TensorBase' objects}\n",
       "       50    0.000    0.000    0.005    0.000 {built-in method builtins.print}\n",
       "      286    0.000    0.000    0.000    0.000 copyreg.py:109(_slotnames)\n",
       "     1090    0.000    0.000    0.000    0.000 {built-in method builtins.callable}\n",
       "      724    0.000    0.000    0.000    0.000 {method 'update' of 'dict' objects}\n",
       "       38    0.000    0.000    0.003    0.000 {built-in method _abc._abc_instancecheck}\n",
       "        2    0.000    0.000    0.001    0.000 __init__.py:339(__init__)\n",
       "        2    0.000    0.000    1.935    0.967 serialization.py:565(save)\n",
       "      358    0.000    0.000    0.000    0.000 queue.py:217(_get)\n",
       "        7    0.000    0.000    0.006    0.001 <frozen importlib._bootstrap>:921(_find_spec)\n",
       "      716    0.000    0.000    0.000    0.000 decorators.py:141(graph_break)\n",
       "        8    0.000    0.000    0.006    0.001 base.py:7593(ensure_index)\n",
       "        2    0.000    0.000    0.038    0.019 generic.py:3797(to_csv)\n",
       "      286    0.000    0.000    0.002    0.000 serialization.py:370(location_tag)\n",
       "      358    0.000    0.000    0.000    0.000 {method 'numel' of 'torch._C._TensorBase' objects}\n",
       "        6    0.000    0.000    0.003    0.000 queues.py:161(_start_thread)\n",
       "      286    0.000    0.000    0.000    0.000 storage.py:37(size)\n",
       "     1548    0.000    0.000    0.000    0.000 {method 'items' of 'dict' objects}\n",
       "        8    0.000    0.000    0.002    0.000 base.py:7770(get_values_for_csv)\n",
       "        8    0.000    0.000    0.002    0.000 construction.py:517(sanitize_array)\n",
       "      358    0.000    0.000    0.001    0.000 _foreach_utils.py:14(_get_fused_kernels_supported_devices)\n",
       "     1106    0.000    0.000    0.000    0.000 {method 'get' of 'dict' objects}\n",
       "      360    0.000    0.000    0.001    0.000 inspect.py:355(istraceback)\n",
       "       14    0.000    0.000    0.000    0.000 {built-in method builtins.__build_class__}\n",
       "       29    0.000    0.000    0.000    0.000 random.py:519(<listcomp>)\n",
       "        4    0.000    0.000    0.000    0.000 {method 'numpy' of 'torch._C._TensorBase' objects}\n",
       "        1    0.000    0.000    0.013    0.013 _optional.py:85(import_optional_dependency)\n",
       "      360    0.000    0.000    0.000    0.000 inspect.py:379(iscode)\n",
       "        2    0.000    0.000    0.000    0.000 missing.py:305(_isna_string_dtype)\n",
       "        2    0.000    0.000    0.001    0.000 format.py:425(__init__)\n",
       "     1448    0.000    0.000    0.000    0.000 typing.py:1737(cast)\n",
       "        2    0.000    0.000    0.001    0.001 indexing.py:1176(__getitem__)\n",
       "      122    0.000    0.000    0.001    0.000 module.py:1697(__setattr__)\n",
       "      363    0.000    0.000    0.000    0.000 module.py:2287(named_children)\n",
       "        2    0.000    0.000    0.000    0.000 managers.py:1778(<listcomp>)\n",
       "       10    0.000    0.000    0.000    0.000 numeric.py:274(full)\n",
       "      360    0.000    0.000    0.000    0.000 inspect.py:365(isframe)\n",
       "      720    0.000    0.000    0.000    0.000 eval_frame.py:188(nothing)\n",
       "       10    0.000    0.000    0.000    0.000 {method 'astype' of 'numpy.ndarray' objects}\n",
       "      366    0.000    0.000    0.011    0.000 dataloader.py:619(_next_index)\n",
       "        6    0.000    0.000    0.045    0.008 connection.py:516(Pipe)\n",
       "        2    0.000    0.000    0.002    0.001 dataloader.py:564(__init__)\n",
       "        4    0.000    0.000    0.000    0.000 process.py:80(__init__)\n",
       "        2    0.000    0.000    0.001    0.000 generic.py:4361(_slice)\n",
       "    122/2    0.000    0.000    0.001    0.001 module.py:2379(train)\n",
       "        1    0.000    0.000    0.000    0.000 library.py:65(define)\n",
       "        2    0.000    0.000    0.000    0.000 base.py:649(_simple_new)\n",
       "      374    0.000    0.000    0.000    0.000 {method 'release' of '_multiprocessing.SemLock' objects}\n",
       "      286    0.000    0.000    0.001    0.000 storage.py:886(_size)\n",
       "        4    0.000    0.000    0.015    0.004 common.py:1165(_is_binary_mode)\n",
       "        1    0.000    0.000 4769.117 4769.117 <string>:1(<module>)\n",
       "       14    0.000    0.000    0.004    0.000 context.py:65(Lock)\n",
       "      342    0.000    0.000    0.000    0.000 threading.py:273(_release_save)\n",
       "        2    0.000    0.000    0.022    0.011 common.py:664(get_handle)\n",
       "      286    0.000    0.000    0.000    0.000 {method 'stride' of 'torch._C._TensorBase' objects}\n",
       "        2    0.000    0.000    0.000    0.000 distributed_c10d.py:908(is_initialized)\n",
       "      6/5    0.000    0.000    0.015    0.003 <frozen importlib._bootstrap>:664(_load_unlocked)\n",
       "        2    0.000    0.000    0.001    0.001 managers.py:2121(create_block_manager_from_column_arrays)\n",
       "        2    0.000    0.000    0.001    0.000 managers.py:2190(_form_blocks)\n",
       "        2    0.000    0.000    0.000    0.000 parse.py:444(urlsplit)\n",
       "        2    0.000    0.000    0.000    0.000 cast.py:1156(maybe_infer_to_datetimelike)\n",
       "      286    0.000    0.000    0.000    0.000 _utils.py:184(get_tensor_metadata)\n",
       "     1144    0.000    0.000    0.000    0.000 {method 'data_ptr' of 'torch._C.StorageBase' objects}\n",
       "       35    0.000    0.000    0.000    0.000 weakref.py:165(__setitem__)\n",
       "        6    0.000    0.000    0.000    0.000 generic.py:278(__init__)\n",
       "      362    0.000    0.000    0.000    0.000 std.py:166(colour)\n",
       "      362    0.000    0.000    0.000    0.000 queue.py:209(_qsize)\n",
       "        2    0.000    0.000    0.000    0.000 queue.py:34(__init__)\n",
       "      468    0.000    0.000    0.000    0.000 {method 'write' of '_io.StringIO' objects}\n",
       "       29    0.000    0.000    0.000    0.000 tempfile.py:142(rng)\n",
       "        2    0.000    0.000    0.001    0.001 indexing.py:1756(_get_slice_axis)\n",
       "       14    0.000    0.000    0.004    0.000 synchronize.py:161(__init__)\n",
       "        2    0.000    0.000    0.000    0.000 parse.py:379(urlparse)\n",
       "        3    0.000    0.000    0.000    0.000 {built-in method torch.cuda._get_device_properties}\n",
       "        4    0.000    0.000    0.069    0.017 dataloader.py:1400(_shutdown_workers)\n",
       "        2    0.000    0.000    0.000    0.000 __init__.py:767(current_device)\n",
       "        1    0.000    0.000    0.008    0.008 __init__.py:1(<module>)\n",
       "        2    0.000    0.000    0.001    0.000 common.py:304(_get_filepath_or_buffer)\n",
       "      720    0.000    0.000    0.000    0.000 eval_frame.py:205(enable_dynamic)\n",
       "        2    0.000    0.000    0.000    0.000 pathlib.py:957(__new__)\n",
       "        4    0.000    0.000    0.090    0.022 popen_fork.py:15(__init__)\n",
       "      482    0.000    0.000    0.000    0.000 {method '__exit__' of '_thread.RLock' objects}\n",
       "        4    0.000    0.000    0.000    0.000 common.py:1331(is_ea_or_datetimelike_dtype)\n",
       "      286    0.000    0.000    0.000    0.000 {built-in method torch._C._get_tensor_metadata}\n",
       "      6/1    0.000    0.000 4769.118 4769.118 {built-in method builtins.exec}\n",
       "        7    0.000    0.000    0.005    0.001 <frozen importlib._bootstrap_external>:1399(_get_spec)\n",
       "       15    0.000    0.000    0.000    0.000 <frozen importlib._bootstrap_external>:1356(_path_importer_cache)\n",
       "      362    0.000    0.000    0.000    0.000 utils.py:43(__format__)\n",
       "       35    0.000    0.000    0.001    0.000 util.py:171(register_after_fork)\n",
       "      286    0.000    0.000    0.000    0.000 {built-in method torch._C._has_storage}\n",
       "      286    0.000    0.000    0.000    0.000 storage.py:896(_pickle_storage_type)\n",
       "        2    0.000    0.000    0.029    0.015 csvs.py:246(save)\n",
       "        2    0.000    0.000    0.000    0.000 api.py:386(default_index)\n",
       "      373    0.000    0.000    0.000    0.000 {method 'release' of '_thread.RLock' objects}\n",
       "        2    0.000    0.000    0.001    0.000 dataloader.py:92(_get_distributed_settings)\n",
       "      286    0.000    0.000    0.001    0.000 storage.py:763(_element_size)\n",
       "      358    0.000    0.000    0.000    0.000 {built-in method torch._C._has_torch_function}\n",
       "      286    0.000    0.000    0.000    0.000 storage.py:29(__init__)\n",
       "      363    0.000    0.000    0.000    0.000 module.py:2278(children)\n",
       "        6    0.000    0.000    0.000    0.000 construction.py:1028(convert)\n",
       "      366    0.000    0.000    0.000    0.000 {built-in method time.monotonic}\n",
       "      358    0.000    0.000    0.000    0.000 _utils.py:841(is_compiling)\n",
       "        2    0.000    0.000    0.000    0.000 utils.py:264(_screen_shape_linux)\n",
       "      408    0.000    0.000    0.000    0.000 {built-in method _thread.get_ident}\n",
       "        9    0.000    0.000    0.005    0.001 threading.py:916(start)\n",
       "        2    0.000    0.000    0.000    0.000 synchronize.py:334(set)\n",
       "      366    0.000    0.000    0.000    0.000 {built-in method builtins.abs}\n",
       "       12    0.000    0.000    0.000    0.000 connection.py:117(__init__)\n",
       "      286    0.000    0.000    0.000    0.000 _namedtensor_internals.py:10(check_serializing_named_tensor)\n",
       "        9    0.000    0.000    0.001    0.000 ipkernel.py:768(init_closure)\n",
       "      286    0.000    0.000    0.000    0.000 {method 'has_names' of 'torch._C._TensorBase' objects}\n",
       "        5    0.000    0.000    0.000    0.000 {built-in method io.open_code}\n",
       "        6    0.000    0.000    0.000    0.000 <frozen importlib._bootstrap>:492(_init_module_attrs)\n",
       "        2    0.000    0.000    0.004    0.002 std.py:837(__init__)\n",
       "        6    0.000    0.000    0.000    0.000 queues.py:71(_reset)\n",
       "       63    0.000    0.000    0.000    0.000 <frozen importlib._bootstrap>:404(parent)\n",
       "       10    0.000    0.000    0.000    0.000 config.py:145(_get_option)\n",
       "        2    0.000    0.000    0.002    0.001 common.py:605(check_parent_directory)\n",
       "       71    0.000    0.000    0.000    0.000 {built-in method torch._has_compatible_shallow_copy_type}\n",
       "        4    0.000    0.000    0.090    0.023 context.py:222(_Popen)\n",
       "        4    0.000    0.000    0.000    0.000 managers.py:2246(_stack_arrays)\n",
       "       10    0.000    0.000    0.001    0.000 util.py:205(__call__)\n",
       "        2    0.000    0.000    0.157    0.078 dataloader.py:381(_get_iterator)\n",
       "        6    0.000    0.000    0.000    0.000 managers.py:180(blknos)\n",
       "      468    0.000    0.000    0.000    0.000 {method 'get' of '_contextvars.ContextVar' objects}\n",
       "      6/5    0.000    0.000    0.019    0.004 <frozen importlib._bootstrap>:987(_find_and_load_unlocked)\n",
       "       67    0.000    0.000    0.000    0.000 <frozen importlib._bootstrap_external>:126(_path_join)\n",
       "        2    0.000    0.000    0.000    0.000 base.py:4191(_validate_positional_slice)\n",
       "        2    0.000    0.000    0.000    0.000 base.py:836(__iter__)\n",
       "        2    0.000    0.000    0.008    0.004 construction.py:506(nested_data_to_arrays)\n",
       "      286    0.000    0.000    0.000    0.000 hooks.py:81(warn_if_has_hooks)\n",
       "        8    0.000    0.000    0.000    0.000 os.py:675(__getitem__)\n",
       "        2    0.000    0.000    0.000    0.000 distributed_c10d.py:555(WORLD)\n",
       "      368    0.000    0.000    0.000    0.000 {method 'values' of 'dict' objects}\n",
       "        9    0.000    0.000    0.000    0.000 threading.py:1301(_make_invoke_excepthook)\n",
       "        8    0.000    0.000    0.000    0.000 ssd_model.py:232(__len__)\n",
       "        2    0.000    0.000    0.000    0.000 construction.py:596(_homogenize)\n",
       "        4    0.000    0.000    0.090    0.023 context.py:278(_Popen)\n",
       "      286    0.000    0.000    0.000    0.000 {method 'storage_offset' of 'torch._C._TensorBase' objects}\n",
       "        7    0.000    0.000    0.005    0.001 <frozen importlib._bootstrap_external>:1431(find_spec)\n",
       "        7    0.000    0.000    0.000    0.000 <frozen importlib._bootstrap_external>:1531(_get_spec)\n",
       "       35    0.000    0.000    0.000    0.000 weakref.py:353(__init__)\n",
       "      362    0.000    0.000    0.000    0.000 std.py:162(colour)\n",
       "        2    0.000    0.000    0.000    0.000 __init__.py:520(_cmpkey)\n",
       "        2    0.000    0.000    0.000    0.000 generic.py:6236(__finalize__)\n",
       "       71    0.000    0.000    4.932    0.069 module.py:1154(convert)\n",
       "       10    0.000    0.000    0.000    0.000 {built-in method numpy.array}\n",
       "        6    0.000    0.000    0.000    0.000 base.py:6685(_validate_indexer)\n",
       "        4    0.000    0.000    0.065    0.016 selectors.py:403(select)\n",
       "       16    0.000    0.000    0.000    0.000 {built-in method numpy.empty}\n",
       "      358    0.000    0.000    0.000    0.000 {method 'popleft' of 'collections.deque' objects}\n",
       "      286    0.000    0.000    0.000    0.000 {method 'data_ptr' of 'torch._C._TensorBase' objects}\n",
       "        6    0.000    0.000    0.008    0.001 <frozen importlib._bootstrap>:564(module_from_spec)\n",
       "       15    0.000    0.000    0.000    0.000 _weakrefset.py:86(add)\n",
       "        5    0.000    0.000    0.005    0.001 <frozen importlib._bootstrap_external>:950(get_code)\n",
       "        8    0.000    0.000    0.002    0.000 missing.py:184(_isna)\n",
       "      362    0.000    0.000    0.000    0.000 {method 'remove' of 'collections.deque' objects}\n",
       "        4    0.000    0.000    0.000    0.000 __init__.py:228(_releaseLock)\n",
       "        2    0.000    0.000    0.002    0.001 <frozen importlib._bootstrap_external>:1587(_fill_cache)\n",
       "      286    0.000    0.000    0.000    0.000 {method 'untyped_storage' of 'torch._C._TensorBase' objects}\n",
       "       71    0.000    0.000    0.000    0.000 module.py:812(compute_should_use_set_data)\n",
       "        2    0.000    0.000    0.037    0.018 format.py:965(to_csv)\n",
       "        2    0.000    0.000    0.000    0.000 {built-in method _csv.writer}\n",
       "      122    0.000    0.000    0.000    0.000 parameter.py:8(__instancecheck__)\n",
       "      360    0.000    0.000    0.000    0.000 contextlib.py:738(__exit__)\n",
       "        2    0.000    0.000    0.000    0.000 cast.py:1579(construct_1d_object_array_from_listlike)\n",
       "       10    0.000    0.000    0.000    0.000 <frozen importlib._bootstrap_external>:380(cache_from_source)\n",
       "       10    0.000    0.000    0.000    0.000 ipkernel.py:775(_clean_thread_parent_frames)\n",
       "      358    0.000    0.000    0.000    0.000 optimizer.py:340(_optimizer_step_code)\n",
       "       10    0.000    0.000    0.000    0.000 config.py:617(_select_options)\n",
       "        6    0.000    0.000    0.000    0.000 <frozen importlib._bootstrap>:179(_get_module_lock)\n",
       "        5    0.000    0.000    0.001    0.000 <frozen importlib._bootstrap_external>:1070(get_data)\n",
       "        4    0.000    0.000    0.000    0.000 blocks.py:274(make_block)\n",
       "        2    0.000    0.000    0.002    0.001 managers.py:459(get_values_for_csv)\n",
       "       35    0.000    0.000    0.000    0.000 weakref.py:348(__new__)\n",
       "        2    0.000    0.000    0.000    0.000 construction.py:532(treat_as_nested)\n",
       "        6    0.000    0.000    0.000    0.000 synchronize.py:94(__enter__)\n",
       "       10    0.000    0.000    0.000    0.000 popen_fork.py:24(poll)\n",
       "       10    0.000    0.000    0.000    0.000 config.py:676(_translate_key)\n",
       "        8    0.000    0.000    0.000    0.000 blocks.py:2674(get_block_type)\n",
       "        2    0.000    0.000    0.000    0.000 {built-in method fcntl.ioctl}\n",
       "        2    0.000    0.000    0.001    0.001 csvs.py:153(_initialize_columns)\n",
       "        7    0.000    0.000    0.000    0.000 _collections_abc.py:821(get)\n",
       "      6/5    0.000    0.000    0.020    0.004 <frozen importlib._bootstrap>:1022(_find_and_load)\n",
       "        7    0.000    0.000    0.000    0.000 <frozen importlib._bootstrap_external>:721(spec_from_file_location)\n",
       "        2    0.000    0.000    0.001    0.000 managers.py:1782(_consolidate_inplace)\n",
       "       65    0.000    0.000    0.000    0.000 <frozen importlib._bootstrap>:244(_verbose_message)\n",
       "        2    0.000    0.000    0.000    0.000 pathlib.py:569(_parse_args)\n",
       "        4    0.000    0.000    0.065    0.016 process.py:142(join)\n",
       "        2    0.000    0.000    0.002    0.001 managers.py:317(apply)\n",
       "        6    0.000    0.000    0.000    0.000 range.py:201(_simple_new)\n",
       "        4    0.000    0.000    0.002    0.000 blocks.py:775(get_values_for_csv)\n",
       "        2    0.000    0.000    0.000    0.000 managers.py:1764(is_consolidated)\n",
       "        4    0.000    0.000    0.001    0.000 base.py:1469(_get_values_for_csv)\n",
       "        2    0.000    0.000    0.001    0.000 pathlib.py:1300(is_dir)\n",
       "      232    0.000    0.000    0.000    0.000 {method 'random' of '_random.Random' objects}\n",
       "      286    0.000    0.000    0.000    0.000 {method 'setdefault' of 'dict' objects}\n",
       "        6    0.000    0.000    0.000    0.000 <frozen importlib._bootstrap>:100(acquire)\n",
       "        2    0.000    0.000    0.000    0.000 format.py:544(_initialize_justify)\n",
       "      360    0.000    0.000    0.000    0.000 contextlib.py:735(__enter__)\n",
       "        2    0.000    0.000    0.000    0.000 csvs.py:139(_get_index_label_flat)\n",
       "       20    0.000    0.000    0.000    0.000 {method 'group' of 're.Match' objects}\n",
       "        2    0.000    0.000    0.002    0.001 construction.py:96(arrays_to_mgr)\n",
       "        4    0.000    0.000    0.006    0.002 util.py:433(_flush_std_streams)\n",
       "        2    0.000    0.000    0.000    0.000 dataloader.py:609(_reset)\n",
       "      286    0.000    0.000    0.000    0.000 {method 'get' of 'mappingproxy' objects}\n",
       "       29    0.000    0.000    0.000    0.000 synchronize.py:90(_make_methods)\n",
       "       71    0.000    0.000    0.000    0.000 {method 'is_floating_point' of 'torch._C._TensorBase' objects}\n",
       "        2    0.000    0.000    0.000    0.000 csvs.py:219(write_cols)\n",
       "        2    0.000    0.000    0.000    0.000 pathlib.py:56(parse_parts)\n",
       "        2    0.000    0.000    0.000    0.000 construction.py:928(_finalize_columns_and_data)\n",
       "        4    0.000    0.000    0.000    0.000 _asarray.py:27(require)\n",
       "        1    0.000    0.000    0.000    0.000 _ops.py:406(__init__)\n",
       "        2    0.000    0.000    0.000    0.000 signal_handling.py:47(_set_SIGCHLD_handler)\n",
       "        2    0.000    0.000    0.000    0.000 indexing.py:161(iloc)\n",
       "       68    0.000    0.000    0.000    0.000 generic.py:37(_check)\n",
       "        4    0.000    0.000    0.065    0.016 popen_fork.py:36(wait)\n",
       "        2    0.000    0.000    0.000    0.000 format.py:550(_initialize_columns)\n",
       "       33    0.000    0.000    0.001    0.000 <frozen importlib._bootstrap_external>:140(_path_stat)\n",
       "        2    0.000    0.000    0.000    0.000 inference.py:404(is_dataclass)\n",
       "        2    0.000    0.000    0.007    0.003 construction.py:793(to_arrays)\n",
       "        1    0.000    0.000    0.001    0.001 _ops.py:641(__getattr__)\n",
       "       10    0.000    0.000    0.000    0.000 queues.py:153(cancel_join_thread)\n",
       "        2    0.000    0.000    0.004    0.002 dataloader.py:1086(_reset)\n",
       "        2    0.000    0.000    0.000    0.000 synchronize.py:270(notify)\n",
       "       26    0.000    0.000    0.000    0.000 weakref.py:106(remove)\n",
       "        1    0.000    0.000    0.000    0.000 library.py:86(impl)\n",
       "        1    0.000    0.000    0.000    0.000 {built-in method builtins.compile}\n",
       "       10    0.000    0.000    0.000    0.000 config.py:635(_get_root)\n",
       "       67    0.000    0.000    0.000    0.000 <frozen importlib._bootstrap_external>:128(<listcomp>)\n",
       "       14    0.000    0.000    0.000    0.000 <frozen importlib._bootstrap_external>:150(_path_is_mode_type)\n",
       "        2    0.000    0.000    0.038    0.019 _decorators.py:325(wrapper)\n",
       "        7    0.000    0.000    0.000    0.000 __init__.py:89(find_spec)\n",
       "        5    0.000    0.000    0.000    0.000 {method '__exit__' of '_io._IOBase' objects}\n",
       "        2    0.000    0.000    0.157    0.078 dataloader.py:425(__iter__)\n",
       "        2    0.000    0.000    0.000    0.000 optimizer.py:585(<dictcomp>)\n",
       "        4    0.000    0.000    0.000    0.000 generic.py:572(_get_axis_number)\n",
       "        2    0.000    0.000    0.000    0.000 format.py:650(truncate)\n",
       "       18    0.000    0.000    0.000    0.000 config.py:649(_get_deprecated_option)\n",
       "       10    0.000    0.000    0.000    0.000 config.py:127(_get_single_key)\n",
       "        2    0.000    0.000    0.000    0.000 {built-in method torch._C._log_api_usage_once}\n",
       "        1    0.000    0.000    0.000    0.000 csvs.py:56(CSVFormatter)\n",
       "      358    0.000    0.000    0.000    0.000 grad_mode.py:187(__enter__)\n",
       "        4    0.000    0.000    0.000    0.000 common.py:248(stringify_path)\n",
       "        3    0.000    0.000    0.000    0.000 threading.py:782(_newname)\n",
       "        5    0.000    0.000    0.000    0.000 <frozen importlib._bootstrap_external>:585(_classify_pyc)\n",
       "        2    0.000    0.000    0.001    0.000 common.py:160(is_url)\n",
       "        2    0.000    0.000    0.000    0.000 optimizer.py:578(<dictcomp>)\n",
       "        2    0.000    0.000    0.000    0.000 common.py:550(infer_compression)\n",
       "        6    0.000    0.000    0.000    0.000 <frozen importlib._bootstrap>:169(__enter__)\n",
       "        4    0.000    0.000    0.000    0.000 _asarray.py:108(<setcomp>)\n",
       "        5    0.000    0.000    0.014    0.003 <frozen importlib._bootstrap_external>:877(exec_module)\n",
       "       96    0.000    0.000    0.000    0.000 {method 'rpartition' of 'str' objects}\n",
       "        2    0.000    0.000    0.000    0.000 range.py:237(_data)\n",
       "        2    0.000    0.000    0.000    0.000 std.py:574(_decr_instances)\n",
       "        6    0.000    0.000    0.000    0.000 flags.py:51(__init__)\n",
       "        2    0.000    0.000    0.000    0.000 csvs.py:277(_save_header)\n",
       "        4    0.000    0.000    0.003    0.001 std.py:1262(close)\n",
       "        5    0.000    0.000    0.000    0.000 threading.py:1478(enumerate)\n",
       "       10    0.000    0.000    0.000    0.000 <frozen importlib._bootstrap_external>:132(_path_split)\n",
       "       10    0.000    0.000    0.000    0.000 base.py:5144(_values)\n",
       "        5    0.000    0.000    0.000    0.000 ipkernel.py:790(<setcomp>)\n",
       "        6    0.000    0.000    0.000    0.000 <frozen importlib._bootstrap>:125(release)\n",
       "        2    0.000    0.000    0.000    0.000 generic.py:586(_get_axis)\n",
       "        4    0.000    0.000    0.000    0.000 frame.py:659(_constructor_from_mgr)\n",
       "        6    0.000    0.000    0.000    0.000 context.py:85(BoundedSemaphore)\n",
       "        2    0.000    0.000    0.000    0.000 pathlib.py:865(parent)\n",
       "        5    0.000    0.000    0.000    0.000 __init__.py:125(is_available)\n",
       "        2    0.000    0.000    0.002    0.001 frame.py:1400(_get_values_for_csv)\n",
       "        4    0.000    0.000    0.000    0.000 parse.py:122(_coerce_args)\n",
       "        6    0.000    0.000    0.000    0.000 managers.py:1026(iget_values)\n",
       "        2    0.000    0.000    0.000    0.000 dataloader.py:456(__len__)\n",
       "        2    0.000    0.000    0.000    0.000 pathlib.py:589(_from_parts)\n",
       "        6    0.000    0.000    0.000    0.000 synchronize.py:229(__enter__)\n",
       "        2    0.000    0.000    0.000    0.000 {built-in method torch._C._set_worker_pids}\n",
       "        2    0.000    0.000    0.000    0.000 {built-in method _codecs.lookup}\n",
       "        2    0.000    0.000    0.000    0.000 threading.py:1028(_stop)\n",
       "        6    0.000    0.000    0.000    0.000 queues.py:204(_finalize_close)\n",
       "       13    0.000    0.000    0.000    0.000 context.py:237(get_context)\n",
       "        2    0.000    0.000    0.000    0.000 {built-in method builtins.sorted}\n",
       "        2    0.000    0.000    0.005    0.002 serialization.py:486(_open_zipfile_writer)\n",
       "       63    0.000    0.000    0.000    0.000 util.py:48(debug)\n",
       "        6    0.000    0.000    0.000    0.000 dataloader.py:1081(<genexpr>)\n",
       "        6    0.000    0.000    0.000    0.000 <frozen importlib._bootstrap>:71(__init__)\n",
       "        3    0.000    0.000    0.000    0.000 typing.py:146(_type_check)\n",
       "        2    0.000    0.000    0.000    0.000 __init__.py:55(using_pyarrow_string_dtype)\n",
       "        4    0.000    0.000    0.000    0.000 __init__.py:219(_acquireLock)\n",
       "        2    0.000    0.000    0.000    0.000 {method 'search' of 're.Pattern' objects}\n",
       "      112    0.000    0.000    0.000    0.000 {method 'join' of 'str' objects}\n",
       "        6    0.000    0.000    0.000    0.000 csvs.py:179(_number_format)\n",
       "        8    0.000    0.000    0.000    0.000 construction.py:735(_sanitize_str_dtypes)\n",
       "        6    0.000    0.000    0.000    0.000 posixpath.py:229(expanduser)\n",
       "       13    0.000    0.000    0.000    0.000 <frozen importlib._bootstrap_external>:159(_path_isfile)\n",
       "        4    0.000    0.000    0.065    0.016 connection.py:917(wait)\n",
       "        2    0.000    0.000    0.000    0.000 csvs.py:130(_get_index_label_from_obj)\n",
       "        9    0.000    0.000    0.000    0.000 threading.py:1198(daemon)\n",
       "        2    0.000    0.000    0.000    0.000 signal_handling.py:63(handler)\n",
       "        2    0.000    0.000    0.000    0.000 synchronize.py:296(notify_all)\n",
       "        2    0.000    0.000    0.000    0.000 optimizer.py:517(state_dict)\n",
       "        1    0.000    0.000    0.000    0.000 <frozen importlib._bootstrap_external>:1494(__init__)\n",
       "       38    0.000    0.000    0.003    0.000 abc.py:117(__instancecheck__)\n",
       "        2    0.000    0.000    0.000    0.000 managers.py:1772(_consolidate_check)\n",
       "        8    0.000    0.000    0.000    0.000 context.py:80(Semaphore)\n",
       "        8    0.000    0.000    0.000    0.000 construction.py:416(extract_array)\n",
       "        6    0.000    0.000    0.000    0.000 __init__.py:116(_is_compiled)\n",
       "        1    0.000    0.000    0.000    0.000 <frozen importlib._bootstrap_external>:1343(_path_hooks)\n",
       "        1    0.000    0.000    0.000    0.000 <frozen zipimport>:64(__init__)\n",
       "        2    0.000    0.000    0.000    0.000 {built-in method torch._C._remove_worker_pids}\n",
       "        2    0.000    0.000    0.001    0.001 indexing.py:1719(_getitem_axis)\n",
       "        2    0.000    0.000    0.000    0.000 dataloader.py:1477(__del__)\n",
       "        2    0.000    0.000    0.000    0.000 __init__.py:391(__getitem__)\n",
       "        1    0.000    0.000    0.000    0.000 {built-in method torch._C._nn._parse_to}\n",
       "        5    0.000    0.000    0.000    0.000 {built-in method torch._C._cuda_getDeviceCount}\n",
       "        8    0.000    0.000    0.000    0.000 common.py:529(is_string_or_object_np_dtype)\n",
       "       68    0.000    0.000    0.000    0.000 generic.py:42(_instancecheck)\n",
       "        5    0.000    0.000    0.000    0.000 {built-in method _imp._fix_co_filename}\n",
       "        2    0.000    0.000    0.000    0.000 pathlib.py:631(__fspath__)\n",
       "      232    0.000    0.000    0.000    0.000 {built-in method math.floor}\n",
       "        1    0.000    0.000    0.000    0.000 _ops.py:41(__init__)\n",
       "        2    0.000    0.000    0.000    0.000 construction.py:1006(convert_object_array)\n",
       "        8    0.000    0.000    0.000    0.000 frame.py:4027(_iter_column_arrays)\n",
       "        2    0.000    0.000    0.000    0.000 {built-in method torch._C._cuda_getDevice}\n",
       "        2    0.000    0.000    0.000    0.000 sampler.py:293(__len__)\n",
       "        8    0.000    0.000    0.000    0.000 typing.py:986(__setattr__)\n",
       "       10    0.000    0.000    0.000    0.000 {built-in method numpy.asarray}\n",
       "        1    0.000    0.000    0.000    0.000 typing.py:483(Union)\n",
       "        1    0.000    0.000    0.000    0.000 platform.py:996(_sys_version)\n",
       "        1    0.000    0.000    0.029    0.029 __init__.py:163(_check_capability)\n",
       "        2    0.000    0.000    0.000    0.000 signal.py:34(_enum_to_int)\n",
       "       10    0.000    0.000    0.000    0.000 os.py:755(encode)\n",
       "        8    0.000    0.000    0.000    0.000 process.py:94(<genexpr>)\n",
       "        4    0.000    0.000    0.000    0.000 range.py:1032(_getitem_slice)\n",
       "        2    0.000    0.000    0.000    0.000 generic.py:6301(__setattr__)\n",
       "        2    0.000    0.000    0.000    0.000 {built-in method torch._C._error_if_any_worker_fails}\n",
       "        2    0.000    0.000    0.000    0.000 pathlib.py:621(__str__)\n",
       "       28    0.000    0.000    0.000    0.000 <frozen importlib._bootstrap>:893(__enter__)\n",
       "        4    0.000    0.000    0.000    0.000 process.py:234(ident)\n",
       "        2    0.000    0.000    0.000    0.000 construction.py:688(_sanitize_non_ordered)\n",
       "        8    0.000    0.000    0.000    0.000 blocks.py:214(is_extension)\n",
       "        2    0.000    0.000    0.000    0.000 __init__.py:34(using_copy_on_write)\n",
       "        2    0.000    0.000    0.000    0.000 csvs.py:233(encoded_labels)\n",
       "        2    0.000    0.000    0.000    0.000 distributed_c10d.py:437(default_pg)\n",
       "        1    0.000    0.000    0.000    0.000 typing.py:1016(__init__)\n",
       "        6    0.000    0.000    0.000    0.000 managers.py:913(__init__)\n",
       "     44/6    0.000    0.000    0.002    0.000 abc.py:121(__subclasscheck__)\n",
       "        6    0.000    0.000    0.000    0.000 <frozen importlib._bootstrap>:198(cb)\n",
       "       20    0.000    0.000    0.000    0.000 <frozen importlib._bootstrap_external>:134(<genexpr>)\n",
       "        5    0.000    0.000    0.000    0.000 __init__.py:121(_nvml_based_avail)\n",
       "        2    0.000    0.000    0.005    0.002 csvs.py:305(_save_body)\n",
       "        2    0.000    0.000    0.001    0.001 csvs.py:59(__init__)\n",
       "        2    0.000    0.000    0.002    0.001 common.py:131(close)\n",
       "        6    0.000    0.000    0.000    0.000 sampler.py:142(num_samples)\n",
       "        2    0.000    0.000    0.000    0.000 format.py:558(_initialize_colspace)\n",
       "        2    0.000    0.000    0.001    0.001 std.py:551(__new__)\n",
       "        4    0.000    0.000    0.000    0.000 blocks.py:718(dtype)\n",
       "       37    0.000    0.000    0.000    0.000 {method 'startswith' of 'str' objects}\n",
       "        4    0.000    0.000    0.000    0.000 process.py:153(is_alive)\n",
       "        5    0.000    0.000    0.000    0.000 <frozen importlib._bootstrap_external>:1089(path_stats)\n",
       "        6    0.000    0.000    0.000    0.000 {built-in method posix.waitpid}\n",
       "        1    0.000    0.000    0.000    0.000 queues.py:1(<module>)\n",
       "        2    0.000    0.000    0.000    0.000 optimizer.py:580(<listcomp>)\n",
       "        2    0.000    0.000    0.000    0.000 {built-in method numpy.arange}\n",
       "        1    0.000    0.000    0.000    0.000 synchronize.py:1(<module>)\n",
       "       10    0.000    0.000    0.000    0.000 construction.py:481(ensure_wrapped_if_datetimelike)\n",
       "        6    0.000    0.000    0.000    0.000 {method '__enter__' of '_multiprocessing.SemLock' objects}\n",
       "        2    0.000    0.000    0.000    0.000 base.py:82(shape)\n",
       "        2    0.000    0.000    0.000    0.000 printing.py:567(get_adjustment)\n",
       "        5    0.000    0.000    0.003    0.001 <frozen importlib._bootstrap_external>:670(_compile_bytecode)\n",
       "        2    0.000    0.000    0.000    0.000 {method 'writerow' of '_csv.writer' objects}\n",
       "        7    0.000    0.000    0.000    0.000 <frozen importlib._bootstrap>:746(find_spec)\n",
       "        1    0.000    0.000    0.000    0.000 <frozen importlib._bootstrap_external>:1628(path_hook_for_FileFinder)\n",
       "        7    0.000    0.000    0.000    0.000 <frozen importlib._bootstrap>:826(find_spec)\n",
       "        6    0.000    0.000    0.000    0.000 synchronize.py:232(__exit__)\n",
       "        1    0.000    0.000    0.000    0.000 typing.py:523(Optional)\n",
       "        2    0.000    0.000    0.000    0.000 common.py:292(is_fsspec_url)\n",
       "        8    0.000    0.000    0.000    0.000 construction.py:696(_sanitize_ndim)\n",
       "        3    0.000    0.000    0.000    0.000 {method 'manual_seed' of 'torch._C.Generator' objects}\n",
       "        6    0.000    0.000    0.000    0.000 <frozen importlib._bootstrap_external>:1040(__init__)\n",
       "        8    0.000    0.000    0.000    0.000 base.py:831(_reset_identity)\n",
       "        1    0.000    0.000    0.000    0.000 {method 'stream_reader' of 'zstd.ZstdDecompressor' objects}\n",
       "        1    0.000    0.000    0.000    0.000 {built-in method torch._C._get_schema}\n",
       "      144    0.000    0.000    0.000    0.000 {method 'rstrip' of 'str' objects}\n",
       "        1    0.000    0.000    0.000    0.000 typing.py:664(__init__)\n",
       "        8    0.000    0.000    0.000    0.000 config.py:688(_warn_if_deprecated)\n",
       "        2    0.000    0.000    0.000    0.000 <string>:2(__init__)\n",
       "        2    0.000    0.000    0.000    0.000 generic.py:4379(_set_is_copy)\n",
       "        2    0.000    0.000    0.000    0.000 construction.py:950(_validate_or_indexify_columns)\n",
       "        4    0.000    0.000    0.000    0.000 blocks.py:2716(new_block)\n",
       "        7    0.000    0.000    0.000    0.000 _collections_abc.py:315(__subclasshook__)\n",
       "        2    0.000    0.000    0.000    0.000 serialization.py:399(_is_path)\n",
       "        1    0.000    0.000    0.012    0.012 __init__.py:108(import_module)\n",
       "        2    0.000    0.000    0.002    0.001 std.py:326(status_printer)\n",
       "        2    0.000    0.000    0.000    0.000 base.py:7688(maybe_extract_name)\n",
       "       16    0.000    0.000    0.000    0.000 {built-in method builtins.issubclass}\n",
       "        7    0.000    0.000    0.000    0.000 {built-in method _imp.is_frozen}\n",
       "        1    0.000    0.000    0.029    0.029 __init__.py:734(device_count)\n",
       "        2    0.000    0.000    0.000    0.000 base.py:609(_dtype_to_subclass)\n",
       "        2    0.000    0.000    0.000    0.000 pathlib.py:608(_format_parsed_parts)\n",
       "        2    0.000    0.000    0.000    0.000 indexing.py:2765(check_dict_or_set_indexers)\n",
       "        1    0.000    0.000    0.007    0.007 <frozen importlib._bootstrap_external>:1174(create_module)\n",
       "        2    0.000    0.000    0.000    0.000 format.py:885(__init__)\n",
       "        2    0.000    0.000    0.000    0.000 indexing.py:2752(need_slice)\n",
       "        4    0.000    0.000    0.000    0.000 selectors.py:235(register)\n",
       "        2    0.000    0.000    0.000    0.000 serialization.py:538(_check_dill_version)\n",
       "        2    0.000    0.000    0.000    0.000 __init__.py:7(is_available)\n",
       "        2    0.000    0.000    0.000    0.000 signal.py:24(_int_to_enum)\n",
       "        2    0.000    0.000    0.000    0.000 range.py:1009(__getitem__)\n",
       "        6    0.000    0.000    0.000    0.000 <frozen importlib._bootstrap_external>:510(_get_cached)\n",
       "        4    0.000    0.000    0.000    0.000 {built-in method _weakref.proxy}\n",
       "        6    0.000    0.000    0.000    0.000 common.py:1270(is_1d_only_ea_dtype)\n",
       "        1    0.000    0.000    0.000    0.000 {method '__exit__' of 'zstd.ZstdDecompressionReader' objects}\n",
       "        6    0.000    0.000    0.000    0.000 common.py:568(require_length_match)\n",
       "        7    0.000    0.000    0.000    0.000 __init__.py:222(is_initialized)\n",
       "       15    0.000    0.000    0.000    0.000 <frozen importlib._bootstrap_external>:84(_unpack_uint32)\n",
       "       28    0.000    0.000    0.000    0.000 <frozen importlib._bootstrap>:897(__exit__)\n",
       "        3    0.000    0.000    0.000    0.000 typing.py:137(_type_convert)\n",
       "        1    0.000    0.000    0.000    0.000 platform.py:1100(python_implementation)\n",
       "        2    0.000    0.000    0.000    0.000 serialization.py:558(_check_save_filelike)\n",
       "        3    0.000    0.000    0.000    0.000 __init__.py:439(get_device_properties)\n",
       "        1    0.000    0.000    0.000    0.000 parse.py:426(_checknetloc)\n",
       "        2    0.000    0.000    0.000    0.000 format.py:582(_calc_max_cols_fitted)\n",
       "        1    0.000    0.000    0.001    0.001 __init__.py:1252(_register_triton_kernels)\n",
       "        2    0.000    0.000    0.000    0.000 inference.py:334(is_hashable)\n",
       "       11    0.000    0.000    0.000    0.000 threading.py:1183(daemon)\n",
       "        6    0.000    0.000    0.000    0.000 __init__.py:470(_parse_letter_version)\n",
       "        2    0.000    0.000    0.000    0.000 pathlib.py:239(splitroot)\n",
       "      122    0.000    0.000    0.000    0.000 {function _ParameterMeta.__instancecheck__ at 0x7f7449b2f250}\n",
       "        2    0.000    0.000    0.000    0.000 optimizer.py:575(pack_group)\n",
       "        2    0.000    0.000    0.000    0.000 typing_extensions.py:169(_should_collect_from_parameters)\n",
       "        2    0.000    0.000    0.000    0.000 {built-in method sys.intern}\n",
       "        2    0.000    0.000    0.000    0.000 enum.py:359(__call__)\n",
       "        2    0.000    0.000    0.000    0.000 common.py:372(apply_if_callable)\n",
       "        9    0.000    0.000    0.000    0.000 <frozen importlib._bootstrap>:1053(_handle_fromlist)\n",
       "        6    0.000    0.000    0.000    0.000 _weakrefset.py:63(__iter__)\n",
       "        8    0.000    0.000    0.000    0.000 _weakrefset.py:39(_remove)\n",
       "        2    0.000    0.000    0.000    0.000 construction.py:196(mgr_to_mgr)\n",
       "       11    0.000    0.000    0.000    0.000 <frozen importlib._bootstrap>:391(cached)\n",
       "        6    0.000    0.000    0.000    0.000 queues.py:140(close)\n",
       "        4    0.000    0.000    0.000    0.000 construction.py:916(<genexpr>)\n",
       "        1    0.000    0.000    0.000    0.000 typing.py:267(_remove_dups_flatten)\n",
       "       71    0.000    0.000    0.000    0.000 __future__.py:20(get_overwrite_module_params_on_conversion)\n",
       "        6    0.000    0.000    0.000    0.000 common.py:188(_expand_user)\n",
       "        2    0.000    0.000    0.001    0.001 inference.py:306(is_named_tuple)\n",
       "        1    0.000    0.000    0.002    0.002 __init__.py:340(__init__)\n",
       "        1    0.000    0.000    0.000    0.000 __init__.py:149(__lt__)\n",
       "        2    0.000    0.000    0.001    0.000 context.py:90(Event)\n",
       "        4    0.000    0.000    0.000    0.000 selectors.py:348(__init__)\n",
       "        4    0.000    0.000    0.000    0.000 selectors.py:352(register)\n",
       "        4    0.000    0.000    0.000    0.000 process.py:61(_cleanup)\n",
       "        2    0.000    0.000    0.000    0.000 utils.py:144(__init__)\n",
       "       33    0.000    0.000    0.000    0.000 {method 'split' of 'str' objects}\n",
       "        1    0.000    0.000    0.000    0.000 __init__.py:196(_check_cubins)\n",
       "        2    0.000    0.000    0.000    0.000 __init__.py:384(__getattr__)\n",
       "        1    0.000    0.000    0.000    0.000 signal.py:60(getsignal)\n",
       "        2    0.000    0.000    0.000    0.000 context.py:75(Condition)\n",
       "        6    0.000    0.000    0.000    0.000 csvs.py:149(has_mi_columns)\n",
       "        1    0.000    0.000    0.001    0.001 context.py:70(RLock)\n",
       "        4    0.000    0.000    0.000    0.000 selectors.py:269(close)\n",
       "      7/5    0.000    0.000    0.009    0.002 <frozen importlib._bootstrap>:233(_call_with_frames_removed)\n",
       "        1    0.000    0.000    0.029    0.029 __init__.py:683(_device_count_nvml)\n",
       "        7    0.000    0.000    0.000    0.000 <frozen importlib._bootstrap>:357(__init__)\n",
       "        8    0.000    0.000    0.002    0.000 missing.py:101(isna)\n",
       "      2/1    0.000    0.000    0.000    0.000 typing.py:401(__getitem__)\n",
       "        2    0.000    0.000    0.000    0.000 std.py:567(_get_free_pos)\n",
       "        5    0.000    0.000    0.000    0.000 <frozen importlib._bootstrap_external>:542(_check_name_wrapper)\n",
       "        4    0.000    0.000    0.000    0.000 std.py:1283(fp_write)\n",
       "        1    0.000    0.000    0.000    0.000 __init__.py:1786(registerOp)\n",
       "        2    0.000    0.000    0.000    0.000 enum.py:678(__new__)\n",
       "       26    0.000    0.000    0.000    0.000 {built-in method _weakref._remove_dead_weakref}\n",
       "        4    0.000    0.000    0.000    0.000 util.py:461(close_fds)\n",
       "        1    0.000    0.000    0.000    0.000 {function Random.seed at 0x7f752bcbfe20}\n",
       "        2    0.000    0.000    0.000    0.000 base.py:591(_ensure_array)\n",
       "        2    0.000    0.000    0.000    0.000 __init__.py:422(get_device_capability)\n",
       "        6    0.000    0.000    0.000    0.000 os.py:772(getenv)\n",
       "       30    0.000    0.000    0.000    0.000 context.py:187(get_context)\n",
       "        4    0.000    0.000    0.000    0.000 _weakrefset.py:53(_commit_removals)\n",
       "        2    0.000    0.000    0.000    0.000 dataloader.py:485(check_worker_number_rationality)\n",
       "        4    0.000    0.000    0.000    0.000 dataloader.py:1374(_mark_worker_as_unavailable)\n",
       "        6    0.000    0.000    0.000    0.000 <frozen importlib._bootstrap>:173(__exit__)\n",
       "        2    0.000    0.000    0.000    0.000 synchronize.py:212(__init__)\n",
       "       29    0.000    0.000    0.000    0.000 process.py:37(current_process)\n",
       "        2    0.000    0.000    0.000    0.000 __init__.py:743(get_arch_list)\n",
       "       13    0.000    0.000    0.000    0.000 typing.py:705(__eq__)\n",
       "        1    0.000    0.000    0.000    0.000 _monitor.py:30(__init__)\n",
       "       29    0.000    0.000    0.000    0.000 context.py:197(get_start_method)\n",
       "        4    0.000    0.000    0.000    0.000 {method 'copy' of 'dict' objects}\n",
       "        4    0.000    0.000    0.000    0.000 generic.py:339(_from_mgr)\n",
       "        1    0.000    0.000    0.000    0.000 random.py:119(cb)\n",
       "        4    0.000    0.000    0.000    0.000 synchronize.py:327(is_set)\n",
       "        1    0.000    0.000    0.000    0.000 signal.py:54(signal)\n",
       "        4    0.000    0.000    0.000    0.000 blocks.py:2795(extend_blocks)\n",
       "        1    0.000    0.000    0.000    0.000 typing_extensions.py:181(_collect_type_vars)\n",
       "       40    0.000    0.000    0.000    0.000 {built-in method _imp.acquire_lock}\n",
       "        5    0.000    0.000    0.000    0.000 <frozen importlib._bootstrap_external>:618(_validate_timestamp_pyc)\n",
       "       14    0.000    0.000    0.000    0.000 {method 'encode' of 'str' objects}\n",
       "        2    0.000    0.000    0.005    0.003 csvs.py:272(_save)\n",
       "        1    0.000    0.000    0.000    0.000 popen_fork.py:1(<module>)\n",
       "        1    0.000    0.000    0.001    0.001 std.py:89(__init__)\n",
       "        8    0.000    0.000    0.000    0.000 std.py:109(__enter__)\n",
       "       40    0.000    0.000    0.000    0.000 {built-in method _imp.release_lock}\n",
       "        4    0.000    0.000    0.000    0.000 csvs.py:211(_has_aliases)\n",
       "        8    0.000    0.000    0.000    0.000 config.py:273(__call__)\n",
       "        9    0.000    0.000    0.000    0.000 __init__.py:186(<genexpr>)\n",
       "        8    0.000    0.000    0.000    0.000 synchronize.py:125(__init__)\n",
       "        1    0.000    0.000    0.001    0.001 std.py:115(create_mp_lock)\n",
       "       16    0.000    0.000    0.000    0.000 process.py:99(_check_closed)\n",
       "        2    0.000    0.000    0.001    0.000 synchronize.py:323(__init__)\n",
       "        1    0.000    0.000    0.000    0.000 random.py:128(seed)\n",
       "        5    0.000    0.000    0.000    0.000 <frozen importlib._bootstrap>:48(_new_module)\n",
       "        5    0.000    0.000    0.000    0.000 {built-in method builtins.min}\n",
       "        1    0.000    0.000    0.000    0.000 queues.py:35(Queue)\n",
       "        4    0.000    0.000    0.000    0.000 _weakrefset.py:27(__exit__)\n",
       "        1    0.000    0.000    4.935    4.935 module.py:1054(to)\n",
       "       13    0.000    0.000    0.000    0.000 range.py:999(__len__)\n",
       "        4    0.000    0.000    0.000    0.000 selectors.py:210(__init__)\n",
       "        8    0.000    0.000    0.000    0.000 typing.py:935(_is_dunder)\n",
       "        6    0.000    0.000    0.000    0.000 managers.py:2177(_grouping_func)\n",
       "        6    0.000    0.000    0.000    0.000 {method 'remove' of 'set' objects}\n",
       "        2    0.000    0.000    0.000    0.000 {built-in method posix.getcwd}\n",
       "        1    0.000    0.000    0.000    0.000 synchronize.py:46(SemLock)\n",
       "       10    0.000    0.000    0.000    0.000 base.py:909(__len__)\n",
       "        8    0.000    0.000    0.000    0.000 <frozen importlib._bootstrap_external>:180(_path_isabs)\n",
       "        6    0.000    0.000    0.000    0.000 utils.py:83(wrapper_setattr)\n",
       "        2    0.000    0.000    0.000    0.000 managers.py:948(from_blocks)\n",
       "        2    0.000    0.000    0.001    0.000 threading.py:1064(join)\n",
       "        2    0.000    0.000    0.000    0.000 csvs.py:215(_need_to_save_header)\n",
       "        2    0.000    0.000    0.000    0.000 optimizer.py:577(<dictcomp>)\n",
       "        6    0.000    0.000    0.000    0.000 synchronize.py:144(__init__)\n",
       "        1    0.000    0.000    0.000    0.000 __init__.py:555(_parse_visible_devices)\n",
       "        1    0.000    0.000    0.001    0.001 util.py:73(find_spec)\n",
       "        2    0.000    0.000    0.000    0.000 utils.py:197(_supports_unicode)\n",
       "        1    0.000    0.000    0.000    0.000 queues.py:337(SimpleQueue)\n",
       "        2    0.000    0.000    0.001    0.000 pathlib.py:1092(stat)\n",
       "        2    0.000    0.000    0.000    0.000 {built-in method posix.sched_getaffinity}\n",
       "       16    0.000    0.000    0.000    0.000 {method 'discard' of 'set' objects}\n",
       "        8    0.000    0.000    0.000    0.000 std.py:112(__exit__)\n",
       "        2    0.000    0.000    0.000    0.000 csvs.py:190(data_index)\n",
       "        5    0.000    0.000    0.000    0.000 construction.py:915(<genexpr>)\n",
       "        6    0.000    0.000    0.000    0.000 <frozen importlib._bootstrap>:165(__init__)\n",
       "       25    0.000    0.000    0.000    0.000 {built-in method posix.fspath}\n",
       "        6    0.000    0.000    0.000    0.000 synchronize.py:97(__exit__)\n",
       "        4    0.000    0.000    0.000    0.000 utils.py:118(disable_on_exception)\n",
       "        1    0.000    0.000    0.000    0.000 __init__.py:207(<listcomp>)\n",
       "        4    0.000    0.000    0.000    0.000 _weakrefset.py:21(__enter__)\n",
       "       25    0.000    0.000    0.000    0.000 {method 'keys' of 'dict' objects}\n",
       "        6    0.000    0.000    0.000    0.000 std.py:225(__init__)\n",
       "        1    0.000    0.000    0.000    0.000 __init__.py:39(__set__)\n",
       "        2    0.000    0.000    0.000    0.000 construction.py:1070(<listcomp>)\n",
       "       12    0.000    0.000    0.000    0.000 {method 'pop' of 'dict' objects}\n",
       "        2    0.000    0.000    0.000    0.000 csvs.py:121(_initialize_index_label)\n",
       "        4    0.000    0.000    0.000    0.000 selectors.py:21(_fileobj_to_fd)\n",
       "        2    0.000    0.000    0.000    0.000 threading.py:568(set)\n",
       "        3    0.000    0.000    0.000    0.000 typing.py:515(<genexpr>)\n",
       "        1    0.000    0.000    0.000    0.000 typing.py:947(__init__)\n",
       "        2    0.000    0.000    0.000    0.000 queue.py:206(_init)\n",
       "        6    0.000    0.000    0.000    0.000 frame.py:4017(_get_column_array)\n",
       "        2    0.000    0.000    0.000    0.000 printing.py:507(__init__)\n",
       "        1    0.000    0.000    0.000    0.000 typing.py:253(_deduplicate)\n",
       "        2    0.000    0.000    0.001    0.000 std.py:648(get_lock)\n",
       "        2    0.000    0.000    0.000    0.000 serialization.py:404(__init__)\n",
       "        2    0.000    0.000    0.000    0.000 util.py:229(cancel)\n",
       "        1    0.000    0.000    0.000    0.000 __init__.py:407(get_device_name)\n",
       "        1    0.000    0.000    0.000    0.000 __init__.py:23(_running_with_deploy)\n",
       "        8    0.000    0.000    0.000    0.000 __init__.py:348(<genexpr>)\n",
       "        6    0.000    0.000    0.000    0.000 blocks.py:1253(iget)\n",
       "        8    0.000    0.000    0.000    0.000 construction.py:758(_maybe_repeat)\n",
       "        2    0.000    0.000    0.000    0.000 _weakrefset.py:111(remove)\n",
       "        3    0.000    0.000    0.000    0.000 {built-in method torch._C._cuda_isInBadFork}\n",
       "       10    0.000    0.000    0.000    0.000 util.py:44(sub_debug)\n",
       "        1    0.000    0.000    0.000    0.000 synchronize.py:360(Barrier)\n",
       "        2    0.000    0.000    0.000    0.000 {method 'match' of 're.Pattern' objects}\n",
       "       10    0.000    0.000    0.000    0.000 {method 'rfind' of 'str' objects}\n",
       "        2    0.000    0.000    0.002    0.001 common.py:151(__exit__)\n",
       "        2    0.000    0.000    0.000    0.000 generic.py:592(_get_block_manager_axis)\n",
       "        2    0.000    0.000    0.000    0.000 flags.py:87(allows_duplicate_labels)\n",
       "        4    0.000    0.000    0.000    0.000 _weakrefset.py:17(__init__)\n",
       "       13    0.000    0.000    0.000    0.000 <frozen importlib._bootstrap_external>:71(_relax_case)\n",
       "        2    0.000    0.000    0.000    0.000 codecs.py:186(__init__)\n",
       "        1    0.000    0.000    0.000    0.000 {built-in method posix.putenv}\n",
       "        4    0.000    0.000    0.000    0.000 blocks.py:219(_can_consolidate)\n",
       "        2    0.000    0.000    0.000    0.000 typing.py:714(__hash__)\n",
       "        4    0.000    0.000    0.000    0.000 {built-in method math.ceil}\n",
       "        6    0.000    0.000    0.000    0.000 <frozen importlib._bootstrap>:412(has_location)\n",
       "        6    0.000    0.000    0.000    0.000 csvs.py:101(na_rep)\n",
       "        3    0.000    0.000    0.000    0.000 typing.py:1022(<genexpr>)\n",
       "        2    0.000    0.000    0.000    0.000 {built-in method _imp.is_builtin}\n",
       "        2    0.000    0.000    0.000    0.000 utils.py:87(__init__)\n",
       "        2    0.000    0.000    0.000    0.000 common.py:1117(_maybe_memory_map)\n",
       "        2    0.000    0.000    0.000    0.000 indexing.py:1165(_check_deprecated_callable_usage)\n",
       "       15    0.000    0.000    0.000    0.000 {built-in method from_bytes}\n",
       "        6    0.000    0.000    0.000    0.000 csvs.py:113(header)\n",
       "        4    0.000    0.000    0.000    0.000 selectors.py:276(_key_from_fd)\n",
       "        1    0.000    0.000    0.000    0.000 typing.py:380(__repr__)\n",
       "        2    0.000    0.000    0.000    0.000 {built-in method builtins.locals}\n",
       "        4    0.000    0.000    0.000    0.000 selectors.py:216(_fileobj_lookup)\n",
       "        4    0.000    0.000    0.000    0.000 process.py:205(daemon)\n",
       "        2    0.000    0.000    0.000    0.000 format.py:593(_calc_max_rows_fitted)\n",
       "        2    0.000    0.000    0.000    0.000 csvs.py:204(nlevels)\n",
       "        4    0.000    0.000    0.000    0.000 dataloader.py:444(_index_sampler)\n",
       "       10    0.000    0.000    0.000    0.000 multiarray.py:1080(copyto)\n",
       "        1    0.000    0.000    0.000    0.000 os.py:683(__setitem__)\n",
       "        6    0.000    0.000    0.000    0.000 dataloader.py:440(_auto_collation)\n",
       "        4    0.000    0.000    0.000    0.000 std.py:1150(_comparable)\n",
       "        2    0.000    0.000    0.000    0.000 std.py:570(<setcomp>)\n",
       "        4    0.000    0.000    0.000    0.000 {built-in method select.poll}\n",
       "        4    0.000    0.000    0.000    0.000 utils.py:70(__getattr__)\n",
       "        4    0.000    0.000    0.000    0.000 connection.py:933(<listcomp>)\n",
       "        4    0.000    0.000    0.000    0.000 format.py:626(_is_in_terminal)\n",
       "        2    0.000    0.000    0.000    0.000 common.py:515(get_compression_method)\n",
       "        4    0.000    0.000    0.000    0.000 selectors.py:203(__exit__)\n",
       "       18    0.000    0.000    0.000    0.000 {method 'lower' of 'str' objects}\n",
       "        4    0.000    0.000    0.000    0.000 utils.py:153(__eq__)\n",
       "        1    0.000    0.000    0.000    0.000 <frozen importlib._bootstrap_external>:1182(exec_module)\n",
       "        4    0.000    0.000    0.000    0.000 {method 'pop' of 'list' objects}\n",
       "        2    0.000    0.000    0.000    0.000 utils.py:56(__eq__)\n",
       "        6    0.000    0.000    0.000    0.000 base.py:84(<genexpr>)\n",
       "        2    0.000    0.000    0.000    0.000 csvs.py:174(_initialize_chunksize)\n",
       "        2    0.000    0.000    0.000    0.000 inference.py:105(is_file_like)\n",
       "        2    0.000    0.000    0.000    0.000 {built-in method utcfromtimestamp}\n",
       "        2    0.000    0.000    0.000    0.000 dataclasses.py:1210(is_dataclass)\n",
       "        2    0.000    0.000    0.000    0.000 synchronize.py:235(_make_methods)\n",
       "        4    0.000    0.000    0.000    0.000 std.py:1154(__hash__)\n",
       "        4    0.000    0.000    0.000    0.000 process.py:189(name)\n",
       "        4    0.000    0.000    0.000    0.000 connection.py:130(__del__)\n",
       "        2    0.000    0.000    0.000    0.000 sampler.py:168(__len__)\n",
       "        3    0.000    0.000    0.000    0.000 {method 'extend' of 'list' objects}\n",
       "        2    0.000    0.000    0.000    0.000 range.py:280(start)\n",
       "        4    0.000    0.000    0.000    0.000 {method 'register' of 'select.poll' objects}\n",
       "        2    0.000    0.000    0.000    0.000 optimizer.py:583(<listcomp>)\n",
       "        1    0.000    0.000    0.000    0.000 popen_fork.py:12(Popen)\n",
       "        1    0.000    0.000    0.000    0.000 __init__.py:1242(__init__)\n",
       "        2    0.000    0.000    0.000    0.000 threading.py:389(notify_all)\n",
       "        1    0.000    0.000    0.012    0.012 <frozen importlib._bootstrap>:1038(_gcd_import)\n",
       "        4    0.000    0.000    0.000    0.000 selectors.py:64(__init__)\n",
       "        5    0.000    0.000    0.000    0.000 <frozen importlib._bootstrap_external>:1065(get_filename)\n",
       "       12    0.000    0.000    0.000    0.000 {method 'replace' of 'str' objects}\n",
       "        2    0.000    0.000    0.000    0.000 utils.py:183(_is_utf)\n",
       "        2    0.000    0.000    0.000    0.000 format.py:526(_initialize_sparsify)\n",
       "        2    0.000    0.000    0.000    0.000 pathlib.py:600(_from_parsed_parts)\n",
       "        2    0.000    0.000    0.000    0.000 construction.py:922(<listcomp>)\n",
       "        6    0.000    0.000    0.000    0.000 csvs.py:109(decimal)\n",
       "        1    0.000    0.000    0.000    0.000 synchronize.py:210(Condition)\n",
       "        2    0.000    0.000    0.000    0.000 dataloader.py:1102(<listcomp>)\n",
       "        8    0.000    0.000    0.000    0.000 <frozen importlib._bootstrap_external>:1500(<genexpr>)\n",
       "        2    0.000    0.000    0.000    0.000 {built-in method _codecs.lookup_error}\n",
       "        3    0.000    0.000    0.000    0.000 _utils.py:9(_get_device_index)\n",
       "        6    0.000    0.000    0.000    0.000 managers.py:196(blklocs)\n",
       "        1    0.000    0.000    0.000    0.000 random.py:119(__init__)\n",
       "        1    0.000    0.000    0.000    0.000 {built-in method builtins.delattr}\n",
       "        2    0.000    0.000    0.000    0.000 <string>:1(<lambda>)\n",
       "        6    0.000    0.000    0.000    0.000 csvs.py:105(float_format)\n",
       "        2    0.000    0.000    0.000    0.000 flags.py:55(allows_duplicate_labels)\n",
       "        2    0.000    0.000    0.000    0.000 iostream.py:364(fileno)\n",
       "        1    0.000    0.000    0.000    0.000 _collections_abc.py:828(__contains__)\n",
       "        4    0.000    0.000    0.000    0.000 {built-in method posix.waitstatus_to_exitcode}\n",
       "        4    0.000    0.000    0.000    0.000 csvs.py:117(index)\n",
       "        1    0.000    0.000    0.000    0.000 synchronize.py:186(__init__)\n",
       "        2    0.000    0.000    0.000    0.000 dataloader.py:388(multiprocessing_context)\n",
       "        1    0.000    0.000    0.000    0.000 _monitor.py:94(report)\n",
       "        2    0.000    0.000    0.000    0.000 base.py:1671(name)\n",
       "        1    0.000    0.000    0.000    0.000 _optional.py:74(get_version)\n",
       "        4    0.000    0.000    0.000    0.000 {built-in method builtins.hash}\n",
       "        6    0.000    0.000    0.000    0.000 {method 'clear' of 'collections.deque' objects}\n",
       "        4    0.000    0.000    0.000    0.000 {method 'clear' of 'dict' objects}\n",
       "        2    0.000    0.000    0.000    0.000 csvs.py:143(_initialize_quotechar)\n",
       "        2    0.000    0.000    0.000    0.000 std.py:1144(__del__)\n",
       "        7    0.000    0.000    0.000    0.000 __init__.py:211(<genexpr>)\n",
       "        1    0.000    0.000    0.000    0.000 __init__.py:368(_FuncPtr)\n",
       "        1    0.000    0.000    0.000    0.000 <frozen importlib._bootstrap_external>:1163(__init__)\n",
       "        1    0.000    0.000    0.000    0.000 {built-in method _signal.signal}\n",
       "        2    0.000    0.000    0.000    0.000 {built-in method torch._C._cuda_getArchFlags}\n",
       "        2    0.000    0.000    0.000    0.000 format.py:494(is_truncated_horizontally)\n",
       "        4    0.000    0.000    0.000    0.000 parse.py:111(_noop)\n",
       "        1    0.000    0.000    0.000    0.000 <frozen importlib._bootstrap>:968(_sanity_check)\n",
       "        2    0.000    0.000    0.000    0.000 {method 'difference' of 'set' objects}\n",
       "        1    0.000    0.000    0.000    0.000 __init__.py:78(get_calls)\n",
       "        2    0.000    0.000    0.000    0.000 format.py:531(_initialize_formatters)\n",
       "        4    0.000    0.000    0.000    0.000 generic.py:405(flags)\n",
       "        1    0.000    0.000    0.000    0.000 {built-in method _ctypes.byref}\n",
       "        1    0.000    0.000    0.000    0.000 <frozen importlib._bootstrap_external>:164(_path_isdir)\n",
       "        5    0.000    0.000    0.000    0.000 <frozen importlib._bootstrap_external>:874(create_module)\n",
       "        4    0.000    0.000    0.000    0.000 {method 'upper' of 'str' objects}\n",
       "        1    0.000    0.000    0.000    0.000 queues.py:294(JoinableQueue)\n",
       "        6    0.000    0.000    0.000    0.000 {method '__exit__' of '_multiprocessing.SemLock' objects}\n",
       "        2    0.000    0.000    0.000    0.000 serialization.py:407(__enter__)\n",
       "        1    0.000    0.000    0.000    0.000 {method 'disable' of '_lsprof.Profiler' objects}\n",
       "        1    0.000    0.000    0.000    0.000 {method 'find' of 'str' objects}\n",
       "        4    0.000    0.000    0.000    0.000 {method 'reverse' of 'list' objects}\n",
       "        1    0.000    0.000    0.000    0.000 synchronize.py:321(Event)\n",
       "        2    0.000    0.000    0.000    0.000 utils.py:213(_screen_shape_wrapper)\n",
       "        2    0.000    0.000    0.000    0.000 format.py:498(is_truncated_vertically)\n",
       "        4    0.000    0.000    0.000    0.000 selectors.py:200(__enter__)\n",
       "        2    0.000    0.000    0.000    0.000 {built-in method _stat.S_ISDIR}\n",
       "        2    0.000    0.000    0.000    0.000 managers.py:344(<dictcomp>)\n",
       "        2    0.000    0.000    0.000    0.000 generic.py:363(attrs)\n",
       "        4    0.000    0.000    0.000    0.000 __init__.py:534(<lambda>)\n",
       "        2    0.000    0.000    0.000    0.000 __init__.py:508(_parse_local_version)\n",
       "        2    0.000    0.000    0.000    0.000 {method 'lstrip' of 'str' objects}\n",
       "        1    0.000    0.000    0.000    0.000 {built-in method torch._C._cuda_getCompiledVersion}\n",
       "        2    0.000    0.000    0.000    0.000 {method '_is_mine' of '_multiprocessing.SemLock' objects}\n",
       "        2    0.000    0.000    0.000    0.000 range.py:298(stop)\n",
       "        2    0.000    0.000    0.000    0.000 base.py:1979(nlevels)\n",
       "        2    0.000    0.000    0.000    0.000 {method 'locked' of '_thread.lock' objects}\n",
       "        2    0.000    0.000    0.000    0.000 {method 'setter' of 'property' objects}\n",
       "        1    0.000    0.000    0.000    0.000 {built-in method _imp.exec_dynamic}\n",
       "        1    0.000    0.000    0.000    0.000 synchronize.py:123(Semaphore)\n",
       "        2    0.000    0.000    0.000    0.000 common.py:148(__enter__)\n",
       "        2    0.000    0.000    0.000    0.000 {method 'strip' of 'str' objects}\n",
       "        1    0.000    0.000    0.000    0.000 synchronize.py:142(BoundedSemaphore)\n",
       "        1    0.000    0.000    0.000    0.000 std.py:97(<listcomp>)\n",
       "        1    0.000    0.000    0.000    0.000 __init__.py:16(flags_frozen)\n",
       "        2    0.000    0.000    0.000    0.000 format.py:612(_adjust_max_rows)\n",
       "        1    0.000    0.000    0.000    0.000 {built-in method _signal.getsignal}\n",
       "        1    0.000    0.000    0.000    0.000 {built-in method torch._C._set_cudnn_benchmark}\n",
       "        1    0.000    0.000    0.000    0.000 synchronize.py:159(Lock)\n",
       "        1    0.000    0.000    0.000    0.000 synchronize.py:184(RLock)\n",
       "        2    0.000    0.000    0.000    0.000 range.py:315(step)\n",
       "        2    0.000    0.000    0.000    0.000 __init__.py:96(<lambda>)\n",
       "        2    0.000    0.000    0.000    0.000 {method 'getvalue' of '_io.BytesIO' objects}\n",
       "        2    0.000    0.000    0.000    0.000 std.py:1298(<lambda>)\n",
       "        1    0.000    0.000    0.000    0.000 tz.py:74(utcoffset)\n",
       "        1    0.000    0.000    0.000    0.000 {built-in method atexit.register}"
      ]
     },
     "metadata": {},
     "output_type": "display_data"
    }
   ],
   "source": [
    "%%prun\n",
    "\n",
    "# 学習・検証を実行する\n",
    "num_epochs= 1  \n",
    "train_model(net, dataloaders_dict, criterion, optimizer, num_epochs=num_epochs)"
   ]
  },
  {
   "cell_type": "markdown",
   "metadata": {
    "id": "KAXU63BxJvlP"
   },
   "source": [
    "以上"
   ]
  },
  {
   "cell_type": "code",
   "execution_count": null,
   "metadata": {},
   "outputs": [],
   "source": []
  },
  {
   "cell_type": "code",
   "execution_count": null,
   "metadata": {},
   "outputs": [],
   "source": []
  },
  {
   "cell_type": "code",
   "execution_count": null,
   "metadata": {},
   "outputs": [],
   "source": []
  }
 ],
 "metadata": {
  "colab": {
   "collapsed_sections": [],
   "name": "2-7_SSD_training.ipynb",
   "provenance": []
  },
  "kernelspec": {
   "display_name": "Python 3 (ipykernel)",
   "language": "python",
   "name": "python3"
  },
  "language_info": {
   "codemirror_mode": {
    "name": "ipython",
    "version": 3
   },
   "file_extension": ".py",
   "mimetype": "text/x-python",
   "name": "python",
   "nbconvert_exporter": "python",
   "pygments_lexer": "ipython3",
   "version": "3.10.13"
  }
 },
 "nbformat": 4,
 "nbformat_minor": 4
}
